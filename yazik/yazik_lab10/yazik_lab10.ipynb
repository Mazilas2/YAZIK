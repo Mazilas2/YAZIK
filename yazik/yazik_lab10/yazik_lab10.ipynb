{
 "cells": [
  {
   "cell_type": "markdown",
   "metadata": {},
   "source": [
    "## Практическая работа №10\n",
    "## Выделение ключевых слов"
   ]
  },
  {
   "cell_type": "markdown",
   "metadata": {},
   "source": [
    "### Решение:\n",
    "1. Загрузка данных\n",
    "Загрузить файл с помощью библиотеки для чтения pdf файлов\n",
    "(PyPDF2, PDFMiner и пр.). Для разделения текста на отдельные статьи\n",
    "можно опираться на УДК (использовать в качестве разделителя) или\n",
    "распарсить оглавление и каждую статью определять в диапазоне\n",
    "страниц из этого оглавления."
   ]
  },
  {
   "cell_type": "code",
   "execution_count": 1,
   "metadata": {},
   "outputs": [
    {
     "name": "stdout",
     "output_type": "stream",
     "text": [
      "Collecting PyPDF2\n",
      "  Downloading pypdf2-3.0.1-py3-none-any.whl (232 kB)\n",
      "\u001b[2K     \u001b[90m━━━━━━━━━━━━━━━━━━━━━━━━━━━━━━━━━━━━━━━\u001b[0m \u001b[32m232.6/232.6 kB\u001b[0m \u001b[31m6.4 MB/s\u001b[0m eta \u001b[36m0:00:00\u001b[0ma \u001b[36m0:00:01\u001b[0m\n",
      "\u001b[?25h\u001b[33mDEPRECATION: textract 1.6.5 has a non-standard dependency specifier extract-msg<=0.29.*. pip 23.3 will enforce this behaviour change. A possible replacement is to upgrade to a newer version of textract or contact the author to suggest that they release a version with a conforming dependency specifiers. Discussion can be found at https://github.com/pypa/pip/issues/12063\u001b[0m\u001b[33m\n",
      "\u001b[0mInstalling collected packages: PyPDF2\n",
      "Successfully installed PyPDF2-3.0.1\n",
      "Note: you may need to restart the kernel to use updated packages.\n"
     ]
    }
   ],
   "source": [
    "%pip install PyPDF2"
   ]
  },
  {
   "cell_type": "code",
   "execution_count": 7,
   "metadata": {},
   "outputs": [],
   "source": [
    "import PyPDF2\n",
    "import re\n",
    "import os\n",
    "\n",
    "data = []\n",
    "\n",
    "with open('./data/Математическое и информационное моделирование_2020 (1).pdf', 'rb') as f:\n",
    "    pdf = PyPDF2.PdfReader(f)\n",
    "    for page in pdf.pages:\n",
    "        text = page.extract_text()\n",
    "        data.append(text)"
   ]
  },
  {
   "cell_type": "code",
   "execution_count": 10,
   "metadata": {},
   "outputs": [],
   "source": [
    "# If there \"УДК\" then it start of new article\n",
    "\n",
    "articles = []\n",
    "article = []\n",
    "for page in data:\n",
    "    if 'УДК' in page:\n",
    "        articles.append(article)\n",
    "        article = []\n",
    "    article.append(page)\n",
    "\n",
    "# Remove first two empty articles\n",
    "articles = articles[2:]"
   ]
  },
  {
   "cell_type": "markdown",
   "metadata": {},
   "source": []
  }
 ],
 "metadata": {
  "kernelspec": {
   "display_name": "base",
   "language": "python",
   "name": "python3"
  },
  "language_info": {
   "codemirror_mode": {
    "name": "ipython",
    "version": 3
   },
   "file_extension": ".py",
   "mimetype": "text/x-python",
   "name": "python",
   "nbconvert_exporter": "python",
   "pygments_lexer": "ipython3",
   "version": "3.11.5"
  }
 },
 "nbformat": 4,
 "nbformat_minor": 2
}

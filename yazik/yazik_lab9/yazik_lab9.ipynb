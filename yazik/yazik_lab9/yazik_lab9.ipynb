{
 "cells": [
  {
   "cell_type": "markdown",
   "metadata": {},
   "source": [
    "## Практическая работа №9\n",
    "+ Язык программирования: Python\n",
    "+ Создать тематическую модель"
   ]
  },
  {
   "cell_type": "markdown",
   "metadata": {},
   "source": [
    "Решение:\n",
    "+ Загрузить библиотеку genism."
   ]
  },
  {
   "cell_type": "code",
   "execution_count": 1,
   "metadata": {},
   "outputs": [
    {
     "name": "stdout",
     "output_type": "stream",
     "text": [
      "Requirement already satisfied: gensim in /opt/conda/lib/python3.11/site-packages (4.3.0)\n",
      "Requirement already satisfied: numpy>=1.18.5 in /opt/conda/lib/python3.11/site-packages (from gensim) (1.25.2)\n",
      "Requirement already satisfied: scipy>=1.7.0 in /opt/conda/lib/python3.11/site-packages (from gensim) (1.11.1)\n",
      "Requirement already satisfied: smart-open>=1.8.1 in /opt/conda/lib/python3.11/site-packages (from gensim) (5.2.1)\n",
      "Requirement already satisfied: FuzzyTM>=0.4.0 in /opt/conda/lib/python3.11/site-packages (from gensim) (2.0.5)\n",
      "Requirement already satisfied: pandas in /opt/conda/lib/python3.11/site-packages (from FuzzyTM>=0.4.0->gensim) (2.0.3)\n",
      "Requirement already satisfied: pyfume in /opt/conda/lib/python3.11/site-packages (from FuzzyTM>=0.4.0->gensim) (0.2.25)\n",
      "Requirement already satisfied: python-dateutil>=2.8.2 in /opt/conda/lib/python3.11/site-packages (from pandas->FuzzyTM>=0.4.0->gensim) (2.8.2)\n",
      "Requirement already satisfied: pytz>=2020.1 in /opt/conda/lib/python3.11/site-packages (from pandas->FuzzyTM>=0.4.0->gensim) (2023.3.post1)\n",
      "Requirement already satisfied: tzdata>=2022.1 in /opt/conda/lib/python3.11/site-packages (from pandas->FuzzyTM>=0.4.0->gensim) (2023.3)\n",
      "Requirement already satisfied: simpful in /opt/conda/lib/python3.11/site-packages (from pyfume->FuzzyTM>=0.4.0->gensim) (2.11.0)\n",
      "Requirement already satisfied: fst-pso in /opt/conda/lib/python3.11/site-packages (from pyfume->FuzzyTM>=0.4.0->gensim) (1.8.1)\n",
      "Requirement already satisfied: six>=1.5 in /opt/conda/lib/python3.11/site-packages (from python-dateutil>=2.8.2->pandas->FuzzyTM>=0.4.0->gensim) (1.12.0)\n",
      "Requirement already satisfied: miniful in /opt/conda/lib/python3.11/site-packages (from fst-pso->pyfume->FuzzyTM>=0.4.0->gensim) (0.0.6)\n",
      "\u001b[33mDEPRECATION: textract 1.6.5 has a non-standard dependency specifier extract-msg<=0.29.*. pip 23.3 will enforce this behaviour change. A possible replacement is to upgrade to a newer version of textract or contact the author to suggest that they release a version with a conforming dependency specifiers. Discussion can be found at https://github.com/pypa/pip/issues/12063\u001b[0m\u001b[33m\n",
      "\u001b[0mNote: you may need to restart the kernel to use updated packages.\n",
      "Requirement already satisfied: pandarallel in /opt/conda/lib/python3.11/site-packages (1.6.5)\n",
      "Requirement already satisfied: dill>=0.3.1 in /opt/conda/lib/python3.11/site-packages (from pandarallel) (0.3.6)\n",
      "Requirement already satisfied: pandas>=1 in /opt/conda/lib/python3.11/site-packages (from pandarallel) (2.0.3)\n",
      "Requirement already satisfied: psutil in /opt/conda/lib/python3.11/site-packages (from pandarallel) (5.9.0)\n",
      "Requirement already satisfied: python-dateutil>=2.8.2 in /opt/conda/lib/python3.11/site-packages (from pandas>=1->pandarallel) (2.8.2)\n",
      "Requirement already satisfied: pytz>=2020.1 in /opt/conda/lib/python3.11/site-packages (from pandas>=1->pandarallel) (2023.3.post1)\n",
      "Requirement already satisfied: tzdata>=2022.1 in /opt/conda/lib/python3.11/site-packages (from pandas>=1->pandarallel) (2023.3)\n",
      "Requirement already satisfied: numpy>=1.21.0 in /opt/conda/lib/python3.11/site-packages (from pandas>=1->pandarallel) (1.25.2)\n",
      "Requirement already satisfied: six>=1.5 in /opt/conda/lib/python3.11/site-packages (from python-dateutil>=2.8.2->pandas>=1->pandarallel) (1.12.0)\n",
      "\u001b[33mDEPRECATION: textract 1.6.5 has a non-standard dependency specifier extract-msg<=0.29.*. pip 23.3 will enforce this behaviour change. A possible replacement is to upgrade to a newer version of textract or contact the author to suggest that they release a version with a conforming dependency specifiers. Discussion can be found at https://github.com/pypa/pip/issues/12063\u001b[0m\u001b[33m\n",
      "\u001b[0mNote: you may need to restart the kernel to use updated packages.\n",
      "Requirement already satisfied: pandas in /opt/conda/lib/python3.11/site-packages (2.0.3)\n",
      "Requirement already satisfied: python-dateutil>=2.8.2 in /opt/conda/lib/python3.11/site-packages (from pandas) (2.8.2)\n",
      "Requirement already satisfied: pytz>=2020.1 in /opt/conda/lib/python3.11/site-packages (from pandas) (2023.3.post1)\n",
      "Requirement already satisfied: tzdata>=2022.1 in /opt/conda/lib/python3.11/site-packages (from pandas) (2023.3)\n",
      "Requirement already satisfied: numpy>=1.21.0 in /opt/conda/lib/python3.11/site-packages (from pandas) (1.25.2)\n",
      "Requirement already satisfied: six>=1.5 in /opt/conda/lib/python3.11/site-packages (from python-dateutil>=2.8.2->pandas) (1.12.0)\n",
      "\u001b[33mDEPRECATION: textract 1.6.5 has a non-standard dependency specifier extract-msg<=0.29.*. pip 23.3 will enforce this behaviour change. A possible replacement is to upgrade to a newer version of textract or contact the author to suggest that they release a version with a conforming dependency specifiers. Discussion can be found at https://github.com/pypa/pip/issues/12063\u001b[0m\u001b[33m\n",
      "\u001b[0mNote: you may need to restart the kernel to use updated packages.\n",
      "Requirement already satisfied: beautifulsoup4 in /opt/conda/lib/python3.11/site-packages (4.8.2)\n",
      "Requirement already satisfied: soupsieve>=1.2 in /opt/conda/lib/python3.11/site-packages (from beautifulsoup4) (2.4)\n",
      "\u001b[33mDEPRECATION: textract 1.6.5 has a non-standard dependency specifier extract-msg<=0.29.*. pip 23.3 will enforce this behaviour change. A possible replacement is to upgrade to a newer version of textract or contact the author to suggest that they release a version with a conforming dependency specifiers. Discussion can be found at https://github.com/pypa/pip/issues/12063\u001b[0m\u001b[33m\n",
      "\u001b[0mNote: you may need to restart the kernel to use updated packages.\n",
      "Requirement already satisfied: lxml in /opt/conda/lib/python3.11/site-packages (4.9.3)\n",
      "\u001b[33mDEPRECATION: textract 1.6.5 has a non-standard dependency specifier extract-msg<=0.29.*. pip 23.3 will enforce this behaviour change. A possible replacement is to upgrade to a newer version of textract or contact the author to suggest that they release a version with a conforming dependency specifiers. Discussion can be found at https://github.com/pypa/pip/issues/12063\u001b[0m\u001b[33m\n",
      "\u001b[0mNote: you may need to restart the kernel to use updated packages.\n"
     ]
    }
   ],
   "source": [
    "%pip install gensim\n",
    "%pip install pandarallel\n",
    "%pip install pandas\n",
    "%pip install beautifulsoup4\n",
    "%pip install lxml"
   ]
  },
  {
   "cell_type": "markdown",
   "metadata": {},
   "source": [
    "В качестве исходного набора данных будет использоваться набор:\n",
    "+ Стандартный набор для машинного обучения – собрание текстов\n",
    "новостей AP (Associated Press)\n",
    "+ В наборе 2246 документов и они представлены в нужном для\n",
    "моделирования формате.\n",
    "+ В папке /ap представлены сами документы (ap.txt, ap.dat), словарь\n",
    "(vocab.txt).\n",
    "\n",
    "Файл ap.dat состоит из кол-ва слов и номеров слов из словаря и частот\n",
    "записанных в формате 178:1.\n",
    "В файле ap.txt хранятся исходные тексты."
   ]
  },
  {
   "cell_type": "code",
   "execution_count": 2,
   "metadata": {},
   "outputs": [],
   "source": [
    "import tarfile \n",
    "\n",
    "with tarfile.open('./ap.tgz') as archive:\n",
    "    archive.extractall('./ap')"
   ]
  },
  {
   "cell_type": "markdown",
   "metadata": {},
   "source": [
    "3 Для построения модели используется конструктор с большим\n",
    "количеством параметров:\n",
    "class gensim.models.ldamodel.LdaModel( corpus=None, num_topics=100,\n",
    "id2word=None,\n",
    "distributed=False,\n",
    "update_every=1, alpha='symmetric', eta=None, decay=0.5, offset=1.0,\n",
    "eval_every=10,\n",
    "iterations=50,\n",
    "minimum_probability=0.01,\n",
    "random_state=None,\n",
    "minimum_phi_value=0.01, per_word_topics=False, callbacks=None)\n",
    "В примере используются параметры:\n",
    "+ corpus – набор текстов,\n",
    "+ id2word - используется для определения размера словаря,\n",
    "+ alpha - по умолчанию 1/num_topics, чем меньше alpha, тем\n",
    "меньше ожидаемое число тем для каждого документа, и\n",
    "наоборот."
   ]
  },
  {
   "cell_type": "code",
   "execution_count": 3,
   "metadata": {},
   "outputs": [],
   "source": [
    "from gensim import corpora, models\n",
    "\n",
    "corpus = corpora.BleiCorpus('./ap/ap/ap.dat', './ap/ap/vocab.txt')"
   ]
  },
  {
   "cell_type": "code",
   "execution_count": 4,
   "metadata": {},
   "outputs": [],
   "source": [
    "model = models.ldamodel.LdaModel(corpus, id2word = corpus.id2word)"
   ]
  },
  {
   "cell_type": "code",
   "execution_count": 5,
   "metadata": {},
   "outputs": [
    {
     "name": "stdout",
     "output_type": "stream",
     "text": [
      "[(23, 0.09868356), (43, 0.6386598), (59, 0.021812666), (79, 0.054342844), (80, 0.1590245)]\n"
     ]
    }
   ],
   "source": [
    "doc = corpus.docbyoffset(0) # первый документ\n",
    "topics = model[doc]\n",
    "print(topics)"
   ]
  },
  {
   "cell_type": "code",
   "execution_count": 6,
   "metadata": {},
   "outputs": [
    {
     "name": "stdout",
     "output_type": "stream",
     "text": [
      "[5, 13, 9, 22, 4, 10, 10, 4, 3, 12, 7, 10, 12, 5, 10, 6, 13, 11, 7, 7, 4, 2, 3, 6, 14, 16, 9, 7, 15, 10, 9, 11, 7, 2, 13, 9, 15, 10, 9, 7, 6, 8, 18, 8, 13, 10, 7, 7, 14, 7, 4, 5, 13, 18, 5, 8, 9, 6, 13, 1, 12, 11, 8, 14, 6, 6, 8, 7, 8, 9, 8, 16, 7, 9, 10, 10, 12, 10, 18, 12, 16, 9, 6, 9, 11, 15, 8, 7, 4, 12, 16, 12, 10, 6, 12, 18, 12, 6, 5, 14, 19, 15, 2, 9, 8, 8, 5, 14, 10, 7, 11, 14, 4, 8, 20, 9, 9, 13, 12, 5, 3, 1, 4, 13, 6, 11, 17, 4, 8, 9, 8, 10, 5, 12, 11, 10, 13, 6, 8, 9, 15, 11, 11, 10, 9, 12, 8, 14, 5, 15, 10, 3, 12, 4, 5, 10, 9, 14, 15, 8, 4, 2, 11, 12, 6, 6, 15, 9, 14, 12, 10, 19, 8, 11, 9, 7, 7, 10, 5, 10, 13, 9, 10, 9, 11, 10, 4, 7, 8, 10, 12, 9, 10, 8, 11, 9, 13, 10, 11, 6, 10, 12, 9, 8, 9, 6, 15, 7, 6, 7, 12, 5, 7, 8, 13, 10, 7, 8, 7, 9, 10, 9, 11, 13, 16, 16, 2, 5, 14, 12, 10, 8, 16, 7, 9, 18, 5, 6, 11, 6, 11, 4, 13, 3, 9, 12, 3, 13, 10, 7, 14, 6, 13, 14, 10, 4, 10, 3, 9, 8, 14, 9, 15, 12, 10, 12, 9, 9, 3, 10, 6, 9, 9, 8, 4, 5, 11, 6, 11, 16, 9, 9, 8, 8, 9, 6, 13, 15, 13, 9, 17, 11, 7, 8, 8, 11, 9, 15, 10, 4, 9, 7, 9, 16, 8, 7, 7, 1, 6, 8, 15, 8, 10, 14, 6, 3, 15, 7, 10, 9, 8, 12, 9, 10, 15, 3, 13, 10, 15, 6, 14, 8, 9, 20, 9, 9, 19, 2, 2, 23, 9, 9, 16, 10, 14, 15, 7, 6, 6, 8, 11, 11, 13, 8, 13, 10, 9, 8, 13, 7, 16, 13, 9, 10, 13, 10, 10, 10, 17, 4, 5, 10, 7, 12, 12, 6, 8, 6, 8, 11, 1, 11, 8, 3, 6, 13, 13, 8, 5, 8, 16, 10, 14, 7, 4, 9, 11, 4, 13, 7, 12, 6, 13, 5, 12, 9, 10, 5, 13, 6, 11, 9, 8, 9, 5, 5, 11, 5, 17, 6, 9, 9, 10, 16, 5, 10, 12, 11, 11, 4, 11, 11, 5, 1, 12, 9, 7, 12, 9, 13, 10, 9, 9, 2, 6, 14, 5, 11, 15, 8, 8, 13, 7, 10, 4, 13, 6, 11, 11, 8, 11, 9, 5, 13, 12, 12, 7, 4, 15, 12, 11, 5, 3, 14, 12, 10, 8, 10, 10, 11, 9, 10, 7, 10, 4, 7, 14, 9, 10, 13, 9, 6, 12, 8, 4, 19, 11, 11, 4, 11, 9, 8, 12, 10, 11, 9, 11, 9, 9, 13, 5, 9, 6, 4, 3, 7, 11, 3, 12, 6, 7, 14, 9, 1, 14, 9, 8, 17, 4, 7, 9, 10, 7, 7, 7, 4, 8, 6, 13, 7, 13, 15, 17, 10, 8, 11, 7, 5, 9, 11, 9, 9, 5, 9, 13, 5, 11, 1, 2, 15, 10, 10, 14, 8, 5, 12, 20, 15, 8, 11, 10, 12, 8, 13, 9, 10, 11, 12, 5, 7, 9, 6, 11, 13, 13, 10, 18, 11, 7, 10, 10, 4, 15, 13, 9, 15, 10, 13, 11, 10, 11, 12, 12, 11, 15, 7, 19, 7, 4, 5, 5, 12, 17, 8, 9, 11, 7, 7, 9, 9, 9, 13, 13, 16, 5, 13, 1, 10, 4, 12, 10, 10, 16, 9, 12, 2, 10, 8, 10, 10, 6, 7, 8, 5, 10, 7, 8, 17, 11, 3, 16, 5, 7, 10, 16, 6, 9, 8, 16, 12, 10, 4, 3, 11, 11, 8, 12, 7, 14, 9, 6, 5, 9, 6, 7, 9, 1, 18, 18, 11, 10, 12, 6, 7, 9, 12, 3, 15, 15, 12, 13, 8, 9, 13, 12, 10, 6, 10, 2, 3, 8, 8, 6, 9, 4, 5, 10, 13, 2, 7, 11, 3, 6, 3, 15, 2, 5, 14, 2, 1, 12, 4, 11, 8, 13, 18, 10, 4, 8, 6, 14, 11, 4, 16, 2, 6, 13, 7, 9, 12, 7, 10, 13, 11, 10, 4, 9, 6, 1, 12, 12, 14, 8, 11, 12, 11, 21, 4, 16, 7, 13, 10, 11, 8, 6, 5, 8, 2, 6, 14, 9, 12, 18, 6, 9, 7, 8, 11, 11, 15, 11, 19, 8, 21, 18, 10, 10, 5, 14, 7, 3, 9, 9, 7, 8, 15, 6, 14, 14, 11, 10, 12, 10, 4, 12, 15, 11, 17, 9, 12, 16, 13, 9, 14, 10, 13, 13, 13, 8, 7, 2, 11, 8, 10, 10, 9, 10, 6, 9, 13, 6, 5, 10, 7, 12, 10, 6, 10, 17, 12, 12, 17, 9, 14, 8, 7, 12, 12, 8, 5, 11, 7, 11, 19, 10, 11, 10, 16, 8, 13, 10, 4, 12, 17, 6, 7, 9, 3, 10, 11, 1, 4, 9, 14, 17, 8, 11, 12, 13, 8, 3, 13, 3, 15, 12, 5, 8, 6, 16, 6, 9, 5, 14, 3, 11, 14, 9, 16, 8, 10, 14, 9, 11, 8, 3, 11, 10, 10, 15, 11, 15, 9, 11, 5, 10, 2, 13, 14, 8, 9, 9, 13, 6, 12, 2, 10, 18, 10, 13, 20, 8, 12, 9, 10, 5, 14, 11, 8, 7, 3, 15, 18, 11, 9, 10, 17, 10, 11, 13, 14, 1, 4, 13, 4, 3, 12, 9, 14, 15, 5, 3, 6, 12, 9, 2, 12, 3, 6, 9, 10, 5, 4, 8, 16, 5, 4, 12, 6, 13, 16, 5, 11, 7, 11, 9, 11, 15, 7, 7, 9, 12, 1, 10, 2, 17, 13, 3, 15, 2, 7, 8, 10, 13, 9, 7, 10, 19, 14, 10, 6, 6, 9, 13, 19, 15, 13, 16, 4, 13, 15, 6, 4, 14, 11, 9, 9, 9, 3, 3, 10, 4, 6, 11, 9, 13, 16, 10, 10, 8, 11, 8, 8, 16, 10, 13, 5, 13, 6, 7, 9, 6, 9, 8, 5, 8, 5, 8, 12, 7, 9, 5, 8, 9, 11, 11, 9, 8, 8, 2, 16, 18, 11, 5, 11, 13, 9, 8, 6, 12, 10, 12, 7, 4, 12, 3, 17, 6, 4, 7, 8, 9, 3, 12, 3, 6, 10, 13, 2, 6, 9, 12, 4, 11, 15, 5, 9, 4, 8, 10, 13, 18, 6, 16, 9, 6, 12, 6, 7, 9, 8, 2, 8, 10, 11, 9, 7, 5, 16, 14, 13, 6, 11, 7, 9, 13, 13, 6, 6, 7, 11, 9, 7, 13, 10, 14, 15, 7, 9, 12, 9, 11, 12, 7, 20, 3, 10, 11, 12, 17, 13, 11, 6, 1, 4, 4, 5, 10, 6, 12, 13, 11, 5, 9, 11, 5, 9, 5, 9, 9, 18, 9, 6, 6, 9, 8, 5, 16, 16, 11, 9, 9, 12, 14, 15, 9, 6, 8, 10, 9, 9, 5, 10, 8, 8, 11, 10, 13, 3, 14, 4, 19, 3, 6, 10, 3, 18, 12, 9, 7, 5, 6, 8, 7, 4, 4, 10, 9, 7, 11, 7, 6, 4, 14, 8, 9, 1, 9, 13, 6, 9, 11, 11, 9, 10, 9, 8, 6, 5, 8, 8, 10, 1, 3, 11, 6, 8, 7, 8, 11, 8, 11, 10, 16, 6, 4, 9, 5, 12, 12, 7, 4, 8, 15, 12, 9, 14, 13, 15, 9, 5, 5, 9, 10, 4, 8, 4, 12, 10, 1, 10, 18, 11, 12, 6, 8, 6, 14, 12, 7, 14, 7, 10, 5, 7, 17, 5, 8, 11, 9, 10, 8, 5, 4, 3, 7, 8, 13, 8, 14, 8, 7, 4, 2, 9, 3, 8, 5, 11, 4, 11, 8, 9, 6, 5, 10, 9, 12, 10, 12, 8, 6, 2, 3, 9, 4, 11, 3, 2, 1, 11, 13, 9, 8, 2, 12, 11, 11, 6, 10, 10, 7, 7, 8, 8, 10, 11, 8, 5, 10, 12, 17, 6, 12, 2, 10, 7, 7, 13, 10, 12, 7, 14, 4, 5, 6, 8, 9, 13, 14, 15, 14, 9, 8, 12, 11, 16, 21, 11, 8, 2, 7, 9, 8, 9, 12, 3, 12, 9, 7, 8, 7, 4, 10, 13, 13, 11, 11, 5, 8, 14, 17, 2, 5, 13, 18, 2, 14, 2, 16, 6, 7, 10, 2, 7, 9, 14, 19, 5, 9, 11, 13, 16, 6, 12, 5, 3, 6, 18, 12, 5, 10, 9, 7, 9, 8, 7, 14, 8, 5, 6, 6, 9, 12, 10, 15, 6, 8, 5, 17, 19, 7, 6, 12, 15, 14, 5, 7, 19, 7, 17, 9, 11, 5, 5, 19, 13, 10, 4, 9, 13, 9, 5, 5, 11, 10, 13, 9, 4, 9, 11, 9, 11, 4, 13, 8, 14, 10, 5, 4, 10, 4, 9, 1, 9, 7, 9, 10, 10, 13, 3, 8, 3, 10, 11, 6, 9, 12, 12, 7, 8, 14, 11, 8, 17, 9, 3, 3, 2, 10, 4, 7, 3, 5, 12, 14, 7, 6, 10, 4, 6, 12, 17, 8, 20, 6, 16, 12, 6, 11, 9, 11, 4, 9, 8, 14, 8, 10, 5, 4, 4, 10, 8, 7, 8, 4, 11, 9, 9, 8, 12, 9, 14, 9, 13, 10, 7, 13, 14, 11, 10, 7, 6, 13, 18, 9, 8, 20, 9, 3, 5, 2, 5, 6, 7, 10, 22, 18, 14, 12, 11, 12, 2, 3, 8, 8, 14, 5, 14, 5, 10, 4, 5, 5, 13, 6, 8, 11, 10, 7, 13, 15, 15, 12, 12, 11, 7, 3, 14, 15, 8, 8, 7, 14, 5, 9, 12, 15, 13, 15, 3, 12, 8, 3, 13, 9, 5, 11, 6, 7, 1, 3, 5, 8, 11, 4, 7, 14, 10, 10, 7, 2, 19, 10, 21, 8, 8, 10, 10, 8, 13, 15, 14, 5, 5, 8, 14, 9, 14, 10, 5, 9, 12, 8, 13, 13, 7, 13, 5, 12, 12, 17, 13, 14, 13, 10, 12, 14, 6, 11, 9, 7, 11, 10, 13, 6, 4, 15, 7, 9, 16, 17, 13, 18, 8, 5, 3, 10, 5, 6, 15, 2, 10, 13, 13, 6, 11, 6, 10, 6, 9, 11, 11, 14, 12, 10, 9, 12, 6, 17, 11, 17, 8, 9, 13, 9, 8, 7, 10, 15, 17, 5, 7, 13, 4, 12, 11, 8, 9, 11, 10, 5, 9, 12, 5, 10, 6, 16, 11, 8, 11, 9, 2, 10, 13, 11, 10, 3, 11, 4, 6, 9, 9, 7, 7, 13, 10, 13, 5, 7, 12, 2, 9, 6, 5, 10, 8, 6, 7, 5, 6, 7, 7, 12, 11, 1, 11, 6, 10, 3, 3, 11, 12, 14, 13, 4, 10, 13, 13, 10, 10, 9, 9, 6, 8, 6, 13, 10, 15, 7, 7, 7, 11, 10, 18, 17, 8, 9, 12, 9, 5, 6, 15, 9, 16, 8, 11, 7, 11, 8, 9, 16, 10, 9, 9, 12, 8, 6, 9, 15, 12, 13, 7, 6, 16, 18, 9, 6, 7, 8, 9, 7, 6, 4, 7, 8, 10, 13, 14, 10, 11, 18, 7, 14, 9, 5, 8, 7, 10, 5, 12, 3, 15, 10, 5, 11, 7, 6, 12, 6, 11, 5, 13, 5, 7, 13, 8, 14, 10, 9, 13, 9, 8, 6, 11, 10, 8, 11, 10, 2, 8, 14, 7, 9, 10, 13, 13, 10, 10, 17, 6, 11, 12, 2, 17, 9, 10, 8, 8, 3, 15, 9, 6, 4, 4, 12, 8, 9, 15, 6, 8, 11, 10, 9, 10, 5, 7, 12, 14, 3, 13, 7, 14, 14, 17, 9, 7, 8, 12, 16, 15, 7, 13, 11, 11, 9, 10, 15, 7, 3, 9, 4, 7, 3, 7, 12, 9, 10, 5, 8, 12, 7, 9, 7, 5, 8, 4, 13, 9, 2, 4, 10, 9, 5, 6, 9, 6, 10, 6, 11, 7, 9, 9, 6, 5, 7, 6, 8, 6, 4, 5, 5, 7, 10, 4, 10, 6, 8, 7, 7, 6, 5, 9, 3, 8, 7, 5, 11, 5, 5, 5, 8, 6, 4, 1, 2, 7, 5, 10, 5, 13, 12, 7, 8, 5, 5, 6, 5, 8, 8, 7, 6, 5, 6, 5, 3, 9, 6, 5, 6, 6, 5, 6, 4, 7, 4, 4, 5, 6, 7, 8, 8, 7, 6, 4, 6, 12, 5, 4, 3, 9, 9, 7, 11, 7, 7, 7, 7, 9, 7, 7, 7, 6, 9, 6, 6, 6, 9, 7, 3, 7, 7, 7, 11, 7, 8, 9, 6, 3, 2, 1, 5, 3, 7, 12, 4, 7, 8, 7, 3, 8, 7, 10, 3, 9, 9, 6, 10, 7, 5, 10, 7, 7, 10, 7, 6, 8, 5, 10, 4, 2, 4, 7, 5, 6, 7, 2, 5, 2, 11, 5, 7, 5, 9, 7, 6, 6, 2, 7, 7, 4, 4, 7, 8, 9, 6, 5, 9, 7, 8, 7, 8, 10, 7, 5, 9, 5, 5, 8, 5, 8, 12, 9, 4, 8, 8, 6, 7, 4, 5, 4, 12, 6, 1, 6, 5, 7, 10, 8, 13, 11, 7, 10, 6, 4, 6, 7, 5, 9, 6, 5, 4, 5, 5, 9, 6, 9, 9, 11, 5, 5, 9, 5, 6, 5, 8, 6]\n"
     ]
    }
   ],
   "source": [
    "# данные для гистограммы частотности тем, ассоциированных с документами\n",
    "num_topics_used = [len(model[doc]) for doc in corpus]\n",
    "print (num_topics_used)"
   ]
  },
  {
   "cell_type": "code",
   "execution_count": 7,
   "metadata": {},
   "outputs": [
    {
     "data": {
      "text/plain": [
       "(array([151., 273., 388., 469., 397., 370., 110.,  59.,  22.,   7.]),\n",
       " array([ 1. ,  3.2,  5.4,  7.6,  9.8, 12. , 14.2, 16.4, 18.6, 20.8, 23. ]),\n",
       " <BarContainer object of 10 artists>)"
      ]
     },
     "execution_count": 7,
     "metadata": {},
     "output_type": "execute_result"
    },
    {
     "data": {
      "image/png": "[encoded data removed]",
      "text/plain": [
       "<Figure size 640x480 with 1 Axes>"
      ]
     },
     "metadata": {},
     "output_type": "display_data"
    }
   ],
   "source": [
    "import matplotlib.pyplot as plt\n",
    "plt.hist(num_topics_used)"
   ]
  },
  {
   "cell_type": "code",
   "execution_count": 8,
   "metadata": {},
   "outputs": [
    {
     "name": "stdout",
     "output_type": "stream",
     "text": [
      "[('committees', 0.03188042), ('rigs', 0.015108524), ('offer', 0.012590368), ('million', 0.011382932), ('services', 0.010486283), ('cycle', 0.009429605), ('insurance', 0.008699261), ('information', 0.008464626), ('share', 0.008294944), ('plc', 0.007507322), ('merger', 0.0072315126), ('retailers', 0.0067569437), ('company', 0.0067097032), ('stock', 0.0066703046), ('moderate', 0.0061083753), ('noting', 0.005979956), ('incoming', 0.005799224), ('willing', 0.005474695), ('shareholders', 0.0054008616), ('billion', 0.0052014804), ('new', 0.005193137), ('communications', 0.005106334), ('group', 0.0050576413), ('interest', 0.004853816), ('gop', 0.004740129), ('separate', 0.0046898113), ('board', 0.004667227), ('inc', 0.004323133), ('daniel', 0.00420429), ('percent', 0.0041602626), ('shares', 0.00414638), ('publishing', 0.004068831), ('republican', 0.0039985124), ('closed', 0.0039807116), ('bid', 0.0039375313), ('britain', 0.0038960932), ('subsidiaries', 0.003892982), ('campaign', 0.0038148686), ('unregulated', 0.0037999456), ('monday', 0.0037957123), ('democrats', 0.0037344724), ('insurer', 0.0037025204), ('comment', 0.0036069513), ('cash', 0.0035638846), ('last', 0.0035327694), ('hurricane', 0.0034813902), ('week', 0.0034637745), ('corp', 0.0034535076), ('answered', 0.0034337917), ('oil', 0.0034333987), ('vowed', 0.0034171643), ('evacuate', 0.0033385812), ('conditioned', 0.0033089225), ('three', 0.0031798824), ('friday', 0.0031534093), ('legislators', 0.0031499136), ('contention', 0.0031331975), ('industry', 0.0030301542), ('states', 0.002952376), ('banner', 0.0029126196), ('prices', 0.00288171), ('dropped', 0.002844812), ('people', 0.002837806), ('delaware', 0.0028022297)]\n",
      "\n",
      "[('fellows', 0.017785013), ('tiananmen', 0.0133082615), ('lenders', 0.012492478), ('schools', 0.01025682), ('students', 0.008760203), ('skills', 0.0065766224), ('government', 0.006226148), ('trustees', 0.005667727), ('president', 0.0051100254), ('new', 0.004628063), ('languages', 0.0045834924), ('evaluation', 0.0045001023), ('weeklong', 0.004404623), ('appealing', 0.0042994996), ('program', 0.004242289), ('percent', 0.0041707996), ('assistants', 0.004096988), ('bent', 0.0040962785), ('necessary', 0.0039833295), ('university', 0.0039767846), ('public', 0.0038925789), ('i', 0.0037523522), ('last', 0.0035458023), ('board', 0.0034982688), ('maj', 0.0034433664), ('advocate', 0.0034424192), ('years', 0.0033433626), ('student', 0.0032122687), ('members', 0.0031852808), ('education', 0.0031176046), ('department', 0.0030443594), ('accepting', 0.0029175342), ('year', 0.0028919736), ('states', 0.0027626052), ('work', 0.0027400032), ('air', 0.0025146923), ('extent', 0.0025048552), ('force', 0.0024704812), ('bruce', 0.0023809203), ('phillips', 0.002350541), ('service', 0.0023145368), ('money', 0.0023089945), ('water', 0.0022727442), ('bush', 0.0022695363), ('economic', 0.0022188434), ('people', 0.0022140928), ('says', 0.0021469467), ('vice', 0.0020973852), ('first', 0.0020854603), ('school', 0.0020618374), ('thousands', 0.002053184), ('million', 0.0020143439), ('rates', 0.00201253), ('capt', 0.0020008797), ('jr', 0.0019429963), ('spent', 0.0019312866), ('months', 0.0018681653), ('rice', 0.0018584994), ('party', 0.0018280026), ('two', 0.0018263235), ('deputy', 0.0018091528), ('william', 0.0018023768), ('participating', 0.0018001738), ('soviet', 0.0017932885)]\n",
      "\n",
      "[('ireland', 0.019508472), ('mexican', 0.011655453), ('police', 0.009091074), ('northern', 0.007837157), ('belfast', 0.007346885), ('british', 0.0072539807), ('people', 0.0067035467), ('kahn', 0.005790488), ('irish', 0.0057444707), ('engulfed', 0.005379847), ('i', 0.005273486), ('government', 0.0051847342), ('ulster', 0.005182305), ('new', 0.0050202752), ('party', 0.0050166296), ('minimal', 0.0049819183), ('threats', 0.004778136), ('undesirable', 0.0047091194), ('mexico', 0.0045739384), ('spokesman', 0.004525178), ('human', 0.004476538), ('years', 0.0044308114), ('two', 0.004242759), ('pickup', 0.004223893), ('officials', 0.0041507245), ('bomb', 0.004088384), ('greek', 0.0037961153), ('wednesday', 0.0036593846), ('killed', 0.0033806665), ('kidnapped', 0.0033144832), ('testament', 0.0032654286), ('rights', 0.0029826404), ('attack', 0.0029557128), ('statement', 0.0029005937), ('otto', 0.0028875119), ('terms', 0.002849952), ('fire', 0.0027934297), ('fbi', 0.0027866375), ('positive', 0.0027842806), ('understood', 0.0027813113), ('group', 0.002754801), ('incident', 0.002732157), ('alex', 0.0027150502), ('last', 0.002670353), ('american', 0.002664236), ('salinas', 0.0026221024), ('three', 0.0025779584), ('surrendered', 0.0025441987), ('justice', 0.002526192), ('year', 0.0025209142), ('army', 0.0025098599), ('elderly', 0.002306701), ('president', 0.0023053142), ('told', 0.0022891473), ('opposition', 0.002275294), ('four', 0.002265584), ('mexicos', 0.002241875), ('week', 0.0022236444), ('smoke', 0.0022219126), ('incentive', 0.002206472), ('man', 0.0021990628), ('federal', 0.0021920162), ('armed', 0.0021834068), ('monday', 0.0021646488)]\n",
      "\n",
      "[('souter', 0.026700798), ('court', 0.012666685), ('senate', 0.011679622), ('souters', 0.009660015), ('abortion', 0.009406714), ('committee', 0.009367178), ('i', 0.006953743), ('president', 0.0066372524), ('rights', 0.005523628), ('united', 0.0046622464), ('new', 0.0046072686), ('vote', 0.004570539), ('torture', 0.004516734), ('spirit', 0.004463318), ('states', 0.0041636536), ('supreme', 0.0039880583), ('tuesday', 0.0039872145), ('irs', 0.003932683), ('dances', 0.0037983197), ('majority', 0.0037691346), ('outspoken', 0.003622169), ('kennedy', 0.0036029355), ('judge', 0.0036000053), ('school', 0.0035810804), ('decree', 0.0035123576), ('last', 0.0034111983), ('bush', 0.0033567874), ('recognize', 0.0030754667), ('terror', 0.003065229), ('members', 0.0030576186), ('party', 0.0030526372), ('state', 0.0030128907), ('supporter', 0.0030110788), ('government', 0.0029888581), ('first', 0.0029200914), ('legal', 0.002842019), ('revolutionary', 0.0028183672), ('years', 0.0027964928), ('dance', 0.00275071), ('city', 0.0027106858), ('monday', 0.0027105988), ('four', 0.0025754196), ('penalty', 0.0025620386), ('hope', 0.0025576986), ('assassination', 0.0025335515), ('death', 0.002526889), ('good', 0.002502981), ('group', 0.0025013925), ('david', 0.002428803), ('employer', 0.002335091), ('billed', 0.0023029414), ('vigil', 0.0022793508), ('assassinate', 0.0022767987), ('expressed', 0.002260974), ('board', 0.0022607679), ('severity', 0.002250469), ('case', 0.002245761), ('people', 0.002195562), ('support', 0.002157344), ('hampshire', 0.0021538816), ('nomination', 0.0021498497), ('condemning', 0.002138558), ('go', 0.0021354654), ('national', 0.002133411)]\n",
      "\n",
      "[('controls', 0.009994013), ('compromise', 0.009538091), ('new', 0.008587466), ('plants', 0.006617945), ('measures', 0.0058963993), ('air', 0.0058295145), ('senate', 0.0058151972), ('agreement', 0.0054463), ('clean', 0.0054307966), ('midwest', 0.004722404), ('pollution', 0.004697388), ('three', 0.004620102), ('collect', 0.004600059), ('ugly', 0.0045365216), ('first', 0.0043640253), ('championship', 0.004266805), ('automobiles', 0.00421564), ('weakened', 0.0041962424), ('utilities', 0.0041889683), ('acid', 0.0041523413), ('emissions', 0.0041261176), ('european', 0.0038938473), ('games', 0.0036175817), ('president', 0.0035595552), ('unique', 0.0035550892), ('toxic', 0.003513459), ('two', 0.0034915083), ('requirements', 0.0034641295), ('reception', 0.0033546106), ('taiwanese', 0.0032606428), ('hours', 0.003248657), ('world', 0.0032411793), ('denouncing', 0.0032401928), ('years', 0.0032059527), ('time', 0.0030860368), ('smog', 0.003005143), ('preserved', 0.0029868893), ('south', 0.0029822597), ('amateur', 0.0029473135), ('rely', 0.0029396887), ('second', 0.0028943934), ('portion', 0.0028762694), ('scenes', 0.002844903), ('bill', 0.0028179197), ('people', 0.002723196), ('chemicals', 0.0027056125), ('simple', 0.0027009347), ('bush', 0.0026830449), ('monday', 0.002668612), ('resuming', 0.0026630631), ('points', 0.0026100841), ('i', 0.0025542898), ('officials', 0.0025182846), ('last', 0.0024979007), ('york', 0.0024430589), ('today', 0.0024394356), ('dioxide', 0.0024211842), ('says', 0.0023749091), ('peninsula', 0.0023389987), ('memories', 0.0023285605), ('fuels', 0.002305644), ('endanger', 0.002305176), ('billion', 0.0023048646), ('called', 0.002304826)]\n",
      "\n",
      "[('hopkins', 0.01696456), ('billion', 0.011396005), ('interest', 0.010621662), ('att', 0.009742931), ('year', 0.009546222), ('rates', 0.0094719), ('atts', 0.009122074), ('new', 0.006827461), ('income', 0.0068002758), ('percent', 0.006431703), ('monetary', 0.005685989), ('disarray', 0.005439356), ('million', 0.005293114), ('tax', 0.005188001), ('world', 0.0051375665), ('countries', 0.0050695925), ('totaled', 0.004569807), ('data', 0.004333934), ('luxembourg', 0.004304685), ('states', 0.0038378802), ('president', 0.003722335), ('johns', 0.003677483), ('news', 0.0036708259), ('first', 0.00360384), ('debt', 0.0035816743), ('law', 0.00352036), ('month', 0.0035058076), ('years', 0.0035032576), ('fiscal', 0.0034573786), ('severely', 0.0033988429), ('last', 0.003392103), ('national', 0.00334555), ('report', 0.0033345944), ('united', 0.0031777255), ('carbon', 0.003051017), ('today', 0.0030303805), ('third', 0.0030170577), ('taxes', 0.0029845664), ('lawrence', 0.0029556614), ('bank', 0.0029551703), ('higher', 0.002773008), ('research', 0.0026483), ('poor', 0.0025590188), ('executive', 0.002528777), ('company', 0.0025183347), ('lip', 0.0025060885), ('leaving', 0.0024257693), ('chief', 0.002289642), ('succeeded', 0.0022370883), ('american', 0.0022180232), ('international', 0.0022130664), ('federal', 0.00219588), ('system', 0.00216176), ('people', 0.0021576204), ('computer', 0.0020903475), ('rate', 0.002089855), ('months', 0.0020837644), ('time', 0.0020649415), ('week', 0.0020538974), ('group', 0.0020528175), ('rush', 0.0020503043), ('know', 0.0020314758), ('mo', 0.0020295798), ('department', 0.0020239935)]\n",
      "\n",
      "[('billion', 0.017985536), ('percent', 0.011455891), ('orders', 0.008649358), ('deficit', 0.008108957), ('budget', 0.0075172186), ('april', 0.006601029), ('bank', 0.0064833444), ('new', 0.005524736), ('spending', 0.0050308127), ('soviet', 0.004967961), ('first', 0.004753532), ('government', 0.00453973), ('year', 0.0045139203), ('parties', 0.0044139163), ('month', 0.004065436), ('law', 0.003898013), ('military', 0.0038741466), ('president', 0.0038266398), ('church', 0.0037719326), ('economic', 0.0037293918), ('state', 0.003553152), ('east', 0.003372695), ('discretionary', 0.0031866934), ('congress', 0.0031306879), ('election', 0.0031154742), ('israelis', 0.00301215), ('group', 0.0029079148), ('last', 0.00288756), ('help', 0.0028423439), ('economy', 0.0027934837), ('united', 0.0027311856), ('union', 0.0027248226), ('security', 0.0027025037), ('political', 0.0027001286), ('world', 0.0026898598), ('reported', 0.0026820914), ('months', 0.0026645819), ('west', 0.0026569734), ('called', 0.0026357016), ('shortfall', 0.0026155086), ('power', 0.0025909664), ('report', 0.00255744), ('i', 0.002536508), ('news', 0.0025314738), ('far', 0.0025232828), ('two', 0.00250188), ('durable', 0.0024623289), ('people', 0.0024553963), ('cuts', 0.0024312595), ('increase', 0.0024265507), ('committee', 0.0024107348), ('meeting', 0.0024099962), ('goods', 0.002393375), ('nations', 0.0023777515), ('stripped', 0.002358377), ('hovered', 0.0023399505), ('sasser', 0.0023380618), ('party', 0.0022902756), ('leaders', 0.002202116), ('countries', 0.0021932218), ('civilian', 0.0021858085), ('defense', 0.0021635282), ('told', 0.0021591194), ('independence', 0.0021406875)]\n",
      "\n",
      "[('canadian', 0.015829755), ('late', 0.0123237865), ('dollar', 0.01084445), ('london', 0.009666975), ('lady', 0.009418269), ('bid', 0.008561031), ('yen', 0.008087124), ('friday', 0.0074519278), ('fridays', 0.0071239723), ('gold', 0.00700481), ('compared', 0.0066068848), ('royal', 0.0066050636), ('fell', 0.0064071896), ('rates', 0.0059013856), ('national', 0.005846927), ('mideast', 0.0057816687), ('french', 0.0056933677), ('new', 0.0053290883), ('ounce', 0.004932743), ('francs', 0.0047447067), ('buy', 0.0047093504), ('troy', 0.004611591), ('central', 0.0045224493), ('europe', 0.004405185), ('british', 0.0043455353), ('zurich', 0.0043353485), ('bank', 0.004264053), ('banks', 0.0039659543), ('intervention', 0.0038600855), ('cheaper', 0.0038396025), ('g', 0.0036268793), ('traders', 0.00361198), ('police', 0.0035699196), ('i', 0.0034877341), ('cost', 0.003368902), ('york', 0.003330007), ('downward', 0.0032223433), ('heavy', 0.0031776933), ('commodities', 0.003156996), ('swiss', 0.0031454891), ('tuesday', 0.0031130076), ('monday', 0.0030970694), ('pound', 0.0030514433), ('people', 0.0030163955), ('seven', 0.0029506462), ('selling', 0.0029341842), ('closed', 0.0029018135), ('harvard', 0.0028768007), ('dollars', 0.0028014337), ('west', 0.002743109), ('spencer', 0.002741058), ('million', 0.0027229437), ('fed', 0.002677348), ('market', 0.0026335935), ('last', 0.0025370615), ('italian', 0.0024966814), ('intent', 0.0024544126), ('arguments', 0.0024217512), ('broke', 0.0024178897), ('percent', 0.0024164247), ('two', 0.0024141467), ('soviet', 0.002395961), ('bundesbank', 0.0023788076), ('major', 0.0023702728)]\n",
      "\n",
      "[('nordstrom', 0.027872529), ('percent', 0.015586873), ('employees', 0.01032474), ('dump', 0.0077477675), ('williams', 0.007047093), ('two', 0.0064250687), ('sea', 0.006104774), ('years', 0.006069095), ('black', 0.005535467), ('new', 0.0051647155), ('water', 0.0050150272), ('municipal', 0.004859631), ('million', 0.0048032627), ('fruits', 0.0045776167), ('state', 0.004469671), ('national', 0.004388683), ('july', 0.0042726416), ('year', 0.0042011035), ('source', 0.004105922), ('local', 0.004102386), ('shoes', 0.0039222273), ('partnership', 0.0038259034), ('white', 0.0037407966), ('time', 0.0036033296), ('cast', 0.003602884), ('first', 0.0034865984), ('i', 0.0034238824), ('gallons', 0.0034218486), ('billion', 0.0032627773), ('growers', 0.0032133185), ('retail', 0.0031753813), ('californias', 0.003174728), ('day', 0.0031654388), ('luxembourg', 0.0031248438), ('type', 0.0031134652), ('officials', 0.0030557392), ('states', 0.0030520477), ('last', 0.0030423843), ('irrigation', 0.0030341067), ('space', 0.003006524), ('company', 0.0030010229), ('require', 0.0029117872), ('island', 0.002883251), ('depressed', 0.0028709287), ('say', 0.0028275738), ('back', 0.0027700062), ('impressive', 0.0027608427), ('flexibility', 0.0027379673), ('people', 0.0026924477), ('mississippi', 0.002656564), ('headquarters', 0.002579349), ('friday', 0.0025360573), ('department', 0.0024994977), ('school', 0.0024848569), ('week', 0.0024636453), ('employee', 0.0024586665), ('three', 0.0024310697), ('vote', 0.0024220427), ('service', 0.002393483), ('emissions', 0.0023352082), ('normal', 0.002335159), ('waste', 0.0022758518), ('controls', 0.002215391), ('sales', 0.0021984992)]\n",
      "\n",
      "[('percent', 0.011003789), ('barr', 0.010239219), ('collective', 0.008622476), ('charities', 0.008263878), ('i', 0.0072477735), ('flow', 0.0069141365), ('hose', 0.00612999), ('evaluations', 0.00599915), ('pakistani', 0.0050520166), ('two', 0.0043602074), ('sources', 0.004220494), ('report', 0.0040465305), ('people', 0.003976516), ('july', 0.0038036471), ('years', 0.0036773318), ('year', 0.0036427474), ('police', 0.0035504284), ('continental', 0.0035407292), ('new', 0.0035076942), ('united', 0.003474693), ('thursday', 0.003217689), ('served', 0.0030073593), ('consumers', 0.0029431887), ('indian', 0.0028123723), ('incidents', 0.0027437059), ('day', 0.0027339398), ('pointing', 0.0025987884), ('committee', 0.0025743353), ('get', 0.0024771115), ('potentially', 0.0023928047), ('dec', 0.0023700348), ('state', 0.0023670078), ('consumer', 0.0023638455), ('gas', 0.0023003789), ('stranded', 0.0022938005), ('advancing', 0.0022465612), ('march', 0.0022101558), ('steel', 0.0022067055), ('organizations', 0.002193436), ('friday', 0.0021888176), ('office', 0.0021862905), ('reported', 0.0021470343), ('last', 0.002127383), ('tanks', 0.0021134766), ('brutal', 0.0020441571), ('record', 0.0019708737), ('like', 0.0019446773), ('agreements', 0.0019417261), ('ky', 0.0019390134), ('alltime', 0.00192533), ('time', 0.0019207663), ('today', 0.0018943282), ('home', 0.0018934152), ('told', 0.0018680601), ('federal', 0.0018638998), ('back', 0.0018527808), ('india', 0.0018510014), ('just', 0.0018449647), ('river', 0.001805582), ('period', 0.0017968442), ('service', 0.0017946801), ('government', 0.0017893538), ('general', 0.0017891815), ('contention', 0.001785538)]\n",
      "\n"
     ]
    }
   ],
   "source": [
    "for ti in range(10):\n",
    "    words = model.show_topic(ti, 64)\n",
    "    print (words)\n",
    "    print()"
   ]
  },
  {
   "cell_type": "code",
   "execution_count": 9,
   "metadata": {},
   "outputs": [
    {
     "name": "stdout",
     "output_type": "stream",
     "text": [
      "[(23, '0.010*\"late\" + 0.008*\"immune\" + 0.007*\"i\" + 0.007*\"doctors\" + 0.006*\"hospital\" + 0.006*\"patients\" + 0.005*\"new\" + 0.005*\"disease\" + 0.005*\"infected\" + 0.005*\"cells\"'), (39, '0.016*\"relevant\" + 0.008*\"earth\" + 0.007*\"time\" + 0.006*\"new\" + 0.006*\"council\" + 0.005*\"economic\" + 0.004*\"causing\" + 0.004*\"lambert\" + 0.004*\"i\" + 0.004*\"burnham\"'), (9, '0.011*\"percent\" + 0.010*\"barr\" + 0.009*\"collective\" + 0.008*\"charities\" + 0.007*\"i\" + 0.007*\"flow\" + 0.006*\"hose\" + 0.006*\"evaluations\" + 0.005*\"pakistani\" + 0.004*\"two\"'), (92, '0.017*\"m\" + 0.010*\"reservation\" + 0.008*\"bus\" + 0.007*\"greece\" + 0.007*\"people\" + 0.006*\"ontario\" + 0.005*\"new\" + 0.005*\"government\" + 0.004*\"political\" + 0.004*\"police\"'), (64, '0.020*\"mohawk\" + 0.016*\"shark\" + 0.010*\"bentsen\" + 0.008*\"alternative\" + 0.008*\"united\" + 0.007*\"fiction\" + 0.007*\"jackson\" + 0.006*\"thompson\" + 0.006*\"government\" + 0.006*\"book\"'), (6, '0.018*\"billion\" + 0.011*\"percent\" + 0.009*\"orders\" + 0.008*\"deficit\" + 0.008*\"budget\" + 0.007*\"april\" + 0.006*\"bank\" + 0.006*\"new\" + 0.005*\"spending\" + 0.005*\"soviet\"'), (17, '0.008*\"states\" + 0.008*\"default\" + 0.007*\"farrell\" + 0.006*\"president\" + 0.005*\"britain\" + 0.005*\"abduction\" + 0.005*\"dollar\" + 0.004*\"union\" + 0.004*\"south\" + 0.004*\"first\"'), (4, '0.010*\"controls\" + 0.010*\"compromise\" + 0.009*\"new\" + 0.007*\"plants\" + 0.006*\"measures\" + 0.006*\"air\" + 0.006*\"senate\" + 0.005*\"agreement\" + 0.005*\"clean\" + 0.005*\"midwest\"'), (26, '0.009*\"new\" + 0.008*\"i\" + 0.008*\"york\" + 0.007*\"cuomo\" + 0.006*\"accident\" + 0.005*\"iran\" + 0.005*\"war\" + 0.004*\"two\" + 0.004*\"case\" + 0.004*\"mason\"'), (34, '0.017*\"percent\" + 0.013*\"billion\" + 0.013*\"economy\" + 0.008*\"rural\" + 0.008*\"sales\" + 0.007*\"cities\" + 0.007*\"price\" + 0.006*\"rate\" + 0.006*\"contracts\" + 0.006*\"sony\"')]\n"
     ]
    }
   ],
   "source": [
    "#вывод 10 тем с 10 словами в каждой и их вероятностями\n",
    "print(model.print_topics(num_topics=10, num_words=10))"
   ]
  },
  {
   "cell_type": "markdown",
   "metadata": {},
   "source": [
    "4 Выполнить предобработку текстов из ap.txt – удаление стоп-слов, стемминг или лемматизацию. Сформировать новые ap.dat и vocab.txt"
   ]
  },
  {
   "cell_type": "code",
   "execution_count": 10,
   "metadata": {},
   "outputs": [
    {
     "name": "stdout",
     "output_type": "stream",
     "text": [
      "INFO: Pandarallel will run on 2 workers.\n",
      "INFO: Pandarallel will use Memory file system to transfer data between the main process and workers.\n"
     ]
    },
    {
     "name": "stderr",
     "output_type": "stream",
     "text": [
      "[nltk_data] Downloading package punkt to /home/vscode/nltk_data...\n",
      "[nltk_data]   Package punkt is already up-to-date!\n",
      "[nltk_data] Downloading package stopwords to /home/vscode/nltk_data...\n",
      "[nltk_data]   Package stopwords is already up-to-date!\n",
      "[nltk_data] Downloading package wordnet to /home/vscode/nltk_data...\n",
      "[nltk_data]   Package wordnet is already up-to-date!\n"
     ]
    }
   ],
   "source": [
    "from pandarallel import pandarallel\n",
    "import nltk\n",
    "\n",
    "nltk.download('punkt')\n",
    "nltk.download('stopwords')\n",
    "nltk.download('wordnet')\n",
    "\n",
    "pandarallel.initialize(progress_bar=True)\n",
    "\n",
    "\n",
    "def preprocess(text):\n",
    "    from nltk.tokenize import sent_tokenize\n",
    "    from string import punctuation\n",
    "    from nltk.tokenize import word_tokenize\n",
    "    from nltk.corpus import stopwords\n",
    "    from nltk.stem import WordNetLemmatizer\n",
    "\n",
    "    sentences = sent_tokenize(text)\n",
    "    # Lower case\n",
    "    sentences = [sentence.lower() for sentence in sentences]\n",
    "    # Remove punctuation\n",
    "    sentences = [\n",
    "        \"\".join(c for c in sentence if c not in punctuation) for sentence in sentences\n",
    "    ]\n",
    "    # Tokenize words\n",
    "    sentences = [word_tokenize(sentence) for sentence in sentences]\n",
    "    # Remove stopwords\n",
    "    stop_words = stopwords.words(\"english\")\n",
    "    sentences = [\n",
    "        [word for word in sentence if word not in stop_words] for sentence in sentences\n",
    "    ]\n",
    "    # Remove links\n",
    "    sentences = [\n",
    "        [word for word in sentence if not word.startswith(\"http\")]\n",
    "        for sentence in sentences\n",
    "    ]\n",
    "    # Lemmatize\n",
    "    lemmatizer = WordNetLemmatizer()\n",
    "    sentences = [\n",
    "        [lemmatizer.lemmatize(word) for word in sentence] for sentence in sentences\n",
    "    ]\n",
    "    words = \" \".join([\" \".join(sentence) for sentence in sentences])\n",
    "    return words"
   ]
  },
  {
   "cell_type": "code",
   "execution_count": 11,
   "metadata": {},
   "outputs": [],
   "source": [
    "import pandas as pd\n",
    "\n",
    "from bs4 import BeautifulSoup\n",
    "\n",
    "with open(\"./ap/ap/ap.txt\") as f:\n",
    "    content = f.readlines()\n",
    "\n",
    "content = [x.strip() for x in content]\n",
    "content = \" \".join(content)\n",
    "\n",
    "soup = BeautifulSoup(content, \"lxml\")\n",
    "texts = soup.findAll(\"text\")\n",
    "docno = soup.findAll(\"docno\")\n",
    "\n",
    "texts = [text.text.strip() for text in texts]\n",
    "docno = [doc.text for doc in docno]\n",
    "\n",
    "df = pd.DataFrame({\"docno\": docno, \"text\": texts})"
   ]
  },
  {
   "cell_type": "code",
   "execution_count": 12,
   "metadata": {},
   "outputs": [],
   "source": [
    "# Create dir new_ap\n",
    "import os\n",
    "if not os.path.exists(\"new_ap\"):\n",
    "    os.makedirs(\"new_ap\")\n",
    "# Save to csv\n",
    "df.to_csv(\"./new_ap/ap.csv\", index=False)"
   ]
  },
  {
   "cell_type": "code",
   "execution_count": 13,
   "metadata": {},
   "outputs": [
    {
     "data": {
      "text/html": [
       "<div>\n",
       "<style scoped>\n",
       "    .dataframe tbody tr th:only-of-type {\n",
       "        vertical-align: middle;\n",
       "    }\n",
       "\n",
       "    .dataframe tbody tr th {\n",
       "        vertical-align: top;\n",
       "    }\n",
       "\n",
       "    .dataframe thead th {\n",
       "        text-align: right;\n",
       "    }\n",
       "</style>\n",
       "<table border=\"1\" class=\"dataframe\">\n",
       "  <thead>\n",
       "    <tr style=\"text-align: right;\">\n",
       "      <th></th>\n",
       "      <th>docno</th>\n",
       "      <th>text</th>\n",
       "    </tr>\n",
       "  </thead>\n",
       "  <tbody>\n",
       "    <tr>\n",
       "      <th>0</th>\n",
       "      <td>AP881218-0003</td>\n",
       "      <td>A 16-year-old student at a private Baptist sch...</td>\n",
       "    </tr>\n",
       "    <tr>\n",
       "      <th>1</th>\n",
       "      <td>AP880224-0195</td>\n",
       "      <td>The Bechtel Group Inc. offered in 1985 to sell...</td>\n",
       "    </tr>\n",
       "    <tr>\n",
       "      <th>2</th>\n",
       "      <td>AP881017-0144</td>\n",
       "      <td>A gunman took a 74-year-old woman hostage afte...</td>\n",
       "    </tr>\n",
       "    <tr>\n",
       "      <th>3</th>\n",
       "      <td>AP881017-0219</td>\n",
       "      <td>Today is Saturday, Oct. 29, the 303rd day of 1...</td>\n",
       "    </tr>\n",
       "    <tr>\n",
       "      <th>4</th>\n",
       "      <td>AP900117-0022</td>\n",
       "      <td>Cupid has a new message for lovers this Valent...</td>\n",
       "    </tr>\n",
       "  </tbody>\n",
       "</table>\n",
       "</div>"
      ],
      "text/plain": [
       "             docno                                               text\n",
       "0   AP881218-0003   A 16-year-old student at a private Baptist sch...\n",
       "1   AP880224-0195   The Bechtel Group Inc. offered in 1985 to sell...\n",
       "2   AP881017-0144   A gunman took a 74-year-old woman hostage afte...\n",
       "3   AP881017-0219   Today is Saturday, Oct. 29, the 303rd day of 1...\n",
       "4   AP900117-0022   Cupid has a new message for lovers this Valent..."
      ]
     },
     "execution_count": 13,
     "metadata": {},
     "output_type": "execute_result"
    }
   ],
   "source": [
    "# Load csv file\n",
    "df = pd.read_csv(\"./new_ap/ap.csv\")\n",
    "# Drop rows with empty text\n",
    "df = df.dropna(subset=[\"text\"])\n",
    "df.head()"
   ]
  },
  {
   "cell_type": "code",
   "execution_count": 14,
   "metadata": {},
   "outputs": [
    {
     "data": {
      "application/vnd.jupyter.widget-view+json": {
       "model_id": "87d5ce2947454d1db49594a67595a8e3",
       "version_major": 2,
       "version_minor": 0
      },
      "text/plain": [
       "VBox(children=(HBox(children=(IntProgress(value=0, description='0.00%', max=1124), Label(value='0 / 1124'))), …"
      ]
     },
     "metadata": {},
     "output_type": "display_data"
    }
   ],
   "source": [
    "# Preprocess text\n",
    "df[\"text\"] = df[\"text\"].parallel_apply(preprocess)"
   ]
  },
  {
   "cell_type": "code",
   "execution_count": 15,
   "metadata": {},
   "outputs": [
    {
     "data": {
      "text/html": [
       "<div>\n",
       "<style scoped>\n",
       "    .dataframe tbody tr th:only-of-type {\n",
       "        vertical-align: middle;\n",
       "    }\n",
       "\n",
       "    .dataframe tbody tr th {\n",
       "        vertical-align: top;\n",
       "    }\n",
       "\n",
       "    .dataframe thead th {\n",
       "        text-align: right;\n",
       "    }\n",
       "</style>\n",
       "<table border=\"1\" class=\"dataframe\">\n",
       "  <thead>\n",
       "    <tr style=\"text-align: right;\">\n",
       "      <th></th>\n",
       "      <th>docno</th>\n",
       "      <th>text</th>\n",
       "    </tr>\n",
       "  </thead>\n",
       "  <tbody>\n",
       "    <tr>\n",
       "      <th>0</th>\n",
       "      <td>AP881218-0003</td>\n",
       "      <td>16yearold student private baptist school alleg...</td>\n",
       "    </tr>\n",
       "    <tr>\n",
       "      <th>1</th>\n",
       "      <td>AP880224-0195</td>\n",
       "      <td>bechtel group inc offered 1985 sell oil israel...</td>\n",
       "    </tr>\n",
       "    <tr>\n",
       "      <th>2</th>\n",
       "      <td>AP881017-0144</td>\n",
       "      <td>gunman took 74yearold woman hostage foiled att...</td>\n",
       "    </tr>\n",
       "    <tr>\n",
       "      <th>3</th>\n",
       "      <td>AP881017-0219</td>\n",
       "      <td>today saturday oct 29 303rd day 1988 63 day le...</td>\n",
       "    </tr>\n",
       "    <tr>\n",
       "      <th>4</th>\n",
       "      <td>AP900117-0022</td>\n",
       "      <td>cupid new message lover valentine day voluntee...</td>\n",
       "    </tr>\n",
       "  </tbody>\n",
       "</table>\n",
       "</div>"
      ],
      "text/plain": [
       "             docno                                               text\n",
       "0   AP881218-0003   16yearold student private baptist school alleg...\n",
       "1   AP880224-0195   bechtel group inc offered 1985 sell oil israel...\n",
       "2   AP881017-0144   gunman took 74yearold woman hostage foiled att...\n",
       "3   AP881017-0219   today saturday oct 29 303rd day 1988 63 day le...\n",
       "4   AP900117-0022   cupid new message lover valentine day voluntee..."
      ]
     },
     "execution_count": 15,
     "metadata": {},
     "output_type": "execute_result"
    }
   ],
   "source": [
    "df.head()"
   ]
  }
 ],
 "metadata": {
  "kernelspec": {
   "display_name": "base",
   "language": "python",
   "name": "python3"
  },
  "language_info": {
   "codemirror_mode": {
    "name": "ipython",
    "version": 3
   },
   "file_extension": ".py",
   "mimetype": "text/x-python",
   "name": "python",
   "nbconvert_exporter": "python",
   "pygments_lexer": "ipython3",
   "version": "3.11.5"
  },
  "vscode": {
   "interpreter": {
    "hash": "d4d1e4263499bec80672ea0156c357c1ee493ec2b1c70f0acce89fc37c4a6abe"
   }
  }
 },
 "nbformat": 4,
 "nbformat_minor": 2
}

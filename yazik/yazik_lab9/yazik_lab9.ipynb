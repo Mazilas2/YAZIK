{
 "cells": [
  {
   "cell_type": "markdown",
   "metadata": {},
   "source": [
    "## Практическая работа №9\n",
    "+ Язык программирования: Python\n",
    "+ Создать тематическую модель"
   ]
  },
  {
   "cell_type": "markdown",
   "metadata": {},
   "source": [
    "Решение:\n",
    "+ Загрузить библиотеку genism."
   ]
  },
  {
   "cell_type": "code",
   "execution_count": 51,
   "metadata": {},
   "outputs": [
    {
     "name": "stdout",
     "output_type": "stream",
     "text": [
      "2082.02s - pydevd: Sending message related to process being replaced timed-out after 5 seconds\n",
      "Requirement already satisfied: gensim in /opt/conda/lib/python3.11/site-packages (4.3.0)\n",
      "Requirement already satisfied: numpy>=1.18.5 in /opt/conda/lib/python3.11/site-packages (from gensim) (1.25.2)\n",
      "Requirement already satisfied: scipy>=1.7.0 in /opt/conda/lib/python3.11/site-packages (from gensim) (1.11.1)\n",
      "Requirement already satisfied: smart-open>=1.8.1 in /opt/conda/lib/python3.11/site-packages (from gensim) (5.2.1)\n",
      "Requirement already satisfied: FuzzyTM>=0.4.0 in /opt/conda/lib/python3.11/site-packages (from gensim) (2.0.5)\n",
      "Requirement already satisfied: pandas in /opt/conda/lib/python3.11/site-packages (from FuzzyTM>=0.4.0->gensim) (2.0.3)\n",
      "Requirement already satisfied: pyfume in /opt/conda/lib/python3.11/site-packages (from FuzzyTM>=0.4.0->gensim) (0.2.25)\n",
      "Requirement already satisfied: python-dateutil>=2.8.2 in /opt/conda/lib/python3.11/site-packages (from pandas->FuzzyTM>=0.4.0->gensim) (2.8.2)\n",
      "Requirement already satisfied: pytz>=2020.1 in /opt/conda/lib/python3.11/site-packages (from pandas->FuzzyTM>=0.4.0->gensim) (2023.3.post1)\n",
      "Requirement already satisfied: tzdata>=2022.1 in /opt/conda/lib/python3.11/site-packages (from pandas->FuzzyTM>=0.4.0->gensim) (2023.3)\n",
      "Requirement already satisfied: simpful in /opt/conda/lib/python3.11/site-packages (from pyfume->FuzzyTM>=0.4.0->gensim) (2.11.0)\n",
      "Requirement already satisfied: fst-pso in /opt/conda/lib/python3.11/site-packages (from pyfume->FuzzyTM>=0.4.0->gensim) (1.8.1)\n",
      "Requirement already satisfied: six>=1.5 in /opt/conda/lib/python3.11/site-packages (from python-dateutil>=2.8.2->pandas->FuzzyTM>=0.4.0->gensim) (1.12.0)\n",
      "Requirement already satisfied: miniful in /opt/conda/lib/python3.11/site-packages (from fst-pso->pyfume->FuzzyTM>=0.4.0->gensim) (0.0.6)\n",
      "\u001b[33mDEPRECATION: textract 1.6.5 has a non-standard dependency specifier extract-msg<=0.29.*. pip 23.3 will enforce this behaviour change. A possible replacement is to upgrade to a newer version of textract or contact the author to suggest that they release a version with a conforming dependency specifiers. Discussion can be found at https://github.com/pypa/pip/issues/12063\u001b[0m\u001b[33m\n",
      "\u001b[0mNote: you may need to restart the kernel to use updated packages.\n",
      "2090.99s - pydevd: Sending message related to process being replaced timed-out after 5 seconds\n",
      "Requirement already satisfied: pandarallel in /opt/conda/lib/python3.11/site-packages (1.6.5)\n",
      "Requirement already satisfied: dill>=0.3.1 in /opt/conda/lib/python3.11/site-packages (from pandarallel) (0.3.6)\n",
      "Requirement already satisfied: pandas>=1 in /opt/conda/lib/python3.11/site-packages (from pandarallel) (2.0.3)\n",
      "Requirement already satisfied: psutil in /opt/conda/lib/python3.11/site-packages (from pandarallel) (5.9.0)\n",
      "Requirement already satisfied: python-dateutil>=2.8.2 in /opt/conda/lib/python3.11/site-packages (from pandas>=1->pandarallel) (2.8.2)\n",
      "Requirement already satisfied: pytz>=2020.1 in /opt/conda/lib/python3.11/site-packages (from pandas>=1->pandarallel) (2023.3.post1)\n",
      "Requirement already satisfied: tzdata>=2022.1 in /opt/conda/lib/python3.11/site-packages (from pandas>=1->pandarallel) (2023.3)\n",
      "Requirement already satisfied: numpy>=1.21.0 in /opt/conda/lib/python3.11/site-packages (from pandas>=1->pandarallel) (1.25.2)\n",
      "Requirement already satisfied: six>=1.5 in /opt/conda/lib/python3.11/site-packages (from python-dateutil>=2.8.2->pandas>=1->pandarallel) (1.12.0)\n",
      "\u001b[33mDEPRECATION: textract 1.6.5 has a non-standard dependency specifier extract-msg<=0.29.*. pip 23.3 will enforce this behaviour change. A possible replacement is to upgrade to a newer version of textract or contact the author to suggest that they release a version with a conforming dependency specifiers. Discussion can be found at https://github.com/pypa/pip/issues/12063\u001b[0m\u001b[33m\n",
      "\u001b[0mNote: you may need to restart the kernel to use updated packages.\n",
      "2099.82s - pydevd: Sending message related to process being replaced timed-out after 5 seconds\n",
      "Requirement already satisfied: pandas in /opt/conda/lib/python3.11/site-packages (2.0.3)\n",
      "Requirement already satisfied: python-dateutil>=2.8.2 in /opt/conda/lib/python3.11/site-packages (from pandas) (2.8.2)\n",
      "Requirement already satisfied: pytz>=2020.1 in /opt/conda/lib/python3.11/site-packages (from pandas) (2023.3.post1)\n",
      "Requirement already satisfied: tzdata>=2022.1 in /opt/conda/lib/python3.11/site-packages (from pandas) (2023.3)\n",
      "Requirement already satisfied: numpy>=1.21.0 in /opt/conda/lib/python3.11/site-packages (from pandas) (1.25.2)\n",
      "Requirement already satisfied: six>=1.5 in /opt/conda/lib/python3.11/site-packages (from python-dateutil>=2.8.2->pandas) (1.12.0)\n",
      "\u001b[33mDEPRECATION: textract 1.6.5 has a non-standard dependency specifier extract-msg<=0.29.*. pip 23.3 will enforce this behaviour change. A possible replacement is to upgrade to a newer version of textract or contact the author to suggest that they release a version with a conforming dependency specifiers. Discussion can be found at https://github.com/pypa/pip/issues/12063\u001b[0m\u001b[33m\n",
      "\u001b[0mNote: you may need to restart the kernel to use updated packages.\n",
      "2109.06s - pydevd: Sending message related to process being replaced timed-out after 5 seconds\n",
      "Requirement already satisfied: beautifulsoup4 in /opt/conda/lib/python3.11/site-packages (4.8.2)\n",
      "Requirement already satisfied: soupsieve>=1.2 in /opt/conda/lib/python3.11/site-packages (from beautifulsoup4) (2.4)\n",
      "\u001b[33mDEPRECATION: textract 1.6.5 has a non-standard dependency specifier extract-msg<=0.29.*. pip 23.3 will enforce this behaviour change. A possible replacement is to upgrade to a newer version of textract or contact the author to suggest that they release a version with a conforming dependency specifiers. Discussion can be found at https://github.com/pypa/pip/issues/12063\u001b[0m\u001b[33m\n",
      "\u001b[0mNote: you may need to restart the kernel to use updated packages.\n",
      "2117.78s - pydevd: Sending message related to process being replaced timed-out after 5 seconds\n",
      "Requirement already satisfied: lxml in /opt/conda/lib/python3.11/site-packages (4.9.3)\n",
      "\u001b[33mDEPRECATION: textract 1.6.5 has a non-standard dependency specifier extract-msg<=0.29.*. pip 23.3 will enforce this behaviour change. A possible replacement is to upgrade to a newer version of textract or contact the author to suggest that they release a version with a conforming dependency specifiers. Discussion can be found at https://github.com/pypa/pip/issues/12063\u001b[0m\u001b[33m\n",
      "\u001b[0mNote: you may need to restart the kernel to use updated packages.\n"
     ]
    }
   ],
   "source": [
    "%pip install gensim\n",
    "%pip install pandarallel\n",
    "%pip install pandas\n",
    "%pip install beautifulsoup4\n",
    "%pip install lxml"
   ]
  },
  {
   "cell_type": "markdown",
   "metadata": {},
   "source": [
    "В качестве исходного набора данных будет использоваться набор:\n",
    "+ Стандартный набор для машинного обучения – собрание текстов\n",
    "новостей AP (Associated Press)\n",
    "+ В наборе 2246 документов и они представлены в нужном для\n",
    "моделирования формате.\n",
    "+ В папке /ap представлены сами документы (ap.txt, ap.dat), словарь\n",
    "(vocab.txt).\n",
    "\n",
    "Файл ap.dat состоит из кол-ва слов и номеров слов из словаря и частот\n",
    "записанных в формате 178:1.\n",
    "В файле ap.txt хранятся исходные тексты."
   ]
  },
  {
   "cell_type": "code",
   "execution_count": 2,
   "metadata": {},
   "outputs": [],
   "source": [
    "import tarfile \n",
    "\n",
    "with tarfile.open('./ap.tgz') as archive:\n",
    "    archive.extractall('./ap')"
   ]
  },
  {
   "cell_type": "markdown",
   "metadata": {},
   "source": [
    "3 Для построения модели используется конструктор с большим\n",
    "количеством параметров:\n",
    "class gensim.models.ldamodel.LdaModel( corpus=None, num_topics=100,\n",
    "id2word=None,\n",
    "distributed=False,\n",
    "update_every=1, alpha='symmetric', eta=None, decay=0.5, offset=1.0,\n",
    "eval_every=10,\n",
    "iterations=50,\n",
    "minimum_probability=0.01,\n",
    "random_state=None,\n",
    "minimum_phi_value=0.01, per_word_topics=False, callbacks=None)\n",
    "В примере используются параметры:\n",
    "+ corpus – набор текстов,\n",
    "+ id2word - используется для определения размера словаря,\n",
    "+ alpha - по умолчанию 1/num_topics, чем меньше alpha, тем\n",
    "меньше ожидаемое число тем для каждого документа, и\n",
    "наоборот."
   ]
  },
  {
   "cell_type": "code",
   "execution_count": 3,
   "metadata": {},
   "outputs": [],
   "source": [
    "from gensim import corpora, models\n",
    "\n",
    "corpus = corpora.BleiCorpus('./ap/ap/ap.dat', './ap/ap/vocab.txt')"
   ]
  },
  {
   "cell_type": "code",
   "execution_count": 4,
   "metadata": {},
   "outputs": [],
   "source": [
    "model = models.ldamodel.LdaModel(corpus, id2word = corpus.id2word)"
   ]
  },
  {
   "cell_type": "code",
   "execution_count": 5,
   "metadata": {},
   "outputs": [
    {
     "name": "stdout",
     "output_type": "stream",
     "text": [
      "[(1, 0.032615032), (5, 0.05318099), (30, 0.029775903), (40, 0.26630247), (56, 0.08690094), (57, 0.25299042), (61, 0.05664141), (71, 0.022992613), (72, 0.1697183)]\n"
     ]
    }
   ],
   "source": [
    "doc = corpus.docbyoffset(0) # первый документ\n",
    "topics = model[doc]\n",
    "print(topics)"
   ]
  },
  {
   "cell_type": "code",
   "execution_count": 6,
   "metadata": {},
   "outputs": [
    {
     "name": "stdout",
     "output_type": "stream",
     "text": [
      "[9, 10, 10, 18, 6, 16, 9, 2, 4, 4, 4, 12, 9, 4, 8, 7, 10, 12, 11, 15, 3, 2, 4, 7, 5, 16, 7, 12, 10, 11, 12, 11, 4, 10, 12, 7, 12, 10, 10, 6, 11, 4, 15, 7, 9, 10, 5, 10, 12, 9, 6, 7, 14, 10, 8, 5, 13, 8, 6, 2, 10, 13, 10, 12, 8, 7, 8, 9, 6, 3, 7, 6, 6, 9, 12, 9, 15, 11, 12, 11, 14, 7, 3, 8, 16, 12, 9, 3, 6, 10, 7, 9, 20, 12, 14, 9, 3, 4, 6, 13, 19, 14, 2, 7, 5, 10, 4, 7, 12, 8, 10, 21, 7, 12, 13, 7, 15, 16, 7, 7, 3, 2, 7, 13, 7, 4, 18, 5, 9, 8, 5, 8, 2, 9, 12, 6, 10, 5, 12, 12, 12, 7, 13, 7, 6, 12, 3, 12, 3, 10, 7, 8, 13, 3, 6, 5, 11, 13, 8, 6, 11, 6, 6, 9, 4, 13, 12, 15, 17, 9, 10, 16, 3, 9, 9, 11, 8, 3, 8, 5, 3, 8, 11, 15, 13, 2, 3, 4, 4, 7, 12, 13, 10, 10, 12, 12, 8, 15, 10, 7, 12, 11, 9, 11, 11, 6, 16, 7, 5, 10, 6, 9, 5, 4, 15, 12, 8, 4, 7, 6, 10, 12, 12, 9, 11, 9, 4, 3, 18, 11, 12, 11, 14, 13, 12, 12, 8, 9, 9, 4, 8, 7, 8, 5, 10, 14, 2, 7, 10, 9, 9, 7, 15, 14, 16, 4, 10, 4, 9, 2, 12, 15, 10, 12, 11, 12, 7, 11, 7, 6, 4, 5, 10, 6, 5, 7, 9, 14, 8, 13, 6, 12, 12, 6, 12, 7, 11, 9, 11, 11, 17, 7, 6, 9, 10, 10, 7, 4, 14, 6, 11, 12, 6, 7, 11, 3, 7, 1, 9, 5, 14, 10, 9, 15, 9, 4, 14, 6, 10, 11, 12, 8, 12, 11, 18, 2, 9, 8, 14, 10, 14, 4, 10, 14, 7, 9, 15, 7, 1, 13, 11, 12, 8, 8, 14, 15, 6, 6, 12, 4, 11, 11, 15, 7, 10, 10, 10, 8, 8, 6, 15, 17, 10, 12, 12, 12, 9, 11, 11, 5, 4, 9, 11, 12, 11, 8, 6, 5, 9, 11, 1, 11, 10, 5, 10, 13, 9, 11, 3, 6, 13, 9, 14, 8, 9, 11, 11, 7, 14, 13, 9, 5, 10, 2, 9, 6, 9, 13, 16, 9, 15, 2, 13, 10, 7, 7, 5, 7, 16, 10, 15, 6, 12, 11, 6, 11, 8, 7, 12, 10, 8, 9, 7, 9, 13, 12, 13, 15, 9, 13, 9, 8, 10, 4, 1, 15, 4, 6, 12, 10, 8, 16, 8, 9, 9, 14, 10, 13, 11, 9, 14, 8, 7, 14, 14, 12, 6, 8, 15, 7, 5, 9, 11, 12, 11, 9, 5, 6, 11, 10, 15, 10, 5, 10, 4, 9, 13, 10, 9, 6, 10, 8, 13, 7, 7, 15, 9, 3, 5, 11, 8, 13, 8, 12, 11, 10, 13, 4, 12, 15, 2, 12, 7, 1, 3, 7, 10, 4, 12, 6, 11, 12, 4, 5, 17, 9, 8, 11, 7, 6, 12, 10, 14, 10, 8, 5, 14, 9, 2, 9, 12, 13, 13, 4, 7, 15, 7, 3, 8, 9, 8, 11, 6, 8, 13, 10, 14, 5, 3, 17, 13, 9, 6, 5, 6, 12, 12, 9, 16, 7, 9, 9, 2, 10, 8, 6, 13, 9, 7, 9, 13, 7, 18, 19, 10, 12, 18, 9, 10, 11, 11, 5, 11, 13, 7, 21, 10, 10, 8, 5, 10, 10, 10, 7, 9, 9, 13, 11, 5, 6, 10, 6, 16, 6, 13, 7, 9, 3, 13, 8, 6, 13, 13, 10, 2, 10, 3, 5, 7, 8, 11, 13, 10, 8, 7, 3, 3, 10, 4, 11, 9, 6, 9, 8, 15, 13, 9, 19, 8, 10, 4, 3, 10, 13, 15, 2, 7, 4, 9, 8, 10, 6, 7, 11, 5, 9, 13, 4, 9, 5, 11, 10, 4, 11, 4, 11, 4, 18, 8, 11, 10, 12, 12, 9, 6, 10, 7, 9, 14, 15, 11, 6, 9, 9, 8, 9, 9, 13, 2, 7, 11, 10, 11, 9, 12, 4, 5, 10, 2, 12, 4, 3, 3, 2, 11, 7, 9, 18, 2, 1, 10, 5, 14, 14, 12, 13, 10, 3, 3, 7, 13, 9, 10, 15, 4, 11, 7, 12, 11, 6, 3, 6, 16, 12, 8, 6, 10, 5, 4, 11, 9, 19, 5, 13, 7, 11, 13, 4, 10, 13, 11, 7, 14, 9, 4, 8, 10, 7, 5, 12, 9, 11, 15, 6, 12, 7, 10, 7, 11, 15, 12, 21, 5, 14, 19, 10, 16, 4, 16, 10, 7, 16, 7, 3, 8, 3, 6, 15, 4, 9, 8, 12, 7, 9, 11, 7, 9, 15, 11, 12, 18, 18, 9, 12, 7, 18, 20, 8, 15, 11, 6, 11, 11, 5, 10, 10, 10, 8, 12, 7, 10, 1, 11, 7, 10, 17, 9, 7, 13, 8, 9, 16, 13, 9, 6, 7, 13, 6, 6, 4, 11, 9, 8, 13, 7, 14, 12, 16, 8, 16, 9, 11, 13, 18, 4, 10, 12, 8, 9, 11, 6, 10, 9, 10, 13, 10, 8, 12, 9, 7, 10, 11, 9, 8, 5, 14, 6, 5, 17, 5, 12, 6, 10, 9, 13, 14, 13, 7, 11, 8, 11, 10, 12, 8, 4, 13, 8, 6, 13, 13, 8, 7, 8, 7, 10, 5, 7, 11, 7, 7, 8, 10, 9, 7, 2, 5, 14, 5, 9, 18, 6, 12, 12, 12, 3, 6, 11, 5, 11, 1, 9, 9, 8, 7, 16, 11, 11, 15, 9, 4, 3, 7, 15, 10, 6, 12, 7, 10, 18, 9, 11, 7, 10, 7, 1, 5, 11, 11, 9, 9, 9, 2, 1, 14, 6, 3, 10, 6, 20, 13, 12, 14, 6, 9, 8, 9, 11, 6, 11, 16, 14, 1, 3, 2, 9, 7, 2, 10, 3, 10, 5, 12, 10, 11, 3, 6, 19, 8, 9, 7, 11, 11, 13, 14, 6, 10, 10, 4, 8, 12, 7, 5, 14, 10, 7, 10, 9, 5, 7, 5, 5, 5, 8, 4, 9, 15, 4, 4, 14, 15, 13, 3, 8, 12, 8, 8, 10, 3, 5, 5, 11, 9, 3, 3, 7, 9, 13, 10, 6, 7, 12, 11, 6, 9, 12, 15, 12, 11, 2, 11, 14, 14, 11, 5, 11, 8, 6, 8, 4, 6, 17, 7, 11, 2, 9, 14, 3, 7, 7, 10, 5, 5, 7, 2, 11, 8, 8, 2, 9, 15, 12, 3, 10, 13, 5, 12, 2, 8, 19, 14, 16, 3, 16, 6, 7, 8, 9, 7, 13, 6, 1, 13, 12, 4, 10, 11, 5, 11, 10, 12, 10, 13, 10, 10, 9, 9, 8, 5, 8, 11, 5, 4, 7, 4, 15, 12, 6, 10, 17, 9, 9, 10, 10, 13, 4, 7, 9, 10, 9, 10, 16, 6, 4, 9, 11, 7, 14, 5, 8, 11, 10, 5, 7, 2, 9, 11, 11, 10, 12, 15, 8, 15, 5, 3, 12, 4, 6, 15, 5, 11, 8, 14, 9, 14, 10, 4, 7, 8, 4, 8, 2, 7, 11, 10, 11, 11, 8, 7, 11, 4, 9, 8, 15, 13, 7, 12, 6, 6, 9, 9, 3, 7, 8, 6, 10, 7, 8, 10, 14, 10, 6, 7, 7, 12, 10, 6, 10, 4, 7, 8, 5, 16, 6, 4, 3, 8, 11, 10, 2, 8, 14, 2, 2, 16, 2, 7, 4, 7, 8, 12, 8, 13, 12, 6, 6, 14, 5, 12, 11, 1, 6, 4, 15, 7, 12, 12, 11, 16, 10, 4, 3, 5, 8, 6, 9, 2, 10, 9, 8, 6, 21, 12, 10, 5, 7, 9, 9, 10, 9, 7, 9, 1, 3, 5, 13, 7, 6, 9, 10, 6, 8, 6, 3, 8, 5, 5, 13, 10, 14, 6, 10, 6, 10, 7, 2, 9, 4, 11, 3, 10, 7, 12, 5, 1, 5, 12, 11, 14, 9, 13, 3, 3, 4, 13, 5, 8, 2, 5, 4, 5, 8, 8, 9, 1, 12, 7, 8, 5, 10, 12, 5, 6, 3, 8, 8, 13, 6, 12, 16, 10, 8, 7, 13, 2, 9, 13, 11, 9, 12, 11, 11, 9, 5, 7, 9, 8, 7, 9, 10, 13, 15, 9, 5, 12, 7, 7, 15, 13, 11, 4, 9, 2, 9, 16, 8, 1, 18, 13, 10, 8, 5, 7, 7, 11, 15, 7, 10, 10, 14, 14, 14, 4, 4, 11, 12, 10, 7, 9, 12, 8, 10, 8, 7, 2, 10, 13, 14, 11, 8, 11, 11, 17, 7, 10, 9, 8, 2, 11, 7, 3, 7, 12, 11, 10, 6, 6, 9, 8, 4, 8, 3, 5, 14, 7, 14, 6, 14, 8, 12, 15, 17, 9, 12, 13, 8, 6, 8, 16, 3, 14, 11, 13, 4, 4, 9, 12, 8, 1, 11, 10, 6, 8, 4, 11, 7, 11, 5, 4, 10, 12, 7, 10, 5, 15, 10, 16, 9, 7, 6, 8, 9, 3, 3, 8, 12, 7, 15, 11, 6, 5, 8, 4, 8, 8, 10, 8, 10, 14, 7, 10, 10, 11, 11, 14, 5, 7, 2, 7, 9, 3, 3, 3, 10, 11, 10, 9, 12, 8, 6, 1, 11, 16, 6, 18, 8, 8, 11, 6, 14, 7, 12, 4, 7, 7, 8, 10, 4, 9, 6, 6, 9, 5, 10, 5, 5, 12, 8, 6, 8, 16, 12, 14, 9, 9, 11, 4, 9, 14, 16, 6, 10, 19, 13, 12, 8, 8, 13, 6, 7, 2, 5, 5, 9, 11, 10, 11, 6, 13, 9, 11, 14, 2, 12, 6, 4, 12, 7, 8, 7, 12, 4, 3, 6, 13, 7, 9, 7, 10, 7, 16, 8, 11, 4, 12, 6, 4, 7, 12, 10, 10, 3, 4, 13, 4, 11, 13, 14, 9, 11, 4, 12, 7, 3, 12, 6, 9, 11, 1, 6, 2, 1, 14, 9, 11, 2, 8, 9, 12, 10, 6, 7, 23, 8, 8, 12, 7, 12, 13, 11, 12, 11, 9, 7, 14, 16, 6, 10, 15, 12, 11, 7, 18, 6, 15, 17, 6, 10, 8, 8, 4, 16, 12, 16, 5, 8, 10, 7, 11, 9, 2, 5, 10, 3, 12, 3, 2, 14, 8, 14, 17, 9, 11, 15, 2, 6, 7, 15, 3, 6, 13, 2, 9, 11, 5, 5, 11, 7, 7, 6, 7, 8, 13, 18, 5, 13, 19, 11, 6, 12, 11, 12, 9, 7, 10, 4, 8, 11, 9, 14, 14, 3, 6, 10, 5, 9, 11, 8, 10, 5, 6, 6, 7, 12, 4, 10, 5, 13, 3, 8, 6, 7, 8, 11, 16, 9, 12, 12, 10, 6, 4, 10, 8, 4, 11, 11, 8, 11, 8, 9, 7, 5, 8, 9, 13, 6, 10, 10, 5, 8, 7, 8, 13, 6, 9, 1, 3, 7, 15, 10, 9, 4, 17, 12, 9, 8, 11, 6, 4, 14, 10, 12, 8, 4, 4, 9, 9, 14, 13, 6, 11, 5, 7, 14, 7, 14, 10, 3, 9, 4, 8, 6, 18, 14, 10, 7, 2, 13, 12, 11, 15, 10, 7, 4, 9, 8, 9, 7, 9, 19, 9, 13, 9, 9, 10, 9, 13, 3, 4, 6, 10, 4, 4, 4, 8, 3, 5, 6, 7, 5, 19, 14, 5, 10, 11, 5, 5, 10, 6, 6, 14, 10, 8, 9, 9, 12, 10, 8, 17, 11, 10, 11, 16, 6, 10, 13, 11, 14, 11, 5, 11, 7, 7, 11, 10, 11, 3, 13, 8, 2, 14, 13, 8, 10, 11, 6, 14, 9, 10, 13, 8, 7, 4, 3, 14, 11, 8, 7, 12, 4, 12, 7, 12, 10, 6, 9, 9, 6, 15, 8, 8, 15, 8, 13, 4, 6, 6, 8, 9, 7, 11, 3, 11, 11, 16, 8, 5, 6, 9, 17, 12, 11, 13, 15, 9, 11, 15, 8, 9, 6, 9, 8, 9, 2, 8, 9, 8, 11, 8, 8, 17, 5, 8, 4, 7, 8, 5, 10, 8, 3, 3, 10, 8, 8, 6, 7, 4, 9, 5, 7, 8, 9, 8, 6, 6, 8, 5, 6, 9, 5, 4, 5, 6, 8, 3, 10, 5, 10, 8, 6, 4, 6, 9, 4, 7, 6, 9, 10, 8, 8, 6, 6, 8, 4, 1, 3, 4, 4, 8, 9, 7, 7, 9, 9, 6, 7, 7, 6, 7, 6, 8, 8, 3, 9, 3, 3, 7, 5, 6, 7, 6, 5, 4, 4, 6, 4, 4, 5, 8, 8, 8, 10, 6, 7, 2, 6, 10, 2, 4, 4, 5, 6, 4, 14, 9, 6, 7, 6, 8, 7, 7, 8, 9, 8, 7, 7, 6, 7, 6, 4, 5, 10, 7, 11, 7, 6, 9, 6, 3, 2, 3, 5, 5, 4, 10, 5, 5, 8, 8, 3, 6, 6, 6, 4, 9, 9, 4, 9, 6, 4, 11, 6, 7, 7, 8, 6, 7, 6, 9, 4, 2, 5, 8, 5, 6, 7, 5, 6, 2, 11, 6, 7, 9, 10, 7, 5, 6, 4, 5, 9, 3, 4, 6, 7, 9, 6, 3, 11, 7, 9, 6, 7, 8, 5, 4, 8, 7, 8, 7, 4, 9, 10, 7, 4, 9, 7, 3, 8, 6, 11, 3, 11, 8, 1, 8, 5, 6, 11, 8, 8, 9, 6, 10, 7, 3, 8, 8, 6, 10, 7, 3, 5, 5, 9, 8, 7, 6, 7, 7, 4, 5, 8, 2, 5, 8, 7, 5]\n"
     ]
    }
   ],
   "source": [
    "# данные для гистограммы частотности тем, ассоциированных с документами\n",
    "num_topics_used = [len(model[doc]) for doc in corpus]\n",
    "print (num_topics_used)"
   ]
  },
  {
   "cell_type": "code",
   "execution_count": 7,
   "metadata": {},
   "outputs": [
    {
     "data": {
      "text/plain": [
       "(array([179., 278., 426., 454., 407., 345., 102.,  36.,  14.,   5.]),\n",
       " array([ 1. ,  3.2,  5.4,  7.6,  9.8, 12. , 14.2, 16.4, 18.6, 20.8, 23. ]),\n",
       " <BarContainer object of 10 artists>)"
      ]
     },
     "execution_count": 7,
     "metadata": {},
     "output_type": "execute_result"
    },
    {
     "data": {
      "image/png": "[encoded data removed]",
      "text/plain": [
       "<Figure size 640x480 with 1 Axes>"
      ]
     },
     "metadata": {},
     "output_type": "display_data"
    }
   ],
   "source": [
    "import matplotlib.pyplot as plt\n",
    "plt.hist(num_topics_used)"
   ]
  },
  {
   "cell_type": "code",
   "execution_count": 8,
   "metadata": {},
   "outputs": [
    {
     "name": "stdout",
     "output_type": "stream",
     "text": [
      "[('tax', 0.019159146), ('jackson', 0.00981407), ('mad', 0.008899845), ('taxpayers', 0.00789059), ('dukakis', 0.006858702), ('i', 0.0061238282), ('tribune', 0.0053280345), ('american', 0.0052874116), ('reform', 0.005273136), ('deductions', 0.0050347517), ('bush', 0.0049773655), ('outrage', 0.0048239944), ('year', 0.004389432), ('new', 0.0042888755), ('people', 0.0042749), ('panamanian', 0.004151091), ('treasure', 0.0041468577), ('illinois', 0.0041255862), ('president', 0.003771164), ('two', 0.0037396739), ('wis', 0.0037107621), ('last', 0.0036119947), ('support', 0.0035580818), ('dinner', 0.0035353526), ('mate', 0.0033496686), ('dan', 0.0033446557), ('chicago', 0.0033397358), ('cove', 0.003312284), ('aides', 0.0033060026), ('washington', 0.0032483707), ('government', 0.003151824), ('species', 0.0030812444), ('cream', 0.003001809), ('democratic', 0.0029750166), ('flower', 0.0029383374), ('house', 0.0029155142), ('preferred', 0.0028848618), ('panama', 0.0028771355), ('solomon', 0.0028294188), ('comprised', 0.0028145232), ('soviet', 0.0027514922), ('reagan', 0.0027257763), ('york', 0.002709484), ('theyre', 0.0026995067), ('pointing', 0.0026909292), ('magazines', 0.002643962), ('persons', 0.002639362), ('impressive', 0.0026290703), ('fence', 0.002588591), ('address', 0.0025615643), ('chairman', 0.0025607697), ('entertained', 0.0025601448), ('act', 0.0025345006), ('george', 0.0025281121), ('family', 0.0025073434), ('gop', 0.002501457), ('campaign', 0.0025006428), ('percent', 0.0024475364), ('harassment', 0.0024357452), ('served', 0.0023540216), ('denver', 0.0023496363), ('democrats', 0.0023262578), ('overwhelming', 0.0022979013), ('deduction', 0.0022930312)]\n",
      "\n",
      "[('ag', 0.020314047), ('silicon', 0.009535567), ('electric', 0.008718382), ('joey', 0.007387061), ('contracts', 0.0061787805), ('joan', 0.005815635), ('victims', 0.0052510137), ('burial', 0.005102282), ('i', 0.004829645), ('usda', 0.0047851754), ('settled', 0.004780208), ('baby', 0.004774708), ('new', 0.004746005), ('hopkins', 0.0045386353), ('am', 0.004297169), ('johns', 0.0041970904), ('allan', 0.004125779), ('family', 0.0039951745), ('million', 0.003983074), ('last', 0.003935227), ('government', 0.0039079306), ('news', 0.0038505374), ('home', 0.0037779), ('wage', 0.0035627296), ('theaters', 0.0033654138), ('years', 0.0033340908), ('youngsters', 0.0031261344), ('workers', 0.0030933022), ('two', 0.0030867166), ('film', 0.0030377384), ('thompson', 0.003026487), ('year', 0.0029821133), ('bargaining', 0.0029061546), ('state', 0.0028677182), ('time', 0.002719457), ('son', 0.0026674417), ('office', 0.002662326), ('movie', 0.002657538), ('bus', 0.0026505205), ('victor', 0.0026142364), ('center', 0.0025752177), ('born', 0.0025439842), ('top', 0.0025384862), ('told', 0.0024942346), ('christ', 0.0024780978), ('percent', 0.0024686109), ('marshal', 0.0024606462), ('tracks', 0.0024386207), ('birth', 0.0024007284), ('liver', 0.0023843201), ('neighbor', 0.0023728842), ('mary', 0.00235376), ('grave', 0.0023244615), ('electricity', 0.0022772055), ('yearold', 0.0022729603), ('newport', 0.002260815), ('known', 0.0022574323), ('first', 0.0022409637), ('covered', 0.002234426), ('carol', 0.0022204), ('covering', 0.0022160567), ('died', 0.0021527235), ('research', 0.0021224557), ('people', 0.0020328125)]\n",
      "\n",
      "[('million', 0.01123849), ('abortion', 0.009833099), ('immigrants', 0.009337553), ('i', 0.009037062), ('year', 0.007843347), ('state', 0.0068669743), ('rape', 0.006679313), ('pregnant', 0.0066550835), ('new', 0.006398975), ('fiscal', 0.0060110823), ('souter', 0.005979464), ('incest', 0.0053465557), ('adapt', 0.0051599964), ('cook', 0.0051562823), ('court', 0.0049673105), ('percent', 0.0047013503), ('senate', 0.004638681), ('fair', 0.0040448154), ('years', 0.0039826967), ('rights', 0.0038754602), ('consent', 0.0038242848), ('antiabortion', 0.0037527746), ('irish', 0.0037461016), ('physicians', 0.0036077523), ('people', 0.0034880403), ('supreme', 0.0034484388), ('two', 0.0033665015), ('openings', 0.0032031955), ('distress', 0.0032026574), ('biden', 0.0030103305), ('committee', 0.0029459188), ('attorney', 0.0028736496), ('awards', 0.0028583508), ('life', 0.002820692), ('victims', 0.0027401682), ('just', 0.002729167), ('hospital', 0.002712633), ('go', 0.002655792), ('billion', 0.0026501399), ('medical', 0.0026341837), ('president', 0.002502368), ('told', 0.002453725), ('members', 0.0024113199), ('like', 0.0023093813), ('bill', 0.0022323506), ('group', 0.0022152944), ('thats', 0.0022010088), ('tuesday', 0.0021855761), ('officials', 0.0021841985), ('contended', 0.002156611), ('three', 0.0021473924), ('soviet', 0.0021327962), ('hampshire', 0.0021254437), ('law', 0.0021193377), ('access', 0.002077064), ('last', 0.0020380712), ('immigrant', 0.0020349463), ('sales', 0.002025461), ('knowledge', 0.002024373), ('made', 0.002015259), ('women', 0.0019830696), ('death', 0.0019433722), ('climate', 0.0019369356), ('richard', 0.0019355227)]\n",
      "\n",
      "[('kashmir', 0.03366024), ('moslem', 0.029225634), ('india', 0.022894254), ('pakistan', 0.020389535), ('srinagar', 0.015971357), ('people', 0.015686264), ('charities', 0.015491313), ('moslems', 0.014710444), ('jammukashmir', 0.01272737), ('state', 0.012683313), ('militants', 0.012230351), ('curfew', 0.010534017), ('indian', 0.010082414), ('two', 0.009465946), ('secession', 0.008674605), ('hindu', 0.007239712), ('percent', 0.0072355587), ('virgin', 0.006734924), ('pakistani', 0.0065543125), ('indictment', 0.006432839), ('jan', 0.006330684), ('deductions', 0.005589663), ('flared', 0.005377907), ('kabul', 0.0051778755), ('six', 0.0051721637), ('million', 0.004933126), ('killed', 0.004693255), ('afghan', 0.004651581), ('population', 0.0045962697), ('government', 0.004419911), ('right', 0.004267643), ('monday', 0.0040908903), ('year', 0.004067284), ('capital', 0.0040361243), ('troops', 0.0040352675), ('health', 0.004033137), ('miles', 0.0038643095), ('merrell', 0.0036991446), ('alleged', 0.0035287535), ('supervised', 0.003385749), ('ruler', 0.003286497), ('religious', 0.0032295359), ('firing', 0.0032267305), ('police', 0.0032239275), ('sectors', 0.0031995657), ('islands', 0.0031577542), ('gaining', 0.0031346658), ('appointment', 0.0031005435), ('towns', 0.003059062), ('valley', 0.0030522852), ('singh', 0.0029183154), ('independence', 0.002896653), ('federal', 0.0028910874), ('control', 0.002831399), ('post', 0.0027961696), ('three', 0.0027934394), ('says', 0.0027893337), ('paramilitary', 0.0027742516), ('incident', 0.0026398576), ('march', 0.0026338398), ('form', 0.002619571), ('movement', 0.002619421), ('group', 0.0026040096), ('war', 0.0025740503)]\n",
      "\n",
      "[('sea', 0.018098371), ('helicopter', 0.016153993), ('air', 0.012349598), ('navy', 0.011903672), ('planes', 0.010457297), ('va', 0.008493521), ('accident', 0.007775782), ('fa', 0.007650283), ('naval', 0.007645684), ('ship', 0.0067411186), ('dead', 0.006640209), ('killed', 0.0059588077), ('two', 0.005917847), ('north', 0.005883486), ('aboard', 0.0056823315), ('federations', 0.005623152), ('desert', 0.0056086476), ('injuries', 0.0054842336), ('presumed', 0.005351954), ('flew', 0.005227583), ('died', 0.0051614535), ('col', 0.0049128947), ('mathematical', 0.0048644026), ('officials', 0.004837718), ('force', 0.0048270994), ('fleet', 0.004822325), ('area', 0.004697764), ('radar', 0.0045224107), ('lt', 0.0041625486), ('launched', 0.004066341), ('sailors', 0.003999896), ('calif', 0.0038347456), ('command', 0.0038196056), ('tuesday', 0.0037554232), ('thursday', 0.0036878407), ('data', 0.0036508508), ('cmdr', 0.003558674), ('operation', 0.003516228), ('land', 0.003498701), ('support', 0.0034765953), ('get', 0.003455196), ('jr', 0.003442648), ('forestry', 0.0033659684), ('marine', 0.0032843018), ('immediately', 0.0032212248), ('headquartered', 0.003200962), ('marines', 0.0031625456), ('back', 0.003125436), ('million', 0.0031184885), ('rd', 0.0030966015), ('crew', 0.003084736), ('based', 0.0030416392), ('aug', 0.003002911), ('burns', 0.0029913627), ('arrived', 0.0029538507), ('result', 0.0029495163), ('timothy', 0.0029390983), ('spokesman', 0.0029099034), ('r', 0.0028337003), ('designed', 0.0028309342), ('norfolk', 0.002830783), ('people', 0.0028269829), ('assault', 0.002768635), ('members', 0.00275017)]\n",
      "\n",
      "[('mecham', 0.027028525), ('students', 0.017538771), ('school', 0.013478886), ('socialism', 0.012558464), ('student', 0.012542881), ('milstead', 0.012483286), ('schools', 0.0106471935), ('cavazos', 0.007880003), ('french', 0.0074849096), ('hose', 0.007418047), ('board', 0.0062531624), ('senators', 0.006067999), ('german', 0.0052861073), ('education', 0.0049302033), ('state', 0.004807886), ('theyd', 0.004600437), ('east', 0.0043694433), ('march', 0.004191011), ('attorney', 0.0041079856), ('dances', 0.0038432209), ('skills', 0.003834658), ('dance', 0.003701036), ('official', 0.0036384072), ('craft', 0.0036292837), ('told', 0.0035999748), ('bank', 0.0035665724), ('i', 0.0035161334), ('people', 0.0034375915), ('money', 0.0033614624), ('new', 0.0033008268), ('high', 0.0032628838), ('fail', 0.0032592365), ('netherlands', 0.0030703878), ('loan', 0.0030581462), ('threat', 0.003034185), ('mechams', 0.002950987), ('governors', 0.0029339197), ('alleged', 0.0028672186), ('impeachment', 0.002859148), ('arguments', 0.0028508026), ('office', 0.0028384335), ('billion', 0.0027812186), ('tradition', 0.0027394497), ('defense', 0.002739436), ('west', 0.0026777687), ('first', 0.002655195), ('rates', 0.0026255986), ('time', 0.002622677), ('austria', 0.0025884754), ('years', 0.0025350205), ('senate', 0.0025300796), ('friday', 0.0025137155), ('italy', 0.0025020498), ('general', 0.0024170298), ('hurled', 0.0024097033), ('group', 0.002337276), ('last', 0.002336082), ('just', 0.0022933772), ('change', 0.0022781298), ('testified', 0.0022435028), ('going', 0.0021815365), ('dec', 0.0021454282), ('allied', 0.0020786857), ('get', 0.002041213)]\n",
      "\n",
      "[('boring', 0.007866722), ('i', 0.007596477), ('waste', 0.007564856), ('sewage', 0.0061168484), ('earth', 0.0059040734), ('container', 0.0055962647), ('planners', 0.005262743), ('environmentalists', 0.0046891193), ('castle', 0.004534745), ('epa', 0.004229206), ('institute', 0.0040772343), ('officials', 0.0040145507), ('pollution', 0.003928884), ('people', 0.0038887083), ('dump', 0.0038832652), ('percent', 0.0038755334), ('municipal', 0.0037172453), ('indicates', 0.003633454), ('dont', 0.0034512195), ('spacecraft', 0.0032965823), ('take', 0.0031980944), ('local', 0.0030673495), ('years', 0.0030505129), ('back', 0.0030234724), ('think', 0.002892654), ('say', 0.0028095548), ('fails', 0.0026967332), ('plant', 0.0026794684), ('time', 0.002628024), ('authors', 0.0026025581), ('invested', 0.002586994), ('disposal', 0.0025747442), ('revenge', 0.0025710608), ('study', 0.0025676673), ('spurred', 0.0025047192), ('earthquakes', 0.0024884923), ('new', 0.0024824592), ('states', 0.0024803188), ('program', 0.0024764007), ('public', 0.0024747003), ('get', 0.0024392921), ('environmental', 0.0024284783), ('says', 0.0023949335), ('map', 0.0023690457), ('week', 0.002351263), ('space', 0.0023467657), ('show', 0.0023408532), ('president', 0.0023375377), ('state', 0.0022909085), ('patient', 0.002282953), ('bored', 0.0022661437), ('mentally', 0.0022623972), ('peer', 0.0022328016), ('indiana', 0.0022300961), ('look', 0.002214665), ('made', 0.002207538), ('mercury', 0.0022003844), ('andersons', 0.0021914386), ('california', 0.002189211), ('million', 0.0021814394), ('times', 0.0021693415), ('creek', 0.0021662198), ('governments', 0.0021442876), ('court', 0.0021296141)]\n",
      "\n",
      "[('cox', 0.013980092), ('residency', 0.010155403), ('deemed', 0.0070475466), ('backers', 0.006764305), ('new', 0.0048404047), ('finland', 0.0047234376), ('nations', 0.004162844), ('industrys', 0.0038916986), ('influx', 0.0035228701), ('year', 0.0032877603), ('graves', 0.0032158424), ('people', 0.0030708185), ('congress', 0.0030574414), ('air', 0.0028570904), ('bill', 0.0028551721), ('years', 0.0028338714), ('first', 0.0028208336), ('agreement', 0.002817369), ('party', 0.0026265362), ('work', 0.0025939567), ('president', 0.002461758), ('gorbachev', 0.0024094603), ('military', 0.002404698), ('aid', 0.0023108514), ('united', 0.0022854893), ('disease', 0.0022819603), ('last', 0.0022112268), ('force', 0.0021755043), ('percent', 0.0021620798), ('soviet', 0.0021337688), ('i', 0.002111728), ('government', 0.00209645), ('kuwait', 0.0020543246), ('american', 0.0020463804), ('three', 0.0019901649), ('two', 0.001957621), ('war', 0.0019209137), ('receive', 0.0019012302), ('group', 0.0018908491), ('world', 0.001868095), ('plan', 0.0018119802), ('says', 0.0017625698), ('national', 0.001715387), ('report', 0.0016816077), ('fire', 0.0016677288), ('compromise', 0.0016675206), ('friday', 0.0016568778), ('iraq', 0.0016356696), ('senate', 0.0016065843), ('states', 0.0015965977), ('money', 0.0015577975), ('cable', 0.0015345945), ('labor', 0.0015224715), ('million', 0.0014895853), ('service', 0.001488965), ('week', 0.0014804772), ('citizens', 0.001465878), ('treatment', 0.0014605249), ('today', 0.0014593442), ('health', 0.0014459773), ('wednesday', 0.0014403912), ('rights', 0.0014355391), ('expected', 0.0014296832), ('political', 0.0014278902)]\n",
      "\n",
      "[('billion', 0.013508827), ('year', 0.011084449), ('fiscal', 0.009412997), ('million', 0.009338037), ('percent', 0.009337502), ('black', 0.007474242), ('last', 0.006832484), ('cafe', 0.0064372546), ('corp', 0.005199418), ('new', 0.004997076), ('people', 0.0041121417), ('government', 0.004054926), ('two', 0.004052041), ('defense', 0.0037800516), ('tuesday', 0.0035131762), ('evans', 0.0033160523), ('president', 0.0032725928), ('report', 0.0032332495), ('human', 0.0031905812), ('speaker', 0.0031750805), ('grumman', 0.0030607043), ('rebels', 0.0029893834), ('increase', 0.0029657958), ('development', 0.0029270127), ('house', 0.0028910146), ('countries', 0.002882011), ('world', 0.00287818), ('imports', 0.0028576464), ('johnston', 0.002846973), ('ranking', 0.002813035), ('gown', 0.0027734342), ('houston', 0.0026816998), ('three', 0.0026790467), ('disease', 0.0026052766), ('month', 0.0026021102), ('week', 0.0025610214), ('aerospace', 0.00255163), ('officials', 0.0025287443), ('company', 0.002514329), ('share', 0.0024845619), ('co', 0.002484277), ('rejected', 0.0024727779), ('expected', 0.0024453187), ('engineering', 0.0024402707), ('deficit', 0.0024218808), ('occupants', 0.0023564678), ('sleeping', 0.0022724962), ('years', 0.0022543422), ('military', 0.0022356377), ('united', 0.0022277697), ('group', 0.0022045965), ('largest', 0.0021767612), ('cut', 0.002146548), ('mrs', 0.002103182), ('address', 0.002099647), ('drug', 0.0020633962), ('time', 0.0020394798), ('spending', 0.0020160223), ('health', 0.0020140426), ('brave', 0.0020090584), ('budget', 0.0020060162), ('far', 0.0020028288), ('followers', 0.001975283), ('match', 0.001973522)]\n",
      "\n",
      "[('rig', 0.008068366), ('percent', 0.008027932), ('traffic', 0.0074631087), ('states', 0.0072653852), ('turnout', 0.0071302536), ('year', 0.0063097463), ('people', 0.005840337), ('national', 0.005814493), ('exiles', 0.0055118063), ('government', 0.005246328), ('population', 0.0051550823), ('i', 0.0048989537), ('years', 0.004497382), ('police', 0.004431469), ('crandall', 0.0043974635), ('united', 0.004378375), ('home', 0.0041866144), ('three', 0.0038652525), ('count', 0.003663252), ('vote', 0.0035572166), ('cdc', 0.0033481736), ('normal', 0.0030364383), ('group', 0.003021939), ('time', 0.0029032766), ('two', 0.0028923654), ('last', 0.0028743297), ('number', 0.002844807), ('alternative', 0.0028397685), ('south', 0.002817579), ('first', 0.0027892578), ('officials', 0.002653343), ('day', 0.0026499156), ('estimate', 0.0025090622), ('july', 0.002472068), ('report', 0.0024467828), ('state', 0.002437298), ('voter', 0.0023391491), ('educated', 0.0023267902), ('fare', 0.0023197546), ('prison', 0.002150898), ('speed', 0.0021348556), ('permit', 0.0021315806), ('sentenced', 0.0021016772), ('months', 0.0020830017), ('wednesday', 0.002060311), ('st', 0.0020431448), ('today', 0.001987273), ('million', 0.001966862), ('applications', 0.001956513), ('school', 0.0019559206), ('federal', 0.0019408218), ('monday', 0.0019252613), ('village', 0.0019183198), ('meeting', 0.001909655), ('peace', 0.0019067205), ('unemployment', 0.00189891), ('keep', 0.0018853034), ('women', 0.0018729714), ('city', 0.0018306477), ('wins', 0.0018300654), ('just', 0.0018281), ('eligible', 0.0017665783), ('president', 0.0017585077), ('mandate', 0.0017559723)]\n",
      "\n"
     ]
    }
   ],
   "source": [
    "for ti in range(10):\n",
    "    words = model.show_topic(ti, 64)\n",
    "    print (words)\n",
    "    print()"
   ]
  },
  {
   "cell_type": "code",
   "execution_count": 12,
   "metadata": {},
   "outputs": [
    {
     "name": "stdout",
     "output_type": "stream",
     "text": [
      "[(85, '0.010*\"foreigners\" + 0.009*\"langley\" + 0.009*\"publication\" + 0.009*\"filipino\" + 0.007*\"air\" + 0.007*\"two\" + 0.007*\"jones\" + 0.006*\"pair\" + 0.006*\"force\" + 0.005*\"magazines\"'), (43, '0.015*\"new\" + 0.011*\"york\" + 0.011*\"bank\" + 0.008*\"market\" + 0.008*\"cents\" + 0.007*\"trading\" + 0.007*\"higher\" + 0.007*\"london\" + 0.006*\"tuesday\" + 0.006*\"gold\"'), (11, '0.017*\"tiananmen\" + 0.006*\"new\" + 0.005*\"chinas\" + 0.005*\"i\" + 0.004*\"manufacturer\" + 0.004*\"dingell\" + 0.004*\"boxes\" + 0.004*\"appearing\" + 0.004*\"two\" + 0.004*\"valve\"'), (31, '0.027*\"united\" + 0.015*\"states\" + 0.010*\"debut\" + 0.009*\"unification\" + 0.008*\"discussing\" + 0.006*\"soviet\" + 0.005*\"opera\" + 0.005*\"troops\" + 0.005*\"american\" + 0.004*\"bush\"'), (17, '0.023*\"barr\" + 0.016*\"film\" + 0.013*\"snake\" + 0.012*\"kahane\" + 0.010*\"bail\" + 0.009*\"nosair\" + 0.009*\"suits\" + 0.006*\"new\" + 0.005*\"nelson\" + 0.005*\"year\"'), (50, '0.012*\"i\" + 0.009*\"champion\" + 0.007*\"people\" + 0.006*\"dukakis\" + 0.006*\"editors\" + 0.006*\"salvage\" + 0.006*\"year\" + 0.005*\"two\" + 0.005*\"campaign\" + 0.005*\"years\"'), (82, '0.007*\"crosses\" + 0.007*\"topping\" + 0.006*\"tentatively\" + 0.006*\"floating\" + 0.006*\"police\" + 0.004*\"two\" + 0.004*\"illinois\" + 0.003*\"national\" + 0.003*\"officials\" + 0.003*\"public\"'), (68, '0.013*\"zambia\" + 0.012*\"lusaka\" + 0.011*\"oneparty\" + 0.009*\"new\" + 0.008*\"political\" + 0.007*\"opposition\" + 0.007*\"banning\" + 0.007*\"regulations\" + 0.006*\"activity\" + 0.006*\"major\"'), (26, '0.023*\"pacs\" + 0.017*\"defense\" + 0.014*\"pac\" + 0.009*\"government\" + 0.007*\"hirohito\" + 0.007*\"military\" + 0.005*\"emperors\" + 0.005*\"ontario\" + 0.005*\"people\" + 0.005*\"emperor\"'), (54, '0.022*\"index\" + 0.020*\"market\" + 0.019*\"million\" + 0.018*\"shares\" + 0.017*\"stock\" + 0.016*\"points\" + 0.014*\"exchange\" + 0.011*\"rose\" + 0.011*\"share\" + 0.010*\"financial\"')]\n"
     ]
    }
   ],
   "source": [
    "#вывод 10 тем с 10 словами в каждой и их вероятностями\n",
    "print(model.print_topics(num_topics=10, num_words=10))"
   ]
  },
  {
   "cell_type": "markdown",
   "metadata": {},
   "source": [
    "4 Выполнить предобработку текстов из ap.txt – удаление стоп-слов, стемминг или лемматизацию. Сформировать новые ap.dat и vocab.txt"
   ]
  },
  {
   "cell_type": "code",
   "execution_count": 19,
   "metadata": {},
   "outputs": [
    {
     "name": "stdout",
     "output_type": "stream",
     "text": [
      "INFO: Pandarallel will run on 2 workers.\n",
      "INFO: Pandarallel will use Memory file system to transfer data between the main process and workers.\n"
     ]
    }
   ],
   "source": [
    "from pandarallel import pandarallel\n",
    "\n",
    "pandarallel.initialize(progress_bar=True)\n",
    "\n",
    "\n",
    "def preprocess(text):\n",
    "    from nltk.tokenize import sent_tokenize\n",
    "    from string import punctuation\n",
    "    from nltk.tokenize import word_tokenize\n",
    "    from nltk.corpus import stopwords\n",
    "    from nltk.stem import WordNetLemmatizer\n",
    "\n",
    "    sentences = sent_tokenize(text)\n",
    "    # Lower case\n",
    "    sentences = [sentence.lower() for sentence in sentences]\n",
    "    # Remove punctuation\n",
    "    sentences = [\n",
    "        \"\".join(c for c in sentence if c not in punctuation) for sentence in sentences\n",
    "    ]\n",
    "    # Tokenize words\n",
    "    sentences = [word_tokenize(sentence) for sentence in sentences]\n",
    "    # Remove stopwords\n",
    "    stop_words = stopwords.words(\"english\")\n",
    "    sentences = [\n",
    "        [word for word in sentence if word not in stop_words] for sentence in sentences\n",
    "    ]\n",
    "    # Remove links\n",
    "    sentences = [\n",
    "        [word for word in sentence if not word.startswith(\"http\")]\n",
    "        for sentence in sentences\n",
    "    ]\n",
    "    # Lemmatize\n",
    "    lemmatizer = WordNetLemmatizer()\n",
    "    sentences = [\n",
    "        [lemmatizer.lemmatize(word) for word in sentence] for sentence in sentences\n",
    "    ]\n",
    "    words = \" \".join([\" \".join(sentence) for sentence in sentences])\n",
    "    return words"
   ]
  },
  {
   "cell_type": "code",
   "execution_count": 52,
   "metadata": {},
   "outputs": [],
   "source": [
    "import pandas as pd\n",
    "\n",
    "from bs4 import BeautifulSoup\n",
    "\n",
    "with open(\"./ap/ap/ap.txt\") as f:\n",
    "    content = f.readlines()\n",
    "\n",
    "content = [x.strip() for x in content]\n",
    "content = \" \".join(content)\n",
    "\n",
    "soup = BeautifulSoup(content, \"lxml\")\n",
    "texts = soup.findAll(\"text\")\n",
    "\n",
    "texts = [text.text for text in texts]\n",
    "texts = pd.DataFrame(texts, columns=[\"text\"])\n",
    "\n",
    "texts.head()"
   ]
  },
  {
   "cell_type": "code",
   "execution_count": 54,
   "metadata": {},
   "outputs": [
    {
     "data": {
      "text/html": [
       "<div>\n",
       "<style scoped>\n",
       "    .dataframe tbody tr th:only-of-type {\n",
       "        vertical-align: middle;\n",
       "    }\n",
       "\n",
       "    .dataframe tbody tr th {\n",
       "        vertical-align: top;\n",
       "    }\n",
       "\n",
       "    .dataframe thead th {\n",
       "        text-align: right;\n",
       "    }\n",
       "</style>\n",
       "<table border=\"1\" class=\"dataframe\">\n",
       "  <thead>\n",
       "    <tr style=\"text-align: right;\">\n",
       "      <th></th>\n",
       "      <th>text</th>\n",
       "    </tr>\n",
       "  </thead>\n",
       "  <tbody>\n",
       "    <tr>\n",
       "      <th>0</th>\n",
       "      <td>A 16-year-old student at a private Baptist sc...</td>\n",
       "    </tr>\n",
       "    <tr>\n",
       "      <th>1</th>\n",
       "      <td>The Bechtel Group Inc. offered in 1985 to sel...</td>\n",
       "    </tr>\n",
       "    <tr>\n",
       "      <th>2</th>\n",
       "      <td>A gunman took a 74-year-old woman hostage aft...</td>\n",
       "    </tr>\n",
       "    <tr>\n",
       "      <th>3</th>\n",
       "      <td>Today is Saturday, Oct. 29, the 303rd day of ...</td>\n",
       "    </tr>\n",
       "    <tr>\n",
       "      <th>4</th>\n",
       "      <td>Cupid has a new message for lovers this Valen...</td>\n",
       "    </tr>\n",
       "  </tbody>\n",
       "</table>\n",
       "</div>"
      ],
      "text/plain": [
       "                                                text\n",
       "0   A 16-year-old student at a private Baptist sc...\n",
       "1   The Bechtel Group Inc. offered in 1985 to sel...\n",
       "2   A gunman took a 74-year-old woman hostage aft...\n",
       "3   Today is Saturday, Oct. 29, the 303rd day of ...\n",
       "4   Cupid has a new message for lovers this Valen..."
      ]
     },
     "execution_count": 54,
     "metadata": {},
     "output_type": "execute_result"
    }
   ],
   "source": [
    "# Write first 5 <TEXT> elements\n",
    "\n"
   ]
  },
  {
   "cell_type": "code",
   "execution_count": null,
   "metadata": {},
   "outputs": [],
   "source": []
  }
 ],
 "metadata": {
  "kernelspec": {
   "display_name": "base",
   "language": "python",
   "name": "python3"
  },
  "language_info": {
   "codemirror_mode": {
    "name": "ipython",
    "version": 3
   },
   "file_extension": ".py",
   "mimetype": "text/x-python",
   "name": "python",
   "nbconvert_exporter": "python",
   "pygments_lexer": "ipython3",
   "version": "3.11.5"
  }
 },
 "nbformat": 4,
 "nbformat_minor": 2
}

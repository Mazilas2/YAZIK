{
 "cells": [
  {
   "cell_type": "code",
   "execution_count": 1,
   "metadata": {},
   "outputs": [
    {
     "name": "stdout",
     "output_type": "stream",
     "text": [
      "Collecting pandarallel\n",
      "  Downloading pandarallel-1.6.5.tar.gz (14 kB)\n",
      "  Preparing metadata (setup.py): started\n",
      "  Preparing metadata (setup.py): finished with status 'done'\n",
      "Collecting dill>=0.3.1\n",
      "  Downloading dill-0.3.7-py3-none-any.whl (115 kB)\n",
      "     ------------------------------------ 115.3/115.3 kB 668.9 kB/s eta 0:00:00\n",
      "Requirement already satisfied: pandas>=1 in c:\\users\\student\\appdata\\local\\programs\\python\\python310\\lib\\site-packages (from pandarallel) (1.4.4)\n",
      "Requirement already satisfied: psutil in c:\\users\\student\\appdata\\local\\programs\\python\\python310\\lib\\site-packages (from pandarallel) (5.9.2)\n",
      "Requirement already satisfied: numpy>=1.21.0 in c:\\users\\student\\appdata\\local\\programs\\python\\python310\\lib\\site-packages (from pandas>=1->pandarallel) (1.23.3)\n",
      "Requirement already satisfied: python-dateutil>=2.8.1 in c:\\users\\student\\appdata\\local\\programs\\python\\python310\\lib\\site-packages (from pandas>=1->pandarallel) (2.8.2)\n",
      "Requirement already satisfied: pytz>=2020.1 in c:\\users\\student\\appdata\\local\\programs\\python\\python310\\lib\\site-packages (from pandas>=1->pandarallel) (2022.2.1)\n",
      "Requirement already satisfied: six>=1.5 in c:\\users\\student\\appdata\\local\\programs\\python\\python310\\lib\\site-packages (from python-dateutil>=2.8.1->pandas>=1->pandarallel) (1.16.0)\n",
      "Using legacy 'setup.py install' for pandarallel, since package 'wheel' is not installed.\n",
      "Installing collected packages: dill, pandarallel\n",
      "  Running setup.py install for pandarallel: started\n",
      "  Running setup.py install for pandarallel: finished with status 'done'\n",
      "Successfully installed dill-0.3.7 pandarallel-1.6.5\n",
      "Note: you may need to restart the kernel to use updated packages.\n"
     ]
    },
    {
     "name": "stderr",
     "output_type": "stream",
     "text": [
      "  WARNING: Retrying (Retry(total=4, connect=None, read=None, redirect=None, status=None)) after connection broken by 'SSLError(SSLCertVerificationError(1, '[SSL: CERTIFICATE_VERIFY_FAILED] certificate verify failed: self signed certificate in certificate chain (_ssl.c:997)'))': /packages/6e/c5/787365399cc7262e20d1d9f42ba202018c2191e6cd5b1a2a10f9161dae35/pandarallel-1.6.5.tar.gz\n",
      "\n",
      "[notice] A new release of pip available: 22.2.2 -> 23.3.1\n",
      "[notice] To update, run: python.exe -m pip install --upgrade pip\n"
     ]
    },
    {
     "name": "stdout",
     "output_type": "stream",
     "text": [
      "Collecting nltk\n",
      "  Downloading nltk-3.8.1-py3-none-any.whl (1.5 MB)\n",
      "     ---------------------------------------- 1.5/1.5 MB 3.2 MB/s eta 0:00:00\n",
      "Collecting regex>=2021.8.3\n",
      "  Downloading regex-2023.10.3-cp310-cp310-win_amd64.whl (269 kB)\n",
      "     -------------------------------------- 269.6/269.6 kB 5.5 MB/s eta 0:00:00\n",
      "Requirement already satisfied: joblib in c:\\users\\student\\appdata\\local\\programs\\python\\python310\\lib\\site-packages (from nltk) (1.2.0)\n",
      "Collecting tqdm\n",
      "  Downloading tqdm-4.66.1-py3-none-any.whl (78 kB)\n",
      "     ---------------------------------------- 78.3/78.3 kB 4.3 MB/s eta 0:00:00\n",
      "Requirement already satisfied: click in c:\\users\\student\\appdata\\local\\programs\\python\\python310\\lib\\site-packages (from nltk) (8.1.4)\n",
      "Requirement already satisfied: colorama in c:\\users\\student\\appdata\\local\\programs\\python\\python310\\lib\\site-packages (from click->nltk) (0.4.5)\n",
      "Installing collected packages: tqdm, regex, nltk\n",
      "Successfully installed nltk-3.8.1 regex-2023.10.3 tqdm-4.66.1\n",
      "Note: you may need to restart the kernel to use updated packages.\n"
     ]
    },
    {
     "name": "stderr",
     "output_type": "stream",
     "text": [
      "\n",
      "[notice] A new release of pip available: 22.2.2 -> 23.3.1\n",
      "[notice] To update, run: python.exe -m pip install --upgrade pip\n"
     ]
    },
    {
     "name": "stdout",
     "output_type": "stream",
     "text": [
      "Requirement already satisfied: scikit-learn in c:\\users\\student\\appdata\\local\\programs\\python\\python310\\lib\\site-packages (1.2.1)\n",
      "Requirement already satisfied: joblib>=1.1.1 in c:\\users\\student\\appdata\\local\\programs\\python\\python310\\lib\\site-packages (from scikit-learn) (1.2.0)\n",
      "Requirement already satisfied: threadpoolctl>=2.0.0 in c:\\users\\student\\appdata\\local\\programs\\python\\python310\\lib\\site-packages (from scikit-learn) (3.1.0)\n",
      "Requirement already satisfied: scipy>=1.3.2 in c:\\users\\student\\appdata\\local\\programs\\python\\python310\\lib\\site-packages (from scikit-learn) (1.10.0)\n",
      "Requirement already satisfied: numpy>=1.17.3 in c:\\users\\student\\appdata\\local\\programs\\python\\python310\\lib\\site-packages (from scikit-learn) (1.23.3)\n",
      "Note: you may need to restart the kernel to use updated packages.\n"
     ]
    },
    {
     "name": "stderr",
     "output_type": "stream",
     "text": [
      "\n",
      "[notice] A new release of pip available: 22.2.2 -> 23.3.1\n",
      "[notice] To update, run: python.exe -m pip install --upgrade pip\n"
     ]
    },
    {
     "name": "stdout",
     "output_type": "stream",
     "text": [
      "Collecting gensim\n",
      "  Downloading gensim-4.3.2-cp310-cp310-win_amd64.whl (24.0 MB)\n",
      "     ---------------------------------------- 24.0/24.0 MB 3.5 MB/s eta 0:00:00\n",
      "Requirement already satisfied: scipy>=1.7.0 in c:\\users\\student\\appdata\\local\\programs\\python\\python310\\lib\\site-packages (from gensim) (1.10.0)\n",
      "Requirement already satisfied: numpy>=1.18.5 in c:\\users\\student\\appdata\\local\\programs\\python\\python310\\lib\\site-packages (from gensim) (1.23.3)\n",
      "Collecting smart-open>=1.8.1\n",
      "  Downloading smart_open-6.4.0-py3-none-any.whl (57 kB)\n",
      "     ---------------------------------------- 57.0/57.0 kB 1.5 MB/s eta 0:00:00\n",
      "Installing collected packages: smart-open, gensim\n",
      "Successfully installed gensim-4.3.2 smart-open-6.4.0\n",
      "Note: you may need to restart the kernel to use updated packages.\n"
     ]
    },
    {
     "name": "stderr",
     "output_type": "stream",
     "text": [
      "\n",
      "[notice] A new release of pip available: 22.2.2 -> 23.3.1\n",
      "[notice] To update, run: python.exe -m pip install --upgrade pip\n"
     ]
    }
   ],
   "source": [
    "%pip install pandarallel\n",
    "%pip install nltk\n",
    "%pip install scikit-learn\n",
    "%pip install gensim"
   ]
  },
  {
   "cell_type": "code",
   "execution_count": 1,
   "metadata": {},
   "outputs": [],
   "source": [
    "import time\n",
    "import pandas as pd\n",
    "import nltk\n",
    "import numpy as np\n",
    "import gensim\n",
    "from sklearn.metrics import accuracy_score\n",
    "from gensim.models.doc2vec import Doc2Vec\n",
    "from tqdm import tqdm\n",
    "from pandarallel import pandarallel\n",
    "from sklearn.model_selection import train_test_split\n",
    "from gensim.models.doc2vec import Doc2Vec, TaggedDocument"
   ]
  },
  {
   "cell_type": "code",
   "execution_count": 8,
   "metadata": {},
   "outputs": [],
   "source": [
    "column_names = [\"polarity\", \"id\", \"date\", \"query\", \"username\", \"text\"]\n",
    "df = pd.read_csv(\n",
    "    \"./training.1600000.processed.noemoticon.csv\",\n",
    "    delimiter=\",\",\n",
    "    encoding=\"latin\",\n",
    "    names=column_names,\n",
    ")\n",
    "df = df[[\"polarity\", \"text\"]]\n",
    "df[\"Preprocessed_text\"] = \"\""
   ]
  },
  {
   "cell_type": "code",
   "execution_count": 9,
   "metadata": {},
   "outputs": [
    {
     "name": "stdout",
     "output_type": "stream",
     "text": [
      "   polarity                                               text  \\\n",
      "0         0  @switchfoot http://twitpic.com/2y1zl - Awww, t...   \n",
      "1         0  is upset that he can't update his Facebook by ...   \n",
      "2         0  @Kenichan I dived many times for the ball. Man...   \n",
      "3         0    my whole body feels itchy and like its on fire    \n",
      "4         0  @nationwideclass no, it's not behaving at all....   \n",
      "\n",
      "  Preprocessed_text  \n",
      "0                    \n",
      "1                    \n",
      "2                    \n",
      "3                    \n",
      "4                    \n",
      "1600000\n"
     ]
    }
   ],
   "source": [
    "print(df.head())\n",
    "print(len(df[\"polarity\"]))"
   ]
  },
  {
   "cell_type": "code",
   "execution_count": 10,
   "metadata": {},
   "outputs": [
    {
     "name": "stdout",
     "output_type": "stream",
     "text": [
      "INFO: Pandarallel will run on 6 workers.\n",
      "INFO: Pandarallel will use standard multiprocessing data transfer (pipe) to transfer data between the main process and workers.\n",
      "\n",
      "WARNING: You are on Windows. If you detect any issue with pandarallel, be sure you checked out the Troubleshooting page:\n",
      "https://nalepae.github.io/pandarallel/troubleshooting/\n"
     ]
    }
   ],
   "source": [
    "pandarallel.initialize(progress_bar=True)\n",
    "\n",
    "\n",
    "def preprocess(text):\n",
    "    from nltk.tokenize import sent_tokenize\n",
    "    from string import punctuation\n",
    "    from nltk.tokenize import word_tokenize\n",
    "    from nltk.corpus import stopwords\n",
    "    from nltk.stem import WordNetLemmatizer\n",
    "\n",
    "    sentences = sent_tokenize(text)\n",
    "    # Lower case\n",
    "    sentences = [sentence.lower() for sentence in sentences]\n",
    "    # Remove punctuation\n",
    "    sentences = [\n",
    "        \"\".join(c for c in sentence if c not in punctuation) for sentence in sentences\n",
    "    ]\n",
    "    # Tokenize words\n",
    "    sentences = [word_tokenize(sentence) for sentence in sentences]\n",
    "    # Remove stopwords\n",
    "    stop_words = stopwords.words(\"english\")\n",
    "    sentences = [\n",
    "        [word for word in sentence if word not in stop_words] for sentence in sentences\n",
    "    ]\n",
    "    # Remove links\n",
    "    sentences = [\n",
    "        [word for word in sentence if not word.startswith(\"http\")]\n",
    "        for sentence in sentences\n",
    "    ]\n",
    "    # Lemmatize\n",
    "    lemmatizer = WordNetLemmatizer()\n",
    "    sentences = [\n",
    "        [lemmatizer.lemmatize(word) for word in sentence] for sentence in sentences\n",
    "    ]\n",
    "    words = \" \".join([\" \".join(sentence) for sentence in sentences])\n",
    "    return words"
   ]
  },
  {
   "cell_type": "code",
   "execution_count": 11,
   "metadata": {},
   "outputs": [
    {
     "data": {
      "application/vnd.jupyter.widget-view+json": {
       "model_id": "5c5927116c5042c8bee068af28a13b7f",
       "version_major": 2,
       "version_minor": 0
      },
      "text/plain": [
       "VBox(children=(HBox(children=(IntProgress(value=0, description='0.00%', max=266667), Label(value='0 / 266667')…"
      ]
     },
     "metadata": {},
     "output_type": "display_data"
    }
   ],
   "source": [
    "df[\"Preprocessed_text\"] = \"\"\n",
    "\n",
    "df[\"Preprocessed_text\"] = df[\"text\"].parallel_apply(preprocess)\n",
    "\n",
    "# Save the DataFrame to a new CSV file\n",
    "df.to_csv(\"preprocess_data.csv\", index=False)"
   ]
  },
  {
   "cell_type": "code",
   "execution_count": 2,
   "metadata": {},
   "outputs": [
    {
     "name": "stdout",
     "output_type": "stream",
     "text": [
      "   polarity                                               text  \\\n",
      "0         0  @switchfoot http://twitpic.com/2y1zl - Awww, t...   \n",
      "1         0  is upset that he can't update his Facebook by ...   \n",
      "2         0  @Kenichan I dived many times for the ball. Man...   \n",
      "3         0    my whole body feels itchy and like its on fire    \n",
      "4         0  @nationwideclass no, it's not behaving at all....   \n",
      "\n",
      "                                   Preprocessed_text  \n",
      "0  switchfoot awww thats bummer shoulda got david...  \n",
      "1  upset cant update facebook texting might cry r...  \n",
      "2  kenichan dived many time ball managed save 50 ...  \n",
      "3                    whole body feel itchy like fire  \n",
      "4          nationwideclass behaving im mad  cant see  \n"
     ]
    }
   ],
   "source": [
    "df_prep = pd.read_csv(\"./preprocess_data.csv\")\n",
    "df_prep = df_prep.dropna(subset=[\"Preprocessed_text\"])\n",
    "print(df_prep.head())"
   ]
  },
  {
   "cell_type": "code",
   "execution_count": 3,
   "metadata": {},
   "outputs": [],
   "source": [
    "X = df_prep[\"Preprocessed_text\"]\n",
    "y = df_prep[\"polarity\"]\n",
    "X_train, X_test, y_train, y_test = train_test_split(\n",
    "    X, y, test_size=0.2, random_state=42\n",
    ")"
   ]
  },
  {
   "cell_type": "code",
   "execution_count": 34,
   "metadata": {},
   "outputs": [],
   "source": [
    "total_epochs = 10\n",
    "\n",
    "tagged_data = [\n",
    "    TaggedDocument(words=doc.split(), tags=[str(i)]) for i, doc in enumerate(X_train)\n",
    "]\n",
    "\n",
    "model = Doc2Vec(\n",
    "    min_count=3,\n",
    "    vector_size=100,\n",
    "    window=5,\n",
    "    workers=6,\n",
    "    seed=42,\n",
    "    epochs=total_epochs,\n",
    "    batch_words=10000,\n",
    "    compute_loss=True,\n",
    "    hs=0,\n",
    "    negative=10,\n",
    ")"
   ]
  },
  {
   "cell_type": "code",
   "execution_count": null,
   "metadata": {},
   "outputs": [],
   "source": [
    "model.build_vocab(tagged_data)"
   ]
  },
  {
   "cell_type": "code",
   "execution_count": 17,
   "metadata": {},
   "outputs": [
    {
     "name": "stdout",
     "output_type": "stream",
     "text": [
      "Epoch 1/10 completed. Time elapsed: 101.15 seconds\n",
      "Epoch 2/10 completed. Time elapsed: 100.94 seconds\n",
      "Epoch 3/10 completed. Time elapsed: 100.59 seconds\n",
      "Epoch 4/10 completed. Time elapsed: 100.45 seconds\n",
      "Epoch 5/10 completed. Time elapsed: 100.70 seconds\n",
      "Epoch 6/10 completed. Time elapsed: 100.45 seconds\n",
      "Epoch 7/10 completed. Time elapsed: 100.49 seconds\n",
      "Epoch 8/10 completed. Time elapsed: 100.61 seconds\n",
      "Epoch 9/10 completed. Time elapsed: 100.21 seconds\n",
      "Epoch 10/10 completed. Time elapsed: 100.26 seconds\n"
     ]
    }
   ],
   "source": [
    "for epoch in range(total_epochs):\n",
    "    start_time = time.time()\n",
    "    model.train(tagged_data, total_examples=model.corpus_count, epochs=1)\n",
    "    end_time = time.time()\n",
    "    time_elapsed = end_time - start_time\n",
    "    print(\n",
    "        f\"Epoch {epoch + 1}/{total_epochs} completed. Time elapsed: {time_elapsed:.2f} seconds\"\n",
    "    )\n",
    "\n",
    "model.save(\"doc2vec_model.model\")"
   ]
  },
  {
   "cell_type": "code",
   "execution_count": 41,
   "metadata": {},
   "outputs": [
    {
     "ename": "TypeError",
     "evalue": "__randomstate_ctor() takes from 0 to 1 positional arguments but 2 were given",
     "output_type": "error",
     "traceback": [
      "\u001b[1;31m---------------------------------------------------------------------------\u001b[0m",
      "\u001b[1;31mTypeError\u001b[0m                                 Traceback (most recent call last)",
      "\u001b[1;32md:\\yazik_lab6\\LAB6.ipynb Cell 12\u001b[0m line \u001b[0;36m1\n\u001b[1;32m----> <a href='vscode-notebook-cell:/d%3A/yazik_lab6/LAB6.ipynb#X14sZmlsZQ%3D%3D?line=0'>1</a>\u001b[0m model \u001b[39m=\u001b[39m gensim\u001b[39m.\u001b[39;49mmodels\u001b[39m.\u001b[39;49mWord2Vec\u001b[39m.\u001b[39;49mload(\u001b[39m\"\u001b[39;49m\u001b[39m./doc2vec_model.model\u001b[39;49m\u001b[39m\"\u001b[39;49m)\n",
      "File \u001b[1;32mc:\\Users\\student\\AppData\\Local\\Programs\\Python\\Python310\\lib\\site-packages\\gensim\\models\\word2vec.py:1953\u001b[0m, in \u001b[0;36mWord2Vec.load\u001b[1;34m(cls, rethrow, *args, **kwargs)\u001b[0m\n\u001b[0;32m   1934\u001b[0m \u001b[39m\"\"\"Load a previously saved :class:`~gensim.models.word2vec.Word2Vec` model.\u001b[39;00m\n\u001b[0;32m   1935\u001b[0m \n\u001b[0;32m   1936\u001b[0m \u001b[39mSee Also\u001b[39;00m\n\u001b[1;32m   (...)\u001b[0m\n\u001b[0;32m   1950\u001b[0m \n\u001b[0;32m   1951\u001b[0m \u001b[39m\"\"\"\u001b[39;00m\n\u001b[0;32m   1952\u001b[0m \u001b[39mtry\u001b[39;00m:\n\u001b[1;32m-> 1953\u001b[0m     model \u001b[39m=\u001b[39m \u001b[39msuper\u001b[39m(Word2Vec, \u001b[39mcls\u001b[39m)\u001b[39m.\u001b[39mload(\u001b[39m*\u001b[39margs, \u001b[39m*\u001b[39m\u001b[39m*\u001b[39mkwargs)\n\u001b[0;32m   1954\u001b[0m     \u001b[39mif\u001b[39;00m \u001b[39mnot\u001b[39;00m \u001b[39misinstance\u001b[39m(model, Word2Vec):\n\u001b[0;32m   1955\u001b[0m         rethrow \u001b[39m=\u001b[39m \u001b[39mTrue\u001b[39;00m\n",
      "File \u001b[1;32mc:\\Users\\student\\AppData\\Local\\Programs\\Python\\Python310\\lib\\site-packages\\gensim\\utils.py:486\u001b[0m, in \u001b[0;36mSaveLoad.load\u001b[1;34m(cls, fname, mmap)\u001b[0m\n\u001b[0;32m    482\u001b[0m logger\u001b[39m.\u001b[39minfo(\u001b[39m\"\u001b[39m\u001b[39mloading \u001b[39m\u001b[39m%s\u001b[39;00m\u001b[39m object from \u001b[39m\u001b[39m%s\u001b[39;00m\u001b[39m\"\u001b[39m, \u001b[39mcls\u001b[39m\u001b[39m.\u001b[39m\u001b[39m__name__\u001b[39m, fname)\n\u001b[0;32m    484\u001b[0m compress, subname \u001b[39m=\u001b[39m SaveLoad\u001b[39m.\u001b[39m_adapt_by_suffix(fname)\n\u001b[1;32m--> 486\u001b[0m obj \u001b[39m=\u001b[39m unpickle(fname)\n\u001b[0;32m    487\u001b[0m obj\u001b[39m.\u001b[39m_load_specials(fname, mmap, compress, subname)\n\u001b[0;32m    488\u001b[0m obj\u001b[39m.\u001b[39madd_lifecycle_event(\u001b[39m\"\u001b[39m\u001b[39mloaded\u001b[39m\u001b[39m\"\u001b[39m, fname\u001b[39m=\u001b[39mfname)\n",
      "File \u001b[1;32mc:\\Users\\student\\AppData\\Local\\Programs\\Python\\Python310\\lib\\site-packages\\gensim\\utils.py:1461\u001b[0m, in \u001b[0;36munpickle\u001b[1;34m(fname)\u001b[0m\n\u001b[0;32m   1447\u001b[0m \u001b[39m\"\"\"Load object from `fname`, using smart_open so that `fname` can be on S3, HDFS, compressed etc.\u001b[39;00m\n\u001b[0;32m   1448\u001b[0m \n\u001b[0;32m   1449\u001b[0m \u001b[39mParameters\u001b[39;00m\n\u001b[1;32m   (...)\u001b[0m\n\u001b[0;32m   1458\u001b[0m \n\u001b[0;32m   1459\u001b[0m \u001b[39m\"\"\"\u001b[39;00m\n\u001b[0;32m   1460\u001b[0m \u001b[39mwith\u001b[39;00m \u001b[39mopen\u001b[39m(fname, \u001b[39m'\u001b[39m\u001b[39mrb\u001b[39m\u001b[39m'\u001b[39m) \u001b[39mas\u001b[39;00m f:\n\u001b[1;32m-> 1461\u001b[0m     \u001b[39mreturn\u001b[39;00m _pickle\u001b[39m.\u001b[39;49mload(f, encoding\u001b[39m=\u001b[39;49m\u001b[39m'\u001b[39;49m\u001b[39mlatin1\u001b[39;49m\u001b[39m'\u001b[39;49m)\n",
      "\u001b[1;31mTypeError\u001b[0m: __randomstate_ctor() takes from 0 to 1 positional arguments but 2 were given"
     ]
    }
   ],
   "source": [
    "model = gensim.models.Word2Vec.load(\"./doc2vec_model.model\")"
   ]
  },
  {
   "cell_type": "code",
   "execution_count": 36,
   "metadata": {},
   "outputs": [],
   "source": [
    "def s(DATA):\n",
    "    inferred_vectors = []\n",
    "\n",
    "    with tqdm(total=len(DATA)) as pbar:\n",
    "        for text in DATA:\n",
    "            text = str(text)  # Ensure text is a string\n",
    "            vector = model.infer_vector(text.split())\n",
    "            inferred_vectors.append(vector)\n",
    "            pbar.update(1)  # Update the progress bar\n",
    "\n",
    "    return inferred_vectors"
   ]
  },
  {
   "cell_type": "code",
   "execution_count": 37,
   "metadata": {},
   "outputs": [
    {
     "name": "stderr",
     "output_type": "stream",
     "text": [
      "  0%|          | 0/1279715 [00:00<?, ?it/s]\n"
     ]
    },
    {
     "ename": "AttributeError",
     "evalue": "'Doc2Vec' object has no attribute 'syn1neg'",
     "output_type": "error",
     "traceback": [
      "\u001b[1;31m---------------------------------------------------------------------------\u001b[0m",
      "\u001b[1;31mAttributeError\u001b[0m                            Traceback (most recent call last)",
      "\u001b[1;32md:\\yazik_lab6\\LAB6.ipynb Cell 14\u001b[0m line \u001b[0;36m1\n\u001b[1;32m----> <a href='vscode-notebook-cell:/d%3A/yazik_lab6/LAB6.ipynb#X16sZmlsZQ%3D%3D?line=0'>1</a>\u001b[0m inferred_vectors \u001b[39m=\u001b[39m s(X_train)\n\u001b[0;32m      <a href='vscode-notebook-cell:/d%3A/yazik_lab6/LAB6.ipynb#X16sZmlsZQ%3D%3D?line=2'>3</a>\u001b[0m \u001b[39mprint\u001b[39m(\u001b[39m\"\u001b[39m\u001b[39mNumber of training samples:\u001b[39m\u001b[39m\"\u001b[39m, \u001b[39mlen\u001b[39m(inferred_vectors))\n\u001b[0;32m      <a href='vscode-notebook-cell:/d%3A/yazik_lab6/LAB6.ipynb#X16sZmlsZQ%3D%3D?line=3'>4</a>\u001b[0m \u001b[39mprint\u001b[39m(\u001b[39m\"\u001b[39m\u001b[39mNumber of training labels:\u001b[39m\u001b[39m\"\u001b[39m, \u001b[39mlen\u001b[39m(y_train))\n",
      "\u001b[1;32md:\\yazik_lab6\\LAB6.ipynb Cell 14\u001b[0m line \u001b[0;36m7\n\u001b[0;32m      <a href='vscode-notebook-cell:/d%3A/yazik_lab6/LAB6.ipynb#X16sZmlsZQ%3D%3D?line=4'>5</a>\u001b[0m \u001b[39mfor\u001b[39;00m text \u001b[39min\u001b[39;00m DATA:\n\u001b[0;32m      <a href='vscode-notebook-cell:/d%3A/yazik_lab6/LAB6.ipynb#X16sZmlsZQ%3D%3D?line=5'>6</a>\u001b[0m     text \u001b[39m=\u001b[39m \u001b[39mstr\u001b[39m(text)  \u001b[39m# Ensure text is a string\u001b[39;00m\n\u001b[1;32m----> <a href='vscode-notebook-cell:/d%3A/yazik_lab6/LAB6.ipynb#X16sZmlsZQ%3D%3D?line=6'>7</a>\u001b[0m     vector \u001b[39m=\u001b[39m model\u001b[39m.\u001b[39;49minfer_vector(text\u001b[39m.\u001b[39;49msplit())\n\u001b[0;32m      <a href='vscode-notebook-cell:/d%3A/yazik_lab6/LAB6.ipynb#X16sZmlsZQ%3D%3D?line=7'>8</a>\u001b[0m     inferred_vectors\u001b[39m.\u001b[39mappend(vector)\n\u001b[0;32m      <a href='vscode-notebook-cell:/d%3A/yazik_lab6/LAB6.ipynb#X16sZmlsZQ%3D%3D?line=8'>9</a>\u001b[0m     pbar\u001b[39m.\u001b[39mupdate(\u001b[39m1\u001b[39m)  \u001b[39m# Update the progress bar\u001b[39;00m\n",
      "File \u001b[1;32mc:\\Users\\student\\AppData\\Local\\Programs\\Python\\Python310\\lib\\site-packages\\gensim\\models\\doc2vec.py:651\u001b[0m, in \u001b[0;36mDoc2Vec.infer_vector\u001b[1;34m(self, doc_words, alpha, min_alpha, epochs)\u001b[0m\n\u001b[0;32m    646\u001b[0m         train_document_dm_concat(\n\u001b[0;32m    647\u001b[0m             \u001b[39mself\u001b[39m, doc_words, doctag_indexes, alpha, work, neu1,\n\u001b[0;32m    648\u001b[0m             learn_words\u001b[39m=\u001b[39m\u001b[39mFalse\u001b[39;00m, learn_hidden\u001b[39m=\u001b[39m\u001b[39mFalse\u001b[39;00m, doctag_vectors\u001b[39m=\u001b[39mdoctag_vectors, doctags_lockf\u001b[39m=\u001b[39mdoctags_lockf\n\u001b[0;32m    649\u001b[0m         )\n\u001b[0;32m    650\u001b[0m     \u001b[39melse\u001b[39;00m:\n\u001b[1;32m--> 651\u001b[0m         train_document_dm(\n\u001b[0;32m    652\u001b[0m             \u001b[39mself\u001b[39;49m, doc_words, doctag_indexes, alpha, work, neu1,\n\u001b[0;32m    653\u001b[0m             learn_words\u001b[39m=\u001b[39;49m\u001b[39mFalse\u001b[39;49;00m, learn_hidden\u001b[39m=\u001b[39;49m\u001b[39mFalse\u001b[39;49;00m, doctag_vectors\u001b[39m=\u001b[39;49mdoctag_vectors, doctags_lockf\u001b[39m=\u001b[39;49mdoctags_lockf\n\u001b[0;32m    654\u001b[0m         )\n\u001b[0;32m    655\u001b[0m     alpha \u001b[39m-\u001b[39m\u001b[39m=\u001b[39m alpha_delta\n\u001b[0;32m    657\u001b[0m \u001b[39mreturn\u001b[39;00m doctag_vectors[\u001b[39m0\u001b[39m]\n",
      "File \u001b[1;32mc:\\Users\\student\\AppData\\Local\\Programs\\Python\\Python310\\lib\\site-packages\\gensim\\models\\doc2vec_inner.pyx:475\u001b[0m, in \u001b[0;36mgensim.models.doc2vec_inner.train_document_dm\u001b[1;34m()\u001b[0m\n",
      "File \u001b[1;32mc:\\Users\\student\\AppData\\Local\\Programs\\Python\\Python310\\lib\\site-packages\\gensim\\models\\doc2vec_inner.pyx:270\u001b[0m, in \u001b[0;36mgensim.models.doc2vec_inner.init_d2v_config\u001b[1;34m()\u001b[0m\n",
      "\u001b[1;31mAttributeError\u001b[0m: 'Doc2Vec' object has no attribute 'syn1neg'"
     ]
    }
   ],
   "source": [
    "inferred_vectors = s(X_train)\n",
    "\n",
    "print(\"Number of training samples:\", len(inferred_vectors))\n",
    "print(\"Number of training labels:\", len(y_train))"
   ]
  },
  {
   "cell_type": "code",
   "execution_count": 38,
   "metadata": {},
   "outputs": [
    {
     "name": "stdout",
     "output_type": "stream",
     "text": [
      "Value: 0, Count: 640198\n",
      "Value: 4, Count: 639517\n"
     ]
    }
   ],
   "source": [
    "unique_values, counts = np.unique(y_train, return_counts=True)\n",
    "\n",
    "# Print unique values and their counts\n",
    "for value, count in zip(unique_values, counts):\n",
    "    print(f\"Value: {value}, Count: {count}\")"
   ]
  },
  {
   "cell_type": "code",
   "execution_count": 39,
   "metadata": {},
   "outputs": [],
   "source": [
    "from sklearn.ensemble import RandomForestClassifier\n",
    "\n",
    "\n",
    "rf = RandomForestClassifier(n_estimators=30, n_jobs=-1, verbose=2)"
   ]
  },
  {
   "cell_type": "code",
   "execution_count": 40,
   "metadata": {},
   "outputs": [
    {
     "ename": "NameError",
     "evalue": "name 'inferred_vectors' is not defined",
     "output_type": "error",
     "traceback": [
      "\u001b[1;31m---------------------------------------------------------------------------\u001b[0m",
      "\u001b[1;31mNameError\u001b[0m                                 Traceback (most recent call last)",
      "\u001b[1;32md:\\yazik_lab6\\LAB6.ipynb Cell 17\u001b[0m line \u001b[0;36m1\n\u001b[1;32m----> <a href='vscode-notebook-cell:/d%3A/yazik_lab6/LAB6.ipynb#X22sZmlsZQ%3D%3D?line=0'>1</a>\u001b[0m rf\u001b[39m.\u001b[39mfit(inferred_vectors[:\u001b[39m32000\u001b[39m], y_train[:\u001b[39m32000\u001b[39m])\n",
      "\u001b[1;31mNameError\u001b[0m: name 'inferred_vectors' is not defined"
     ]
    }
   ],
   "source": [
    "rf.fit(inferred_vectors[:32000], y_train[:32000])"
   ]
  },
  {
   "cell_type": "code",
   "execution_count": 72,
   "metadata": {},
   "outputs": [],
   "source": [
    "import pickle\n",
    "\n",
    "filename = \"finalized_model_large.sav\"\n",
    "pickle.dump(rf, open(filename, \"wb\"))"
   ]
  },
  {
   "cell_type": "code",
   "execution_count": 49,
   "metadata": {},
   "outputs": [
    {
     "name": "stderr",
     "output_type": "stream",
     "text": [
      "[Parallel(n_jobs=6)]: Using backend ThreadingBackend with 6 concurrent workers.\n",
      "[Parallel(n_jobs=6)]: Done  29 tasks      | elapsed:    1.3s\n"
     ]
    },
    {
     "name": "stdout",
     "output_type": "stream",
     "text": [
      "Random forest accuracy - TRAIN DATA - 0.6083221654821581\n"
     ]
    },
    {
     "name": "stderr",
     "output_type": "stream",
     "text": [
      "[Parallel(n_jobs=6)]: Done 100 out of 100 | elapsed:    4.6s finished\n"
     ]
    }
   ],
   "source": [
    "y_pred_rf = rf.predict(inferred_vectors)\n",
    "print(\"Random forest accuracy - TRAIN DATA - %s\" % accuracy_score(y_pred_rf, y_train))"
   ]
  },
  {
   "cell_type": "code",
   "execution_count": 120,
   "metadata": {},
   "outputs": [
    {
     "name": "stderr",
     "output_type": "stream",
     "text": [
      "100%|██████████| 319929/319929 [00:42<00:00, 7529.57it/s]"
     ]
    },
    {
     "name": "stdout",
     "output_type": "stream",
     "text": [
      "Number of training samples: 319929\n",
      "Number of training labels: 319929\n"
     ]
    },
    {
     "name": "stderr",
     "output_type": "stream",
     "text": [
      "\n"
     ]
    }
   ],
   "source": [
    "test_inferred_vectors = s(X_test)\n",
    "\n",
    "print(\"Number of training samples:\", len(test_inferred_vectors))\n",
    "print(\"Number of training labels:\", len(y_test))"
   ]
  },
  {
   "cell_type": "code",
   "execution_count": 55,
   "metadata": {},
   "outputs": [
    {
     "name": "stderr",
     "output_type": "stream",
     "text": [
      "[Parallel(n_jobs=6)]: Using backend ThreadingBackend with 6 concurrent workers.\n",
      "[Parallel(n_jobs=6)]: Done  29 tasks      | elapsed:    0.3s\n"
     ]
    },
    {
     "name": "stdout",
     "output_type": "stream",
     "text": [
      "Random forest accuracy - TEST DATA - 0.6021836094883553\n"
     ]
    },
    {
     "name": "stderr",
     "output_type": "stream",
     "text": [
      "[Parallel(n_jobs=6)]: Done 100 out of 100 | elapsed:    1.0s finished\n"
     ]
    }
   ],
   "source": [
    "print(\n",
    "    \"Random forest accuracy - TEST DATA - %s\"\n",
    "    % accuracy_score(rf.predict(test_inferred_vectors), y_test)\n",
    ")"
   ]
  },
  {
   "cell_type": "code",
   "execution_count": 54,
   "metadata": {},
   "outputs": [
    {
     "name": "stderr",
     "output_type": "stream",
     "text": [
      "100%|██████████| 1000/1000 [00:00<00:00, 6867.69it/s]"
     ]
    },
    {
     "name": "stdout",
     "output_type": "stream",
     "text": [
      "Number of training samples: 1000\n",
      "Number of training labels: 1000\n",
      "Random forest accuracy 0.627\n"
     ]
    },
    {
     "name": "stderr",
     "output_type": "stream",
     "text": [
      "\n",
      "[Parallel(n_jobs=6)]: Using backend ThreadingBackend with 6 concurrent workers.\n",
      "[Parallel(n_jobs=6)]: Done  29 tasks      | elapsed:    0.0s\n",
      "[Parallel(n_jobs=6)]: Done 100 out of 100 | elapsed:    0.0s finished\n"
     ]
    }
   ],
   "source": [
    "X_ = df_prep[\"Preprocessed_text\"][:1000]\n",
    "y_ = df_prep[\"polarity\"][:1000]\n",
    "\n",
    "X_TEST = s(X_)\n",
    "\n",
    "print(\"Number of training samples:\", len(X_TEST))\n",
    "print(\"Number of training labels:\", len(y_))\n",
    "\n",
    "print(\"Random forest accuracy %s\" % accuracy_score(rf.predict(X_TEST), y_))"
   ]
  },
  {
   "cell_type": "code",
   "execution_count": 53,
   "metadata": {},
   "outputs": [
    {
     "name": "stdout",
     "output_type": "stream",
     "text": [
      "0 Predicted\n",
      "0 Real values\n",
      "[0 0 4 0 0 4 0 4 4 0 0 0 0 0 0 0 0 0 0 0 4 0 0 4 0 0 0 0 4 0 4 4 0 0 0 0 4\n",
      " 0 4 4 4 4 0 0 4 4 0 4 0 4 0 0 4 0 4 0 4 4 0 4 0 4 4 0 0 0 0 0 4 0 4 0 0 0\n",
      " 0 0 0 0 4 4 4 4 0 0 0 0 4 4 0 0 0 0 4 0 0 0 0 0 4 0 0 0 4 4 0 0 0 0 4 0 0\n",
      " 0 0 4 4 0 4 0 0 0 0 0 4 0 4 4 0 0 0 0 4 4 4 4 0 4 4 4 4 4 0 0 4 4 4 0 4 0\n",
      " 4 4 4 0 0 0 0 0 0 0 0 4 0 4 0 4 4 0 4 4 4 0 4 0 0 4 0 0 0 0 4 0 0 4 4 0 0\n",
      " 0 0 4 0 0 0 0 0 0 0 4 0 4 0 0 0 0 0 4 4 0 4 0 4 0 4 0 0 0 0 0 0 4 0 4 0 4\n",
      " 4 4 0 4 4 0 4 4 0 0 0 0 0 4 0 0 0 0 0 0 0 0 0 0 0 0 0 4 4 0 0 4 0 4 4 4 4\n",
      " 0 0 0 4 0 0 0 4 0 0 0 4 4 4 0 4 4 0 4 4 0 4 0 4 0 0 4 4 0 0 0 4 0 0 0 4 0\n",
      " 4 4 0 4 0 0 0 0 0 0 0 0 0 4 0 0 0 0 0 0 0 0 4 0 0 0 0 0 4 0 4 0 4 0 4 0 0\n",
      " 0 4 0 0 4 0 0 0 0 4 0 0 0 4 4 0 4 4 0 0 4 0 4 0 0 0 0 0 0 4 4 0 0 0 0 0 0\n",
      " 0 0 4 0 0 0 0 0 0 4 0 0 4 0 4 0 0 0 4 4 0 4 0 4 0 0 4 4 0 0 0 0 4 0 0 0 4\n",
      " 4 4 0 4 4 0 0 0 0 4 4 0 0 0 0 4 0 4 4 0 0 0 4 0 4 0 0 0 0 0 0 4 0 4 4 0 0\n",
      " 4 0 0 0 0 0 4 0 4 4 0 4 0 0 0 4 4 0 0 0 0 4 0 0 4 4 4 4 0 0 0 0 0 4 0 4 0\n",
      " 0 4 0 4 0 4 4 0 0 0 4 4 0 0 0 4 4 0 4 0 0 4 4 0 4 4 0 4 4 0 0 0 0 4 0 0 0\n",
      " 4 0 0 0 4 4 0 0 0 0 4 0 4 0 4 4 0 0 4 4 4 0 0 0 0 4 4 4 0 4 0 0 4 4 4 4 4\n",
      " 4 0 4 4 0 4 0 0 4 0 4 4 0 4 0 0 0 4 0 4 0 0 0 0 0 4 0 0 0 0 0 0 4 0 0 0 0\n",
      " 4 0 4 4 0 4 0 4 0 0 4 4 0 4 4 0 0 4 4 0 0 0 0 0 0 0 0 4 0 0 0 4 4 0 4 0 0\n",
      " 0 0 4 0 0 0 0 0 4 0 0 4 0 0 0 4 0 0 0 4 0 0 4 0 4 0 0 0 0 4 0 0 0 0 0 0 4\n",
      " 4 0 0 4 4 0 0 4 0 0 0 0 0 4 4 0 0 0 0 0 4 4 0 0 4 4 0 0 0 4 0 4 0 0 4 4 4\n",
      " 0 4 0 0 0 4 4 4 0 4 0 0 0 0 4 0 0 0 0 0 4 0 4 0 0 0 0 0 4 0 0 0 0 4 0 0 0\n",
      " 0 0 4 0 0 4 0 0 0 0 0 4 0 4 0 4 0 0 0 0 4 4 0 0 0 0 4 0 0 4 0 0 4 4 4 4 0\n",
      " 0 0 0 0 0 0 0 4 0 4 0 0 4 4 0 0 4 0 0 0 4 4 4 4 0 0 4 0 0 0 4 0 4 4 4 4 4\n",
      " 0 4 4 0 0 0 4 0 4 0 0 0 0 0 0 0 0 0 4 0 4 0 0 4 0 0 0 0 4 0 0 4 0 4 4 0 0\n",
      " 4 4 0 0 0 0 4 0 4 0 0 4 0 0 0 4 0 0 4 4 0 0 0 0 4 0 0 0 0 4 4 4 0 0 0 0 0\n",
      " 0 0 0 0 0 4 4 0 0 0 0 0 4 0 0 0 4 0 0 4 0 4 0 0 4 0 4 0 0 0 4 0 0 0 0 4 0\n",
      " 0 4 0 0 0 4 0 4 0 0 0 0 0 0 0 4 0 4 4 0 0 0 0 4 4 4 0 4 0 0 0 0 0 4 0 0 4\n",
      " 0 0 0 4 0 0 4 4 4 4 0 0 0 0 4 0 0 0 0 0 0 4 4 0 0 4 0 0 4 0 4 0 0 4 4 0 4\n",
      " 0] Predicted\n",
      "[0 0 0 0 0 0 0 0 0 0 0 0 0 0 0 0 0 0 0 0 0 0 0 0 0 0 0 0 0 0 0 0 0 0 0 0 0\n",
      " 0 0 0 0 0 0 0 0 0 0 0 0 0 0 0 0 0 0 0 0 0 0 0 0 0 0 0 0 0 0 0 0 0 0 0 0 0\n",
      " 0 0 0 0 0 0 0 0 0 0 0 0 0 0 0 0 0 0 0 0 0 0 0 0 0 0 0 0 0 0 0 0 0 0 0 0 0\n",
      " 0 0 0 0 0 0 0 0 0 0 0 0 0 0 0 0 0 0 0 0 0 0 0 0 0 0 0 0 0 0 0 0 0 0 0 0 0\n",
      " 0 0 0 0 0 0 0 0 0 0 0 0 0 0 0 0 0 0 0 0 0 0 0 0 0 0 0 0 0 0 0 0 0 0 0 0 0\n",
      " 0 0 0 0 0 0 0 0 0 0 0 0 0 0 0 0 0 0 0 0 0 0 0 0 0 0 0 0 0 0 0 0 0 0 0 0 0\n",
      " 0 0 0 0 0 0 0 0 0 0 0 0 0 0 0 0 0 0 0 0 0 0 0 0 0 0 0 0 0 0 0 0 0 0 0 0 0\n",
      " 0 0 0 0 0 0 0 0 0 0 0 0 0 0 0 0 0 0 0 0 0 0 0 0 0 0 0 0 0 0 0 0 0 0 0 0 0\n",
      " 0 0 0 0 0 0 0 0 0 0 0 0 0 0 0 0 0 0 0 0 0 0 0 0 0 0 0 0 0 0 0 0 0 0 0 0 0\n",
      " 0 0 0 0 0 0 0 0 0 0 0 0 0 0 0 0 0 0 0 0 0 0 0 0 0 0 0 0 0 0 0 0 0 0 0 0 0\n",
      " 0 0 0 0 0 0 0 0 0 0 0 0 0 0 0 0 0 0 0 0 0 0 0 0 0 0 0 0 0 0 0 0 0 0 0 0 0\n",
      " 0 0 0 0 0 0 0 0 0 0 0 0 0 0 0 0 0 0 0 0 0 0 0 0 0 0 0 0 0 0 0 0 0 0 0 0 0\n",
      " 0 0 0 0 0 0 0 0 0 0 0 0 0 0 0 0 0 0 0 0 0 0 0 0 0 0 0 0 0 0 0 0 0 0 0 0 0\n",
      " 0 0 0 0 0 0 0 0 0 0 0 0 0 0 0 0 0 0 0 0 0 0 0 0 0 0 0 0 0 0 0 0 0 0 0 0 0\n",
      " 0 0 0 0 0 0 0 0 0 0 0 0 0 0 0 0 0 0 0 0 0 0 0 0 0 0 0 0 0 0 0 0 0 0 0 0 0\n",
      " 0 0 0 0 0 0 0 0 0 0 0 0 0 0 0 0 0 0 0 0 0 0 0 0 0 0 0 0 0 0 0 0 0 0 0 0 0\n",
      " 0 0 0 0 0 0 0 0 0 0 0 0 0 0 0 0 0 0 0 0 0 0 0 0 0 0 0 0 0 0 0 0 0 0 0 0 0\n",
      " 0 0 0 0 0 0 0 0 0 0 0 0 0 0 0 0 0 0 0 0 0 0 0 0 0 0 0 0 0 0 0 0 0 0 0 0 0\n",
      " 0 0 0 0 0 0 0 0 0 0 0 0 0 0 0 0 0 0 0 0 0 0 0 0 0 0 0 0 0 0 0 0 0 0 0 0 0\n",
      " 0 0 0 0 0 0 0 0 0 0 0 0 0 0 0 0 0 0 0 0 0 0 0 0 0 0 0 0 0 0 0 0 0 0 0 0 0\n",
      " 0 0 0 0 0 0 0 0 0 0 0 0 0 0 0 0 0 0 0 0 0 0 0 0 0 0 0 0 0 0 0 0 0 0 0 0 0\n",
      " 0 0 0 0 0 0 0 0 0 0 0 0 0 0 0 0 0 0 0 0 0 0 0 0 0 0 0 0 0 0 0 0 0 0 0 0 0\n",
      " 0 0 0 0 0 0 0 0 0 0 0 0 0 0 0 0 0 0 0 0 0 0 0 0 0 0 0 0 0 0 0 0 0 0 0 0 0\n",
      " 0 0 0 0 0 0 0 0 0 0 0 0 0 0 0 0 0 0 0 0 0 0 0 0 0 0 0 0 0 0 0 0 0 0 0 0 0\n",
      " 0 0 0 0 0 0 0 0 0 0 0 0 0 0 0 0 0 0 0 0 0 0 0 0 0 0 0 0 0 0 0 0 0 0 0 0 0\n",
      " 0 0 0 0 0 0 0 0 0 0 0 0 0 0 0 0 0 0 0 0 0 0 0 0 0 0 0 0 0 0 0 0 0 0 0 0 0\n",
      " 0 0 0 0 0 0 0 0 0 0 0 0 0 0 0 0 0 0 0 0 0 0 0 0 0 0 0 0 0 0 0 0 0 0 0 0 0\n",
      " 0] Real values\n"
     ]
    },
    {
     "name": "stderr",
     "output_type": "stream",
     "text": [
      "[Parallel(n_jobs=6)]: Using backend ThreadingBackend with 6 concurrent workers.\n",
      "[Parallel(n_jobs=6)]: Done  29 tasks      | elapsed:    0.0s\n",
      "[Parallel(n_jobs=6)]: Done 100 out of 100 | elapsed:    0.0s finished\n",
      "[Parallel(n_jobs=6)]: Using backend ThreadingBackend with 6 concurrent workers.\n",
      "[Parallel(n_jobs=6)]: Done  29 tasks      | elapsed:    0.0s\n",
      "[Parallel(n_jobs=6)]: Done 100 out of 100 | elapsed:    0.0s finished\n"
     ]
    }
   ],
   "source": [
    "print(rf.predict(X_TEST)[0], \"Predicted\")\n",
    "print(np.array((y_))[0], \"Real values\")\n",
    "\n",
    "print((rf.predict(X_TEST)[:]), \"Predicted\")\n",
    "print(np.array((y_))[:], \"Real values\")"
   ]
  },
  {
   "cell_type": "code",
   "execution_count": 110,
   "metadata": {},
   "outputs": [],
   "source": [
    "with open(\"finalized_model_nano.sav\", \"rb\") as file:\n",
    "    nano_model = pickle.load(file)\n",
    "\n",
    "with open(\"finalized_model_small.sav\", \"rb\") as file:\n",
    "    small_model = pickle.load(file)\n",
    "\n",
    "with open(\"finalized_model_medium.sav\", \"rb\") as file:\n",
    "    medium_model = pickle.load(file)\n",
    "\n",
    "with open(\"finalized_model_large.sav\", \"rb\") as file:\n",
    "    large_model = pickle.load(file)\n",
    "\n",
    "with open(\"finalized_model.sav\", \"rb\") as file:\n",
    "    regular_model = pickle.load(file)"
   ]
  },
  {
   "cell_type": "code",
   "execution_count": 121,
   "metadata": {},
   "outputs": [
    {
     "name": "stderr",
     "output_type": "stream",
     "text": [
      "[Parallel(n_jobs=6)]: Using backend ThreadingBackend with 6 concurrent workers.\n",
      "[Parallel(n_jobs=6)]: Done  29 tasks      | elapsed:    0.3s\n",
      "[Parallel(n_jobs=6)]: Done 100 out of 100 | elapsed:    1.0s finished\n",
      "[Parallel(n_jobs=6)]: Using backend ThreadingBackend with 6 concurrent workers.\n",
      "[Parallel(n_jobs=6)]: Done  29 tasks      | elapsed:    0.4s\n",
      "[Parallel(n_jobs=6)]: Done 100 out of 100 | elapsed:    1.5s finished\n",
      "[Parallel(n_jobs=6)]: Using backend ThreadingBackend with 6 concurrent workers.\n",
      "[Parallel(n_jobs=6)]: Done  29 tasks      | elapsed:    0.6s\n",
      "[Parallel(n_jobs=6)]: Done 100 out of 100 | elapsed:    2.2s finished\n",
      "[Parallel(n_jobs=6)]: Using backend ThreadingBackend with 6 concurrent workers.\n",
      "[Parallel(n_jobs=6)]: Done  29 tasks      | elapsed:    0.6s\n",
      "[Parallel(n_jobs=6)]: Done 100 out of 100 | elapsed:    2.2s finished\n",
      "[Parallel(n_jobs=6)]: Using backend ThreadingBackend with 6 concurrent workers.\n",
      "[Parallel(n_jobs=6)]: Done  29 tasks      | elapsed:    1.3s\n",
      "[Parallel(n_jobs=6)]: Done 100 out of 100 | elapsed:    5.0s finished\n"
     ]
    }
   ],
   "source": [
    "# Nano Model Accuracy\n",
    "\n",
    "nano_accuracy = accuracy_score(\n",
    "    nano_model.predict(test_inferred_vectors), y_test\n",
    ")  # 16.000 train data\n",
    "\n",
    "# Small Model Accuracy\n",
    "\n",
    "small_accuracy = accuracy_score(\n",
    "    small_model.predict(test_inferred_vectors), y_test\n",
    ")  # 64.000 train data\n",
    "\n",
    "# Medium Model Accuracy\n",
    "\n",
    "medium_accuracy = accuracy_score(\n",
    "    medium_model.predict(test_inferred_vectors), y_test\n",
    ")  # 128.000 train data\n",
    "\n",
    "# Large Model Accuracy\n",
    "\n",
    "large_accuracy = accuracy_score(\n",
    "    medium_model.predict(test_inferred_vectors), y_test\n",
    ")  # 512.000 train data\n",
    "\n",
    "# Regular Model Accuracy\n",
    "\n",
    "regular_accuracy = accuracy_score(\n",
    "    regular_model.predict(test_inferred_vectors), y_test\n",
    ")  # All train data (1.2mil)"
   ]
  },
  {
   "cell_type": "code",
   "execution_count": 92,
   "metadata": {},
   "outputs": [
    {
     "name": "stdout",
     "output_type": "stream",
     "text": [
      "Random forest accuracy - TEST DATA - Nano Model: 0.6020\n",
      "Random forest accuracy - TEST DATA - Small Model: 0.6144\n",
      "Random forest accuracy - TEST DATA - Medium Model: 0.6194\n",
      "Random forest accuracy - TEST DATA - Large Model: 0.6194\n",
      "Random forest accuracy - TEST DATA - Regular Model: 0.6315\n"
     ]
    }
   ],
   "source": [
    "print(\"Random forest accuracy - TEST DATA - Nano Model: %.4f\" % nano_accuracy)\n",
    "print(\"Random forest accuracy - TEST DATA - Small Model: %.4f\" % small_accuracy)\n",
    "print(\"Random forest accuracy - TEST DATA - Medium Model: %.4f\" % medium_accuracy)\n",
    "print(\"Random forest accuracy - TEST DATA - Large Model: %.4f\" % large_accuracy)\n",
    "print(\"Random forest accuracy - TEST DATA - Regular Model: %.4f\" % regular_accuracy)"
   ]
  },
  {
   "cell_type": "code",
   "execution_count": 135,
   "metadata": {},
   "outputs": [
    {
     "name": "stdout",
     "output_type": "stream",
     "text": [
      "Size of Nano Model File: 33.14 MB\n",
      "Size of Small Model File: 131.52 MB\n",
      "Size of Medium Model File: 261.57 MB\n",
      "Size of Large Model File: 1038.02 MB\n",
      "Size of Regular Model File: 2578.69 MB\n"
     ]
    }
   ],
   "source": [
    "import os\n",
    "\n",
    "nano_model_size = os.path.getsize(\"./finalized_model_nano.sav\")\n",
    "small_model_size = os.path.getsize(\"./finalized_model_small.sav\")\n",
    "medium_model_size = os.path.getsize(\"./finalized_model_medium.sav\")\n",
    "large_model_size = os.path.getsize(\"./finalized_model_large.sav\")\n",
    "regular_model_size = os.path.getsize(\"./finalized_model.sav\")\n",
    "\n",
    "nano_model_size_mb = nano_model_size / (1024 * 1024)\n",
    "small_model_size_mb = small_model_size / (1024 * 1024)\n",
    "medium_model_size_mb = medium_model_size / (1024 * 1024)\n",
    "large_model_size_mb = large_model_size / (1024 * 1024)\n",
    "regular_model_size_mb = regular_model_size / (1024 * 1024)\n",
    "\n",
    "# Print the sizes of the model files\n",
    "print(\"Size of Nano Model File: {:.2f} MB\".format(nano_model_size_mb))\n",
    "print(\"Size of Small Model File: {:.2f} MB\".format(small_model_size_mb))\n",
    "print(\"Size of Medium Model File: {:.2f} MB\".format(medium_model_size_mb))\n",
    "print(\"Size of Large Model File: {:.2f} MB\".format(large_model_size_mb))\n",
    "print(\"Size of Regular Model File: {:.2f} MB\".format(regular_model_size_mb))"
   ]
  },
  {
   "cell_type": "code",
   "execution_count": 94,
   "metadata": {},
   "outputs": [
    {
     "data": {
      "image/png": "[encoded data removed]",
      "text/plain": [
       "<Figure size 800x600 with 1 Axes>"
      ]
     },
     "metadata": {},
     "output_type": "display_data"
    }
   ],
   "source": [
    "import matplotlib.pyplot as plt\n",
    "\n",
    "# Data\n",
    "models = [\"Nano\", \"Small\", \"Medium\", \"Large\", \"Regular\"]\n",
    "elapsed_time = [1.1, 1.6, 2.3, 2.5, 4.8]\n",
    "\n",
    "# Create a bar chart for elapsed time\n",
    "plt.figure(figsize=(8, 6))\n",
    "plt.bar(models, elapsed_time, color=\"b\", alpha=0.7)\n",
    "plt.xlabel(\"Models\")\n",
    "plt.ylabel(\"Elapsed Time (s)\")\n",
    "plt.title(\"Elapsed Time Comparison\")\n",
    "plt.show()"
   ]
  },
  {
   "cell_type": "code",
   "execution_count": 95,
   "metadata": {},
   "outputs": [
    {
     "data": {
      "image/png": "[encoded data removed]",
      "text/plain": [
       "<Figure size 800x600 with 1 Axes>"
      ]
     },
     "metadata": {},
     "output_type": "display_data"
    }
   ],
   "source": [
    "# Data\n",
    "accuracy = [\n",
    "    nano_accuracy,\n",
    "    small_accuracy,\n",
    "    medium_accuracy,\n",
    "    large_accuracy,\n",
    "    regular_accuracy,\n",
    "]\n",
    "\n",
    "# Create a bar chart for accuracy\n",
    "plt.figure(figsize=(8, 6))\n",
    "plt.bar(models, accuracy, color=\"r\", alpha=0.7)\n",
    "plt.xlabel(\"Models\")\n",
    "plt.ylabel(\"Accuracy\")\n",
    "plt.title(\"Accuracy Comparison\")\n",
    "\n",
    "# Adjust the y-axis limits to make differences more visible\n",
    "plt.ylim(min(accuracy) - 0.01, max(accuracy) + 0.01)\n",
    "\n",
    "plt.show()"
   ]
  },
  {
   "cell_type": "code",
   "execution_count": 96,
   "metadata": {},
   "outputs": [
    {
     "data": {
      "image/png": "[encoded data removed]",
      "text/plain": [
       "<Figure size 800x600 with 1 Axes>"
      ]
     },
     "metadata": {},
     "output_type": "display_data"
    }
   ],
   "source": [
    "# Data\n",
    "model_sizes = [\n",
    "    nano_model_size_mb,\n",
    "    small_model_size_mb,\n",
    "    medium_model_size_mb,\n",
    "    large_model_size_mb,\n",
    "    regular_model_size_mb,\n",
    "]\n",
    "\n",
    "# Create a bar chart for model size\n",
    "plt.figure(figsize=(8, 6))\n",
    "plt.bar(models, model_sizes, color=\"g\", alpha=0.7)\n",
    "plt.xlabel(\"Models\")\n",
    "plt.ylabel(\"Model Size (MB)\")\n",
    "plt.title(\"Model Size Comparison\")\n",
    "plt.show()"
   ]
  },
  {
   "cell_type": "markdown",
   "metadata": {},
   "source": [
    "# Выполнить то же самое но с использованием TfidfVectorizer\n"
   ]
  },
  {
   "cell_type": "code",
   "execution_count": 4,
   "metadata": {},
   "outputs": [],
   "source": [
    "from sklearn.feature_extraction.text import TfidfVectorizer\n",
    "\n",
    "vectorizer = TfidfVectorizer(\n",
    "    stop_words=\"english\", max_df=0.5, min_df=2\n",
    ")"
   ]
  },
  {
   "cell_type": "code",
   "execution_count": 5,
   "metadata": {},
   "outputs": [
    {
     "data": {
      "text/html": [
       "<style>#sk-container-id-1 {color: black;background-color: white;}#sk-container-id-1 pre{padding: 0;}#sk-container-id-1 div.sk-toggleable {background-color: white;}#sk-container-id-1 label.sk-toggleable__label {cursor: pointer;display: block;width: 100%;margin-bottom: 0;padding: 0.3em;box-sizing: border-box;text-align: center;}#sk-container-id-1 label.sk-toggleable__label-arrow:before {content: \"▸\";float: left;margin-right: 0.25em;color: #696969;}#sk-container-id-1 label.sk-toggleable__label-arrow:hover:before {color: black;}#sk-container-id-1 div.sk-estimator:hover label.sk-toggleable__label-arrow:before {color: black;}#sk-container-id-1 div.sk-toggleable__content {max-height: 0;max-width: 0;overflow: hidden;text-align: left;background-color: #f0f8ff;}#sk-container-id-1 div.sk-toggleable__content pre {margin: 0.2em;color: black;border-radius: 0.25em;background-color: #f0f8ff;}#sk-container-id-1 input.sk-toggleable__control:checked~div.sk-toggleable__content {max-height: 200px;max-width: 100%;overflow: auto;}#sk-container-id-1 input.sk-toggleable__control:checked~label.sk-toggleable__label-arrow:before {content: \"▾\";}#sk-container-id-1 div.sk-estimator input.sk-toggleable__control:checked~label.sk-toggleable__label {background-color: #d4ebff;}#sk-container-id-1 div.sk-label input.sk-toggleable__control:checked~label.sk-toggleable__label {background-color: #d4ebff;}#sk-container-id-1 input.sk-hidden--visually {border: 0;clip: rect(1px 1px 1px 1px);clip: rect(1px, 1px, 1px, 1px);height: 1px;margin: -1px;overflow: hidden;padding: 0;position: absolute;width: 1px;}#sk-container-id-1 div.sk-estimator {font-family: monospace;background-color: #f0f8ff;border: 1px dotted black;border-radius: 0.25em;box-sizing: border-box;margin-bottom: 0.5em;}#sk-container-id-1 div.sk-estimator:hover {background-color: #d4ebff;}#sk-container-id-1 div.sk-parallel-item::after {content: \"\";width: 100%;border-bottom: 1px solid gray;flex-grow: 1;}#sk-container-id-1 div.sk-label:hover label.sk-toggleable__label {background-color: #d4ebff;}#sk-container-id-1 div.sk-serial::before {content: \"\";position: absolute;border-left: 1px solid gray;box-sizing: border-box;top: 0;bottom: 0;left: 50%;z-index: 0;}#sk-container-id-1 div.sk-serial {display: flex;flex-direction: column;align-items: center;background-color: white;padding-right: 0.2em;padding-left: 0.2em;position: relative;}#sk-container-id-1 div.sk-item {position: relative;z-index: 1;}#sk-container-id-1 div.sk-parallel {display: flex;align-items: stretch;justify-content: center;background-color: white;position: relative;}#sk-container-id-1 div.sk-item::before, #sk-container-id-1 div.sk-parallel-item::before {content: \"\";position: absolute;border-left: 1px solid gray;box-sizing: border-box;top: 0;bottom: 0;left: 50%;z-index: -1;}#sk-container-id-1 div.sk-parallel-item {display: flex;flex-direction: column;z-index: 1;position: relative;background-color: white;}#sk-container-id-1 div.sk-parallel-item:first-child::after {align-self: flex-end;width: 50%;}#sk-container-id-1 div.sk-parallel-item:last-child::after {align-self: flex-start;width: 50%;}#sk-container-id-1 div.sk-parallel-item:only-child::after {width: 0;}#sk-container-id-1 div.sk-dashed-wrapped {border: 1px dashed gray;margin: 0 0.4em 0.5em 0.4em;box-sizing: border-box;padding-bottom: 0.4em;background-color: white;}#sk-container-id-1 div.sk-label label {font-family: monospace;font-weight: bold;display: inline-block;line-height: 1.2em;}#sk-container-id-1 div.sk-label-container {text-align: center;}#sk-container-id-1 div.sk-container {/* jupyter's `normalize.less` sets `[hidden] { display: none; }` but bootstrap.min.css set `[hidden] { display: none !important; }` so we also need the `!important` here to be able to override the default hidden behavior on the sphinx rendered scikit-learn.org. See: https://github.com/scikit-learn/scikit-learn/issues/21755 */display: inline-block !important;position: relative;}#sk-container-id-1 div.sk-text-repr-fallback {display: none;}</style><div id=\"sk-container-id-1\" class=\"sk-top-container\"><div class=\"sk-text-repr-fallback\"><pre>TfidfVectorizer(max_df=0.5, min_df=2, stop_words=&#x27;english&#x27;)</pre><b>In a Jupyter environment, please rerun this cell to show the HTML representation or trust the notebook. <br />On GitHub, the HTML representation is unable to render, please try loading this page with nbviewer.org.</b></div><div class=\"sk-container\" hidden><div class=\"sk-item\"><div class=\"sk-estimator sk-toggleable\"><input class=\"sk-toggleable__control sk-hidden--visually\" id=\"sk-estimator-id-1\" type=\"checkbox\" checked><label for=\"sk-estimator-id-1\" class=\"sk-toggleable__label sk-toggleable__label-arrow\">TfidfVectorizer</label><div class=\"sk-toggleable__content\"><pre>TfidfVectorizer(max_df=0.5, min_df=2, stop_words=&#x27;english&#x27;)</pre></div></div></div></div></div>"
      ],
      "text/plain": [
       "TfidfVectorizer(max_df=0.5, min_df=2, stop_words='english')"
      ]
     },
     "execution_count": 5,
     "metadata": {},
     "output_type": "execute_result"
    }
   ],
   "source": [
    "vectorizer.fit(X_train)"
   ]
  },
  {
   "cell_type": "code",
   "execution_count": 6,
   "metadata": {},
   "outputs": [
    {
     "name": "stdout",
     "output_type": "stream",
     "text": [
      "Number of training samples: 1279715\n",
      "Number of training labels: 1279715\n"
     ]
    }
   ],
   "source": [
    "X_vect = vectorizer.transform(X_train)\n",
    "\n",
    "print(\"Number of training samples:\", (X_vect.shape[0]))\n",
    "print(\"Number of training labels:\", len(y_train))"
   ]
  },
  {
   "cell_type": "code",
   "execution_count": 7,
   "metadata": {},
   "outputs": [
    {
     "name": "stdout",
     "output_type": "stream",
     "text": [
      "Number of training samples: 319929\n",
      "Number of training labels: 319929\n"
     ]
    }
   ],
   "source": [
    "X_vect_test = vectorizer.transform(X_test)\n",
    "\n",
    "print(\"Number of training samples:\", (X_vect_test.shape[0]))\n",
    "print(\"Number of training labels:\", len(y_test))"
   ]
  },
  {
   "cell_type": "code",
   "execution_count": 9,
   "metadata": {},
   "outputs": [],
   "source": [
    "from sklearn.ensemble import RandomForestClassifier\n",
    "\n",
    "rf_TF = RandomForestClassifier(n_estimators=30, n_jobs=-1, verbose=2)"
   ]
  },
  {
   "cell_type": "code",
   "execution_count": 29,
   "metadata": {},
   "outputs": [
    {
     "name": "stderr",
     "output_type": "stream",
     "text": [
      "[Parallel(n_jobs=-1)]: Using backend ThreadingBackend with 6 concurrent workers.\n"
     ]
    },
    {
     "name": "stdout",
     "output_type": "stream",
     "text": [
      "building tree 1 of 30building tree 2 of 30\n",
      "building tree 3 of 30\n",
      "\n",
      "building tree 4 of 30\n",
      "building tree 5 of 30\n",
      "building tree 6 of 30\n",
      "building tree 7 of 30\n",
      "building tree 8 of 30\n",
      "building tree 9 of 30\n",
      "building tree 10 of 30\n",
      "building tree 11 of 30\n",
      "building tree 12 of 30\n",
      "building tree 13 of 30\n",
      "building tree 14 of 30\n",
      "building tree 15 of 30\n",
      "building tree 16 of 30\n",
      "building tree 17 of 30\n",
      "building tree 18 of 30\n",
      "building tree 19 of 30\n",
      "building tree 20 of 30\n",
      "building tree 21 of 30\n",
      "building tree 22 of 30\n",
      "building tree 23 of 30\n",
      "building tree 24 of 30\n"
     ]
    }
   ],
   "source": [
    "rf_TF.fit(X_vect[:64000], y_train[:64000])"
   ]
  },
  {
   "cell_type": "code",
   "execution_count": 14,
   "metadata": {},
   "outputs": [
    {
     "name": "stderr",
     "output_type": "stream",
     "text": [
      "[Parallel(n_jobs=-1)]: Using backend ThreadingBackend with 6 concurrent workers.\n"
     ]
    },
    {
     "name": "stdout",
     "output_type": "stream",
     "text": [
      "building tree 1 of 30building tree 2 of 30\n",
      "\n",
      "building tree 3 of 30\n",
      "building tree 4 of 30\n",
      "building tree 5 of 30\n",
      "building tree 6 of 30\n",
      "building tree 7 of 30\n",
      "building tree 8 of 30\n",
      "building tree 9 of 30\n",
      "building tree 10 of 30\n",
      "building tree 11 of 30\n",
      "building tree 12 of 30\n",
      "building tree 13 of 30\n",
      "building tree 14 of 30\n",
      "building tree 15 of 30\n",
      "building tree 16 of 30\n",
      "building tree 17 of 30\n",
      "building tree 18 of 30\n",
      "building tree 19 of 30\n",
      "building tree 20 of 30\n",
      "building tree 21 of 30\n",
      "building tree 22 of 30\n",
      "building tree 23 of 30\n",
      "building tree 24 of 30\n",
      "building tree 25 of 30\n",
      "building tree 26 of 30\n",
      "building tree 27 of 30\n",
      "building tree 28 of 30\n",
      "building tree 29 of 30\n",
      "building tree 30 of 30\n"
     ]
    },
    {
     "name": "stderr",
     "output_type": "stream",
     "text": [
      "[Parallel(n_jobs=-1)]: Done  30 out of  30 | elapsed:  2.2min finished\n"
     ]
    },
    {
     "data": {
      "text/html": [
       "<style>#sk-container-id-3 {color: black;background-color: white;}#sk-container-id-3 pre{padding: 0;}#sk-container-id-3 div.sk-toggleable {background-color: white;}#sk-container-id-3 label.sk-toggleable__label {cursor: pointer;display: block;width: 100%;margin-bottom: 0;padding: 0.3em;box-sizing: border-box;text-align: center;}#sk-container-id-3 label.sk-toggleable__label-arrow:before {content: \"▸\";float: left;margin-right: 0.25em;color: #696969;}#sk-container-id-3 label.sk-toggleable__label-arrow:hover:before {color: black;}#sk-container-id-3 div.sk-estimator:hover label.sk-toggleable__label-arrow:before {color: black;}#sk-container-id-3 div.sk-toggleable__content {max-height: 0;max-width: 0;overflow: hidden;text-align: left;background-color: #f0f8ff;}#sk-container-id-3 div.sk-toggleable__content pre {margin: 0.2em;color: black;border-radius: 0.25em;background-color: #f0f8ff;}#sk-container-id-3 input.sk-toggleable__control:checked~div.sk-toggleable__content {max-height: 200px;max-width: 100%;overflow: auto;}#sk-container-id-3 input.sk-toggleable__control:checked~label.sk-toggleable__label-arrow:before {content: \"▾\";}#sk-container-id-3 div.sk-estimator input.sk-toggleable__control:checked~label.sk-toggleable__label {background-color: #d4ebff;}#sk-container-id-3 div.sk-label input.sk-toggleable__control:checked~label.sk-toggleable__label {background-color: #d4ebff;}#sk-container-id-3 input.sk-hidden--visually {border: 0;clip: rect(1px 1px 1px 1px);clip: rect(1px, 1px, 1px, 1px);height: 1px;margin: -1px;overflow: hidden;padding: 0;position: absolute;width: 1px;}#sk-container-id-3 div.sk-estimator {font-family: monospace;background-color: #f0f8ff;border: 1px dotted black;border-radius: 0.25em;box-sizing: border-box;margin-bottom: 0.5em;}#sk-container-id-3 div.sk-estimator:hover {background-color: #d4ebff;}#sk-container-id-3 div.sk-parallel-item::after {content: \"\";width: 100%;border-bottom: 1px solid gray;flex-grow: 1;}#sk-container-id-3 div.sk-label:hover label.sk-toggleable__label {background-color: #d4ebff;}#sk-container-id-3 div.sk-serial::before {content: \"\";position: absolute;border-left: 1px solid gray;box-sizing: border-box;top: 0;bottom: 0;left: 50%;z-index: 0;}#sk-container-id-3 div.sk-serial {display: flex;flex-direction: column;align-items: center;background-color: white;padding-right: 0.2em;padding-left: 0.2em;position: relative;}#sk-container-id-3 div.sk-item {position: relative;z-index: 1;}#sk-container-id-3 div.sk-parallel {display: flex;align-items: stretch;justify-content: center;background-color: white;position: relative;}#sk-container-id-3 div.sk-item::before, #sk-container-id-3 div.sk-parallel-item::before {content: \"\";position: absolute;border-left: 1px solid gray;box-sizing: border-box;top: 0;bottom: 0;left: 50%;z-index: -1;}#sk-container-id-3 div.sk-parallel-item {display: flex;flex-direction: column;z-index: 1;position: relative;background-color: white;}#sk-container-id-3 div.sk-parallel-item:first-child::after {align-self: flex-end;width: 50%;}#sk-container-id-3 div.sk-parallel-item:last-child::after {align-self: flex-start;width: 50%;}#sk-container-id-3 div.sk-parallel-item:only-child::after {width: 0;}#sk-container-id-3 div.sk-dashed-wrapped {border: 1px dashed gray;margin: 0 0.4em 0.5em 0.4em;box-sizing: border-box;padding-bottom: 0.4em;background-color: white;}#sk-container-id-3 div.sk-label label {font-family: monospace;font-weight: bold;display: inline-block;line-height: 1.2em;}#sk-container-id-3 div.sk-label-container {text-align: center;}#sk-container-id-3 div.sk-container {/* jupyter's `normalize.less` sets `[hidden] { display: none; }` but bootstrap.min.css set `[hidden] { display: none !important; }` so we also need the `!important` here to be able to override the default hidden behavior on the sphinx rendered scikit-learn.org. See: https://github.com/scikit-learn/scikit-learn/issues/21755 */display: inline-block !important;position: relative;}#sk-container-id-3 div.sk-text-repr-fallback {display: none;}</style><div id=\"sk-container-id-3\" class=\"sk-top-container\"><div class=\"sk-text-repr-fallback\"><pre>RandomForestClassifier(n_estimators=30, n_jobs=-1, verbose=2)</pre><b>In a Jupyter environment, please rerun this cell to show the HTML representation or trust the notebook. <br />On GitHub, the HTML representation is unable to render, please try loading this page with nbviewer.org.</b></div><div class=\"sk-container\" hidden><div class=\"sk-item\"><div class=\"sk-estimator sk-toggleable\"><input class=\"sk-toggleable__control sk-hidden--visually\" id=\"sk-estimator-id-3\" type=\"checkbox\" checked><label for=\"sk-estimator-id-3\" class=\"sk-toggleable__label sk-toggleable__label-arrow\">RandomForestClassifier</label><div class=\"sk-toggleable__content\"><pre>RandomForestClassifier(n_estimators=30, n_jobs=-1, verbose=2)</pre></div></div></div></div></div>"
      ],
      "text/plain": [
       "RandomForestClassifier(n_estimators=30, n_jobs=-1, verbose=2)"
      ]
     },
     "execution_count": 14,
     "metadata": {},
     "output_type": "execute_result"
    }
   ],
   "source": [
    "rf_TF_small = RandomForestClassifier(n_estimators=30, n_jobs=-1, verbose=2)\n",
    "rf_TF_small.fit(X_vect[:32000], y_train[:32000])"
   ]
  },
  {
   "cell_type": "code",
   "execution_count": 10,
   "metadata": {},
   "outputs": [
    {
     "name": "stderr",
     "output_type": "stream",
     "text": [
      "[Parallel(n_jobs=-1)]: Using backend ThreadingBackend with 6 concurrent workers.\n"
     ]
    },
    {
     "name": "stdout",
     "output_type": "stream",
     "text": [
      "building tree 1 of 30\n",
      "building tree 2 of 30\n",
      "building tree 3 of 30\n",
      "building tree 4 of 30\n",
      "building tree 5 of 30\n",
      "building tree 6 of 30\n",
      "building tree 7 of 30\n",
      "building tree 8 of 30\n",
      "building tree 9 of 30\n",
      "building tree 10 of 30\n",
      "building tree 11 of 30\n",
      "building tree 12 of 30\n",
      "building tree 13 of 30\n",
      "building tree 14 of 30\n",
      "building tree 15 of 30\n",
      "building tree 16 of 30\n",
      "building tree 17 of 30\n",
      "building tree 18 of 30\n",
      "building tree 19 of 30\n",
      "building tree 20 of 30\n",
      "building tree 21 of 30\n",
      "building tree 22 of 30\n",
      "building tree 23 of 30\n",
      "building tree 24 of 30\n",
      "building tree 25 of 30\n",
      "building tree 26 of 30\n",
      "building tree 27 of 30\n",
      "building tree 28 of 30\n",
      "building tree 29 of 30\n",
      "building tree 30 of 30\n"
     ]
    },
    {
     "name": "stderr",
     "output_type": "stream",
     "text": [
      "[Parallel(n_jobs=-1)]: Done  30 out of  30 | elapsed:  1.1min finished\n"
     ]
    },
    {
     "data": {
      "text/html": [
       "<style>#sk-container-id-2 {color: black;background-color: white;}#sk-container-id-2 pre{padding: 0;}#sk-container-id-2 div.sk-toggleable {background-color: white;}#sk-container-id-2 label.sk-toggleable__label {cursor: pointer;display: block;width: 100%;margin-bottom: 0;padding: 0.3em;box-sizing: border-box;text-align: center;}#sk-container-id-2 label.sk-toggleable__label-arrow:before {content: \"▸\";float: left;margin-right: 0.25em;color: #696969;}#sk-container-id-2 label.sk-toggleable__label-arrow:hover:before {color: black;}#sk-container-id-2 div.sk-estimator:hover label.sk-toggleable__label-arrow:before {color: black;}#sk-container-id-2 div.sk-toggleable__content {max-height: 0;max-width: 0;overflow: hidden;text-align: left;background-color: #f0f8ff;}#sk-container-id-2 div.sk-toggleable__content pre {margin: 0.2em;color: black;border-radius: 0.25em;background-color: #f0f8ff;}#sk-container-id-2 input.sk-toggleable__control:checked~div.sk-toggleable__content {max-height: 200px;max-width: 100%;overflow: auto;}#sk-container-id-2 input.sk-toggleable__control:checked~label.sk-toggleable__label-arrow:before {content: \"▾\";}#sk-container-id-2 div.sk-estimator input.sk-toggleable__control:checked~label.sk-toggleable__label {background-color: #d4ebff;}#sk-container-id-2 div.sk-label input.sk-toggleable__control:checked~label.sk-toggleable__label {background-color: #d4ebff;}#sk-container-id-2 input.sk-hidden--visually {border: 0;clip: rect(1px 1px 1px 1px);clip: rect(1px, 1px, 1px, 1px);height: 1px;margin: -1px;overflow: hidden;padding: 0;position: absolute;width: 1px;}#sk-container-id-2 div.sk-estimator {font-family: monospace;background-color: #f0f8ff;border: 1px dotted black;border-radius: 0.25em;box-sizing: border-box;margin-bottom: 0.5em;}#sk-container-id-2 div.sk-estimator:hover {background-color: #d4ebff;}#sk-container-id-2 div.sk-parallel-item::after {content: \"\";width: 100%;border-bottom: 1px solid gray;flex-grow: 1;}#sk-container-id-2 div.sk-label:hover label.sk-toggleable__label {background-color: #d4ebff;}#sk-container-id-2 div.sk-serial::before {content: \"\";position: absolute;border-left: 1px solid gray;box-sizing: border-box;top: 0;bottom: 0;left: 50%;z-index: 0;}#sk-container-id-2 div.sk-serial {display: flex;flex-direction: column;align-items: center;background-color: white;padding-right: 0.2em;padding-left: 0.2em;position: relative;}#sk-container-id-2 div.sk-item {position: relative;z-index: 1;}#sk-container-id-2 div.sk-parallel {display: flex;align-items: stretch;justify-content: center;background-color: white;position: relative;}#sk-container-id-2 div.sk-item::before, #sk-container-id-2 div.sk-parallel-item::before {content: \"\";position: absolute;border-left: 1px solid gray;box-sizing: border-box;top: 0;bottom: 0;left: 50%;z-index: -1;}#sk-container-id-2 div.sk-parallel-item {display: flex;flex-direction: column;z-index: 1;position: relative;background-color: white;}#sk-container-id-2 div.sk-parallel-item:first-child::after {align-self: flex-end;width: 50%;}#sk-container-id-2 div.sk-parallel-item:last-child::after {align-self: flex-start;width: 50%;}#sk-container-id-2 div.sk-parallel-item:only-child::after {width: 0;}#sk-container-id-2 div.sk-dashed-wrapped {border: 1px dashed gray;margin: 0 0.4em 0.5em 0.4em;box-sizing: border-box;padding-bottom: 0.4em;background-color: white;}#sk-container-id-2 div.sk-label label {font-family: monospace;font-weight: bold;display: inline-block;line-height: 1.2em;}#sk-container-id-2 div.sk-label-container {text-align: center;}#sk-container-id-2 div.sk-container {/* jupyter's `normalize.less` sets `[hidden] { display: none; }` but bootstrap.min.css set `[hidden] { display: none !important; }` so we also need the `!important` here to be able to override the default hidden behavior on the sphinx rendered scikit-learn.org. See: https://github.com/scikit-learn/scikit-learn/issues/21755 */display: inline-block !important;position: relative;}#sk-container-id-2 div.sk-text-repr-fallback {display: none;}</style><div id=\"sk-container-id-2\" class=\"sk-top-container\"><div class=\"sk-text-repr-fallback\"><pre>RandomForestClassifier(n_estimators=30, n_jobs=-1, verbose=2)</pre><b>In a Jupyter environment, please rerun this cell to show the HTML representation or trust the notebook. <br />On GitHub, the HTML representation is unable to render, please try loading this page with nbviewer.org.</b></div><div class=\"sk-container\" hidden><div class=\"sk-item\"><div class=\"sk-estimator sk-toggleable\"><input class=\"sk-toggleable__control sk-hidden--visually\" id=\"sk-estimator-id-2\" type=\"checkbox\" checked><label for=\"sk-estimator-id-2\" class=\"sk-toggleable__label sk-toggleable__label-arrow\">RandomForestClassifier</label><div class=\"sk-toggleable__content\"><pre>RandomForestClassifier(n_estimators=30, n_jobs=-1, verbose=2)</pre></div></div></div></div></div>"
      ],
      "text/plain": [
       "RandomForestClassifier(n_estimators=30, n_jobs=-1, verbose=2)"
      ]
     },
     "execution_count": 10,
     "metadata": {},
     "output_type": "execute_result"
    }
   ],
   "source": [
    "rf_TF_nano = RandomForestClassifier(n_estimators=30, n_jobs=-1, verbose=2)\n",
    "rf_TF_nano.fit(X_vect[:16000], y_train[:16000])"
   ]
  },
  {
   "cell_type": "code",
   "execution_count": 15,
   "metadata": {},
   "outputs": [
    {
     "name": "stderr",
     "output_type": "stream",
     "text": [
      "[Parallel(n_jobs=6)]: Using backend ThreadingBackend with 6 concurrent workers.\n",
      "[Parallel(n_jobs=6)]: Done  30 out of  30 | elapsed:    4.5s finished\n",
      "[Parallel(n_jobs=6)]: Using backend ThreadingBackend with 6 concurrent workers.\n",
      "[Parallel(n_jobs=6)]: Done  30 out of  30 | elapsed:    3.3s finished\n"
     ]
    }
   ],
   "source": [
    "# Nano Model Accuracy\n",
    "'''\n",
    "medium_accuracy_TF = accuracy_score(\n",
    "    rf_TF.predict(X_vect_test[:]), y_test[:]\n",
    ")  # 128.000 train data\n",
    "'''\n",
    "\n",
    "small_accuracy_TF = accuracy_score(\n",
    "    rf_TF_small.predict(X_vect_test[:]), y_test[:]\n",
    ")  # 32.000 train data\n",
    "\n",
    "\n",
    "nano_accuracy_TF = accuracy_score(\n",
    "    rf_TF_nano.predict(X_vect_test[:]), y_test[:]\n",
    ")  # 16.000 train data"
   ]
  },
  {
   "cell_type": "code",
   "execution_count": 16,
   "metadata": {},
   "outputs": [
    {
     "name": "stdout",
     "output_type": "stream",
     "text": [
      "Random forest accuracy - TEST DATA - Nano Model TF: 0.7114\n",
      "Random forest accuracy - TEST DATA - Small Model TF: 0.7231\n"
     ]
    }
   ],
   "source": [
    "\n",
    "print(\"Random forest accuracy - TEST DATA - Nano Model TF: %.4f\" % nano_accuracy_TF)\n",
    "print(\"Random forest accuracy - TEST DATA - Small Model TF: %.4f\" % small_accuracy_TF)"
   ]
  },
  {
   "cell_type": "code",
   "execution_count": 17,
   "metadata": {},
   "outputs": [
    {
     "data": {
      "text/plain": [
       "'\\nfilename = \"finalized_model_medium_TF.sav\"\\npickle.dump(rf_TF, open(filename, \"wb\"))\\n'"
      ]
     },
     "execution_count": 17,
     "metadata": {},
     "output_type": "execute_result"
    }
   ],
   "source": [
    "import pickle\n",
    "\n",
    "filename = \"finalized_model_nano_TF.sav\"\n",
    "pickle.dump(rf_TF_nano, open(filename, \"wb\"))\n",
    "filename = \"finalized_model_small_TF.sav\"\n",
    "pickle.dump(rf_TF_small, open(filename, \"wb\"))\n",
    "\"\"\"\n",
    "filename = \"finalized_model_medium_TF.sav\"\n",
    "pickle.dump(rf_TF, open(filename, \"wb\"))\n",
    "\"\"\""
   ]
  },
  {
   "cell_type": "code",
   "execution_count": 19,
   "metadata": {},
   "outputs": [
    {
     "name": "stdout",
     "output_type": "stream",
     "text": [
      "Size of Nano Model File: 29.58 MB\n",
      "Size of Small Model File: 59.87 MB\n"
     ]
    }
   ],
   "source": [
    "import os\n",
    "\n",
    "nano_model_size_TF = os.path.getsize(\"./finalized_model_nano_TF.sav\")\n",
    "small_model_size_TF = os.path.getsize(\"./finalized_model_small_TF.sav\")\n",
    "\n",
    "#medium_model_size_TF = os.path.getsize(\"./finalized_model_medium_TF.sav\")\n",
    "\n",
    "nano_model_size_mb_TF = nano_model_size_TF / (1024 * 1024)\n",
    "small_model_size_mb_TF = small_model_size_TF / (1024 * 1024)\n",
    "#medium_model_size_mb_TF = medium_model_size_TF / (1024 * 1024)\n",
    "\n",
    "# Print the sizes of the model files\n",
    "print(\"Size of Nano Model File: {:.2f} MB\".format(nano_model_size_mb_TF))\n",
    "print(\"Size of Small Model File: {:.2f} MB\".format(small_model_size_mb_TF))\n",
    "#print(\"Size of Medium Model File: {:.2f} MB\".format(medium_model_size_mb))"
   ]
  },
  {
   "cell_type": "code",
   "execution_count": 25,
   "metadata": {},
   "outputs": [
    {
     "data": {
      "image/png": "[encoded data removed]",
      "text/plain": [
       "<Figure size 800x600 with 1 Axes>"
      ]
     },
     "metadata": {},
     "output_type": "display_data"
    }
   ],
   "source": [
    "import matplotlib.pyplot as plt\n",
    "\n",
    "# Data\n",
    "models = [\"Nano\", \"Small\"]\n",
    "elapsed_time = [23.4, 40.5]\n",
    "\n",
    "# Create a bar chart for elapsed time\n",
    "plt.figure(figsize=(8, 6))\n",
    "plt.bar(models, elapsed_time, color=\"b\", alpha=0.7)\n",
    "plt.xlabel(\"Models\")\n",
    "plt.ylabel(\"Elapsed Time (s)\")\n",
    "plt.title(\"Elapsed Time Comparison\")\n",
    "plt.show()"
   ]
  },
  {
   "cell_type": "code",
   "execution_count": 26,
   "metadata": {},
   "outputs": [
    {
     "data": {
      "image/png": "[encoded data removed]",
      "text/plain": [
       "<Figure size 800x600 with 1 Axes>"
      ]
     },
     "metadata": {},
     "output_type": "display_data"
    }
   ],
   "source": [
    "# Data\n",
    "accuracy = [nano_accuracy_TF, small_accuracy_TF]\n",
    "\n",
    "# Create a bar chart for accuracy\n",
    "plt.figure(figsize=(8, 6))\n",
    "plt.bar(models, accuracy, color=\"r\", alpha=0.7)\n",
    "plt.xlabel(\"Models\")\n",
    "plt.ylabel(\"Accuracy\")\n",
    "plt.title(\"Accuracy Comparison\")\n",
    "\n",
    "# Adjust the y-axis limits to make differences more visible\n",
    "plt.ylim(min(accuracy) - 0.01, max(accuracy) + 0.01)\n",
    "\n",
    "plt.show()"
   ]
  },
  {
   "cell_type": "code",
   "execution_count": 27,
   "metadata": {},
   "outputs": [
    {
     "data": {
      "image/png": "[encoded data removed]",
      "text/plain": [
       "<Figure size 800x600 with 1 Axes>"
      ]
     },
     "metadata": {},
     "output_type": "display_data"
    }
   ],
   "source": [
    "# Data\n",
    "model_sizes = [nano_model_size_mb_TF, small_model_size_mb_TF]\n",
    "\n",
    "# Create a bar chart for model size\n",
    "plt.figure(figsize=(8, 6))\n",
    "plt.bar(models, model_sizes, color=\"g\", alpha=0.7)\n",
    "plt.xlabel(\"Models\")\n",
    "plt.ylabel(\"Model Size (MB)\")\n",
    "plt.title(\"Model Size Comparison\")\n",
    "plt.show()"
   ]
  },
  {
   "cell_type": "code",
   "execution_count": 29,
   "metadata": {},
   "outputs": [
    {
     "data": {
      "image/png": "[encoded data removed]",
      "text/plain": [
       "<Figure size 640x480 with 1 Axes>"
      ]
     },
     "metadata": {},
     "output_type": "display_data"
    }
   ],
   "source": [
    "import matplotlib.pyplot as plt\n",
    "\n",
    "# Data for the plot\n",
    "models = [\"Nano\", \"Small\"]\n",
    "elapsed_time_TF = [23.4, 40.5, 52.2]\n",
    "elapsed_time_W2V = [1.1, 1.6, 2.3]\n",
    "\n",
    "colors = {\"TFIDF\": \"tab:blue\", \"W2V\": \"tab:red\"}\n",
    "\n",
    "width = 0.4  # the width of the bars\n",
    "multiplier = 0\n",
    "\n",
    "# Create the figure and axis object\n",
    "fig, ax = plt.subplots()\n",
    "\n",
    "# Plot the first set of bars\n",
    "for model in models:\n",
    "    rects = ax.bar(\n",
    "        0 + multiplier,\n",
    "        elapsed_time_TF[multiplier],\n",
    "        width,\n",
    "        color=colors.get(\"TFIDF\"),\n",
    "    )\n",
    "    if multiplier == 0:\n",
    "        rects.set_label(\"TFIDF\")\n",
    "    ax.bar_label(rects, padding=3)\n",
    "\n",
    "    # Plot the second set of bars\n",
    "    rects = ax.bar(\n",
    "        width + multiplier,\n",
    "        elapsed_time_W2V[multiplier],\n",
    "        width,\n",
    "        color=colors.get(\"W2V\"),\n",
    "    )\n",
    "    if multiplier == 0:\n",
    "        rects.set_label(\"Word2Vec\")\n",
    "    multiplier += 1\n",
    "\n",
    "\n",
    "# Add a title and legend\n",
    "ax.set_title(\"Elapsed Time vs. Model Size\")\n",
    "ax.set_ylabel(\"Time (s)\")\n",
    "ax.set_xticks(np.arange(len(models)) + width / 2, [\"Nano\", \"Small\"])\n",
    "ax.legend()\n",
    "\n",
    "# Show the plot\n",
    "plt.show()"
   ]
  },
  {
   "cell_type": "code",
   "execution_count": 31,
   "metadata": {},
   "outputs": [
    {
     "ename": "NameError",
     "evalue": "name 'nano_accuracy' is not defined",
     "output_type": "error",
     "traceback": [
      "\u001b[1;31m---------------------------------------------------------------------------\u001b[0m",
      "\u001b[1;31mNameError\u001b[0m                                 Traceback (most recent call last)",
      "\u001b[1;32md:\\yazik_lab6\\LAB6.ipynb Cell 48\u001b[0m line \u001b[0;36m6\n\u001b[0;32m      <a href='vscode-notebook-cell:/d%3A/yazik_lab6/LAB6.ipynb#X66sZmlsZQ%3D%3D?line=3'>4</a>\u001b[0m models \u001b[39m=\u001b[39m [\u001b[39m\"\u001b[39m\u001b[39mNano\u001b[39m\u001b[39m\"\u001b[39m, \u001b[39m\"\u001b[39m\u001b[39mSmall\u001b[39m\u001b[39m\"\u001b[39m]\n\u001b[0;32m      <a href='vscode-notebook-cell:/d%3A/yazik_lab6/LAB6.ipynb#X66sZmlsZQ%3D%3D?line=4'>5</a>\u001b[0m accuracy_TF \u001b[39m=\u001b[39m [nano_accuracy_TF, small_accuracy_TF]\n\u001b[1;32m----> <a href='vscode-notebook-cell:/d%3A/yazik_lab6/LAB6.ipynb#X66sZmlsZQ%3D%3D?line=5'>6</a>\u001b[0m accuracy_W2V \u001b[39m=\u001b[39m [nano_accuracy, small_accuracy]\n\u001b[0;32m      <a href='vscode-notebook-cell:/d%3A/yazik_lab6/LAB6.ipynb#X66sZmlsZQ%3D%3D?line=7'>8</a>\u001b[0m colors \u001b[39m=\u001b[39m {\u001b[39m\"\u001b[39m\u001b[39mTFIDF\u001b[39m\u001b[39m\"\u001b[39m: \u001b[39m\"\u001b[39m\u001b[39mtab:blue\u001b[39m\u001b[39m\"\u001b[39m, \u001b[39m\"\u001b[39m\u001b[39mW2V\u001b[39m\u001b[39m\"\u001b[39m: \u001b[39m\"\u001b[39m\u001b[39mtab:red\u001b[39m\u001b[39m\"\u001b[39m}\n\u001b[0;32m     <a href='vscode-notebook-cell:/d%3A/yazik_lab6/LAB6.ipynb#X66sZmlsZQ%3D%3D?line=9'>10</a>\u001b[0m width \u001b[39m=\u001b[39m \u001b[39m0.35\u001b[39m  \u001b[39m# the width of the bars\u001b[39;00m\n",
      "\u001b[1;31mNameError\u001b[0m: name 'nano_accuracy' is not defined"
     ]
    }
   ],
   "source": [
    "import matplotlib.pyplot as plt\n",
    "\n",
    "# Data for the plot\n",
    "models = [\"Nano\", \"Small\"]\n",
    "accuracy_TF = [nano_accuracy_TF, small_accuracy_TF]\n",
    "accuracy_W2V = [nano_accuracy, small_accuracy]\n",
    "\n",
    "colors = {\"TFIDF\": \"tab:blue\", \"W2V\": \"tab:red\"}\n",
    "\n",
    "width = 0.35  # the width of the bars\n",
    "multiplier = 0\n",
    "\n",
    "# Create the figure and axis object\n",
    "fig, ax = plt.subplots()\n",
    "\n",
    "# Plot the first set of bars\n",
    "for model in models:\n",
    "    rects = ax.bar(\n",
    "        0 + multiplier,\n",
    "        accuracy_TF[multiplier],\n",
    "        width,\n",
    "        color=colors.get(\"TFIDF\"),\n",
    "    )\n",
    "    if multiplier == 0:\n",
    "        rects.set_label(\"TFIDF\")\n",
    "    ax.bar_label(rects, padding=3)\n",
    "\n",
    "    # Plot the second set of bars\n",
    "    rects = ax.bar(\n",
    "        width + multiplier,\n",
    "        accuracy_W2V[multiplier],\n",
    "        width,\n",
    "        color=colors.get(\"W2V\"),\n",
    "    )\n",
    "    if multiplier == 0:\n",
    "        rects.set_label(\"Word2Vec\")\n",
    "    multiplier += 1\n",
    "\n",
    "\n",
    "# Add a title and legend\n",
    "ax.set_title(\"Accuracy vs. Model Size\")\n",
    "ax.set_ylabel(\"Accuracy\")\n",
    "ax.set_xticks(np.arange(len(models)) + width / 2, [\"Nano\", \"Small\"])\n",
    "ax.legend()\n",
    "\n",
    "# Show the plot\n",
    "plt.show()"
   ]
  },
  {
   "cell_type": "code",
   "execution_count": 136,
   "metadata": {},
   "outputs": [
    {
     "data": {
      "image/png": "[encoded data removed]",
      "text/plain": [
       "<Figure size 640x480 with 1 Axes>"
      ]
     },
     "metadata": {},
     "output_type": "display_data"
    }
   ],
   "source": [
    "import matplotlib.pyplot as plt\n",
    "\n",
    "# Data for the plot\n",
    "models = [\"Nano\", \"Small\", \"Medium\"]\n",
    "size_TF = [nano_model_size_mb_TF, small_model_size_mb_TF, medium_model_size_mb_TF]\n",
    "size_W2V = [nano_model_size_mb, small_model_size_mb, medium_model_size_mb]\n",
    "\n",
    "colors = {\"TFIDF\": \"tab:blue\", \"W2V\": \"tab:red\"}\n",
    "\n",
    "width = 0.35  # the width of the bars\n",
    "multiplier = 0\n",
    "\n",
    "# Create the figure and axis object\n",
    "fig, ax = plt.subplots()\n",
    "\n",
    "# Plot the first set of bars\n",
    "for model in models:\n",
    "    rects = ax.bar(\n",
    "        0 + multiplier,\n",
    "        size_TF[multiplier],\n",
    "        width,\n",
    "        color=colors.get(\"TFIDF\"),\n",
    "    )\n",
    "    if multiplier == 0:\n",
    "        rects.set_label(\"TFIDF\")\n",
    "    ax.bar_label(rects, padding=3)\n",
    "\n",
    "    # Plot the second set of bars\n",
    "    rects = ax.bar(\n",
    "        width + multiplier,\n",
    "        size_W2V[multiplier],\n",
    "        width,\n",
    "        color=colors.get(\"W2V\"),\n",
    "    )\n",
    "    if multiplier == 0:\n",
    "        rects.set_label(\"Word2Vec\")\n",
    "    multiplier += 1\n",
    "\n",
    "\n",
    "# Add a title and legend\n",
    "ax.set_title(\"size vs. Model Size\")\n",
    "ax.set_ylabel(\"size\")\n",
    "ax.set_xticks(np.arange(len(models)) + width / 2, [\"Nano\", \"Small\", \"Medium\"])\n",
    "ax.legend()\n",
    "\n",
    "# Show the plot\n",
    "plt.show()"
   ]
  }
 ],
 "metadata": {
  "kernelspec": {
   "display_name": "Python 3",
   "language": "python",
   "name": "python3"
  },
  "language_info": {
   "codemirror_mode": {
    "name": "ipython",
    "version": 3
   },
   "file_extension": ".py",
   "mimetype": "text/x-python",
   "name": "python",
   "nbconvert_exporter": "python",
   "pygments_lexer": "ipython3",
   "version": "3.10.7"
  },
  "orig_nbformat": 4,
  "vscode": {
   "interpreter": {
    "hash": "73f2c00b3cc59b05db074228c29991fbacf0e1e6d0adc4f86a80a564870f5f16"
   }
  }
 },
 "nbformat": 4,
 "nbformat_minor": 2
}

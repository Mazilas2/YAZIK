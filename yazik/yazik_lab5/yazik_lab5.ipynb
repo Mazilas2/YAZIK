{
 "cells": [
  {
   "cell_type": "markdown",
   "metadata": {},
   "source": [
    "В качестве исходного набора взять любой набор текстов на выбор.\n",
    "https://www.kaggle.com/datasets/joebeachcapital/restaurant-reviews\n",
    "https://www.kaggle.com/datasets/nicapotato/womens-ecommerce-clothing-reviews\n",
    "https://www.kaggle.com/datasets/andrewmvd/trip-advisor-hotel-reviews\n",
    "https://www.kaggle.com/datasets/arushchillar/disneyland-reviews\n",
    "Все эти наборы содержат отзывы (на разные тематики), поэтому целевой текст необходимо искать в соответствующем столбце.\n",
    "Их необходимо предобработать (убрать лишнее, привести к нижнему регистру, лемматизировать и тд).\n",
    "Все тексты необходимо преобразовать в список предложений, состоящих из слов."
   ]
  },
  {
   "cell_type": "markdown",
   "metadata": {},
   "source": [
    "Выбранный датасет - https://www.kaggle.com/datasets/arushchillar/disneyland-reviews"
   ]
  },
  {
   "cell_type": "code",
   "execution_count": 88,
   "metadata": {},
   "outputs": [
    {
     "data": {
      "text/html": [
       "<div>\n",
       "<style scoped>\n",
       "    .dataframe tbody tr th:only-of-type {\n",
       "        vertical-align: middle;\n",
       "    }\n",
       "\n",
       "    .dataframe tbody tr th {\n",
       "        vertical-align: top;\n",
       "    }\n",
       "\n",
       "    .dataframe thead th {\n",
       "        text-align: right;\n",
       "    }\n",
       "</style>\n",
       "<table border=\"1\" class=\"dataframe\">\n",
       "  <thead>\n",
       "    <tr style=\"text-align: right;\">\n",
       "      <th></th>\n",
       "      <th>Review_ID</th>\n",
       "      <th>Rating</th>\n",
       "      <th>Year_Month</th>\n",
       "      <th>Reviewer_Location</th>\n",
       "      <th>Review_Text</th>\n",
       "      <th>Branch</th>\n",
       "    </tr>\n",
       "  </thead>\n",
       "  <tbody>\n",
       "    <tr>\n",
       "      <th>0</th>\n",
       "      <td>670772142</td>\n",
       "      <td>4</td>\n",
       "      <td>2019-4</td>\n",
       "      <td>Australia</td>\n",
       "      <td>If you've ever been to Disneyland anywhere you...</td>\n",
       "      <td>Disneyland_HongKong</td>\n",
       "    </tr>\n",
       "    <tr>\n",
       "      <th>1</th>\n",
       "      <td>670682799</td>\n",
       "      <td>4</td>\n",
       "      <td>2019-5</td>\n",
       "      <td>Philippines</td>\n",
       "      <td>Its been a while since d last time we visit HK...</td>\n",
       "      <td>Disneyland_HongKong</td>\n",
       "    </tr>\n",
       "    <tr>\n",
       "      <th>2</th>\n",
       "      <td>670623270</td>\n",
       "      <td>4</td>\n",
       "      <td>2019-4</td>\n",
       "      <td>United Arab Emirates</td>\n",
       "      <td>Thanks God it wasn   t too hot or too humid wh...</td>\n",
       "      <td>Disneyland_HongKong</td>\n",
       "    </tr>\n",
       "    <tr>\n",
       "      <th>3</th>\n",
       "      <td>670607911</td>\n",
       "      <td>4</td>\n",
       "      <td>2019-4</td>\n",
       "      <td>Australia</td>\n",
       "      <td>HK Disneyland is a great compact park. Unfortu...</td>\n",
       "      <td>Disneyland_HongKong</td>\n",
       "    </tr>\n",
       "    <tr>\n",
       "      <th>4</th>\n",
       "      <td>670607296</td>\n",
       "      <td>4</td>\n",
       "      <td>2019-4</td>\n",
       "      <td>United Kingdom</td>\n",
       "      <td>the location is not in the city, took around 1...</td>\n",
       "      <td>Disneyland_HongKong</td>\n",
       "    </tr>\n",
       "  </tbody>\n",
       "</table>\n",
       "</div>"
      ],
      "text/plain": [
       "   Review_ID  Rating Year_Month     Reviewer_Location  \\\n",
       "0  670772142       4     2019-4             Australia   \n",
       "1  670682799       4     2019-5           Philippines   \n",
       "2  670623270       4     2019-4  United Arab Emirates   \n",
       "3  670607911       4     2019-4             Australia   \n",
       "4  670607296       4     2019-4        United Kingdom   \n",
       "\n",
       "                                         Review_Text               Branch  \n",
       "0  If you've ever been to Disneyland anywhere you...  Disneyland_HongKong  \n",
       "1  Its been a while since d last time we visit HK...  Disneyland_HongKong  \n",
       "2  Thanks God it wasn   t too hot or too humid wh...  Disneyland_HongKong  \n",
       "3  HK Disneyland is a great compact park. Unfortu...  Disneyland_HongKong  \n",
       "4  the location is not in the city, took around 1...  Disneyland_HongKong  "
      ]
     },
     "execution_count": 88,
     "metadata": {},
     "output_type": "execute_result"
    }
   ],
   "source": [
    "import pandas as pd\n",
    "\n",
    "dataframe = pd.read_csv('./DisneylandReviews.csv', encoding='latin-1')\n",
    "dataframe.head()"
   ]
  },
  {
   "attachments": {},
   "cell_type": "markdown",
   "metadata": {},
   "source": [
    "Все эти наборы содержат отзывы (на разные тематики), поэтому целевой текст необходимо искать в соответствующем столбце.\n",
    "Их необходимо предобработать (убрать лишнее, привести к нижнему регистру, лемматизировать и тд).\n",
    "Все тексты необходимо преобразовать в список предложений, состоящих из слов."
   ]
  },
  {
   "cell_type": "code",
   "execution_count": 122,
   "metadata": {},
   "outputs": [
    {
     "name": "stderr",
     "output_type": "stream",
     "text": [
      "[nltk_data] Downloading package stopwords to\n",
      "[nltk_data]     /home/codespace/nltk_data...\n",
      "[nltk_data]   Package stopwords is already up-to-date!\n",
      "[nltk_data] Downloading package wordnet to\n",
      "[nltk_data]     /home/codespace/nltk_data...\n",
      "[nltk_data]   Package wordnet is already up-to-date!\n"
     ]
    }
   ],
   "source": [
    "import nltk\n",
    "nltk.download('stopwords')\n",
    "nltk.download('wordnet')\n",
    "\n",
    "from nltk.tokenize import word_tokenize\n",
    "from nltk.corpus import stopwords\n",
    "from nltk.stem import WordNetLemmatizer\n",
    "from nltk.tokenize import sent_tokenize\n",
    "from string import punctuation\n",
    "\n",
    "def preprocess(text):\n",
    "    sentences = sent_tokenize(text)\n",
    "    # Lower case\n",
    "    sentences = [sentence.lower() for sentence in sentences]\n",
    "    # Remove punctuation\n",
    "    sentences = [''.join(c for c in sentence if c not in punctuation) for sentence in sentences]\n",
    "    # Tokenize words\n",
    "    sentences = [word_tokenize(sentence) for sentence in sentences]\n",
    "    # Remove stopwords\n",
    "    stop_words = stopwords.words('english')\n",
    "    sentences = [[word for word in sentence if word not in stop_words] for sentence in sentences]\n",
    "    # Lemmatize\n",
    "    lemmatizer = WordNetLemmatizer()\n",
    "    sentences = [[lemmatizer.lemmatize(word) for word in sentence] for sentence in sentences]\n",
    "    return sentences\n",
    "\n",
    "    \n",
    "\n"
   ]
  },
  {
   "cell_type": "code",
   "execution_count": 124,
   "metadata": {},
   "outputs": [
    {
     "name": "stdout",
     "output_type": "stream",
     "text": [
      "42656\n",
      "0 / 42656\n",
      "1000 / 42656\n",
      "2000 / 42656\n",
      "3000 / 42656\n",
      "4000 / 42656\n",
      "5000 / 42656\n",
      "6000 / 42656\n",
      "7000 / 42656\n",
      "8000 / 42656\n",
      "9000 / 42656\n",
      "10000 / 42656\n",
      "11000 / 42656\n",
      "12000 / 42656\n",
      "13000 / 42656\n",
      "14000 / 42656\n",
      "15000 / 42656\n",
      "16000 / 42656\n",
      "17000 / 42656\n",
      "18000 / 42656\n",
      "19000 / 42656\n",
      "20000 / 42656\n",
      "21000 / 42656\n",
      "22000 / 42656\n",
      "23000 / 42656\n",
      "24000 / 42656\n",
      "25000 / 42656\n",
      "26000 / 42656\n",
      "27000 / 42656\n",
      "28000 / 42656\n",
      "29000 / 42656\n",
      "30000 / 42656\n",
      "31000 / 42656\n",
      "32000 / 42656\n",
      "33000 / 42656\n",
      "34000 / 42656\n",
      "35000 / 42656\n",
      "36000 / 42656\n",
      "37000 / 42656\n",
      "38000 / 42656\n",
      "39000 / 42656\n",
      "40000 / 42656\n",
      "41000 / 42656\n",
      "42000 / 42656\n"
     ]
    }
   ],
   "source": [
    "pd.set_option('mode.chained_assignment', None)\n",
    "dataframe['Review_Text_Preprocess'] = ''\n",
    "print(len(dataframe['Review_Text']))\n",
    "for i, review in enumerate(dataframe['Review_Text']):\n",
    "    if i % 1000 == 0:\n",
    "        print(f\"{i} / {len(dataframe['Review_Text'])}\")\n",
    "    preprocessed_review = preprocess(review)\n",
    "    dataframe['Review_Text_Preprocess'].iloc[i] = preprocessed_review"
   ]
  },
  {
   "cell_type": "code",
   "execution_count": 125,
   "metadata": {},
   "outputs": [
    {
     "data": {
      "text/html": [
       "<div>\n",
       "<style scoped>\n",
       "    .dataframe tbody tr th:only-of-type {\n",
       "        vertical-align: middle;\n",
       "    }\n",
       "\n",
       "    .dataframe tbody tr th {\n",
       "        vertical-align: top;\n",
       "    }\n",
       "\n",
       "    .dataframe thead th {\n",
       "        text-align: right;\n",
       "    }\n",
       "</style>\n",
       "<table border=\"1\" class=\"dataframe\">\n",
       "  <thead>\n",
       "    <tr style=\"text-align: right;\">\n",
       "      <th></th>\n",
       "      <th>Review_ID</th>\n",
       "      <th>Rating</th>\n",
       "      <th>Year_Month</th>\n",
       "      <th>Reviewer_Location</th>\n",
       "      <th>Review_Text</th>\n",
       "      <th>Branch</th>\n",
       "      <th>Review_Text_Preprocess</th>\n",
       "    </tr>\n",
       "  </thead>\n",
       "  <tbody>\n",
       "    <tr>\n",
       "      <th>0</th>\n",
       "      <td>670772142</td>\n",
       "      <td>4</td>\n",
       "      <td>2019-4</td>\n",
       "      <td>Australia</td>\n",
       "      <td>If you've ever been to Disneyland anywhere you...</td>\n",
       "      <td>Disneyland_HongKong</td>\n",
       "      <td>[[youve, ever, disneyland, anywhere, youll, fi...</td>\n",
       "    </tr>\n",
       "    <tr>\n",
       "      <th>1</th>\n",
       "      <td>670682799</td>\n",
       "      <td>4</td>\n",
       "      <td>2019-5</td>\n",
       "      <td>Philippines</td>\n",
       "      <td>Its been a while since d last time we visit HK...</td>\n",
       "      <td>Disneyland_HongKong</td>\n",
       "      <td>[[since, last, time, visit, hk, disneyland], [...</td>\n",
       "    </tr>\n",
       "    <tr>\n",
       "      <th>2</th>\n",
       "      <td>670623270</td>\n",
       "      <td>4</td>\n",
       "      <td>2019-4</td>\n",
       "      <td>United Arab Emirates</td>\n",
       "      <td>Thanks God it wasn   t too hot or too humid wh...</td>\n",
       "      <td>Disneyland_HongKong</td>\n",
       "      <td>[[thanks, god, hot, humid, visiting, park, oth...</td>\n",
       "    </tr>\n",
       "    <tr>\n",
       "      <th>3</th>\n",
       "      <td>670607911</td>\n",
       "      <td>4</td>\n",
       "      <td>2019-4</td>\n",
       "      <td>Australia</td>\n",
       "      <td>HK Disneyland is a great compact park. Unfortu...</td>\n",
       "      <td>Disneyland_HongKong</td>\n",
       "      <td>[[hk, disneyland, great, compact, park], [unfo...</td>\n",
       "    </tr>\n",
       "    <tr>\n",
       "      <th>4</th>\n",
       "      <td>670607296</td>\n",
       "      <td>4</td>\n",
       "      <td>2019-4</td>\n",
       "      <td>United Kingdom</td>\n",
       "      <td>the location is not in the city, took around 1...</td>\n",
       "      <td>Disneyland_HongKong</td>\n",
       "      <td>[[location, city, took, around, 1, hour, kowlo...</td>\n",
       "    </tr>\n",
       "  </tbody>\n",
       "</table>\n",
       "</div>"
      ],
      "text/plain": [
       "   Review_ID  Rating Year_Month     Reviewer_Location  \\\n",
       "0  670772142       4     2019-4             Australia   \n",
       "1  670682799       4     2019-5           Philippines   \n",
       "2  670623270       4     2019-4  United Arab Emirates   \n",
       "3  670607911       4     2019-4             Australia   \n",
       "4  670607296       4     2019-4        United Kingdom   \n",
       "\n",
       "                                         Review_Text               Branch  \\\n",
       "0  If you've ever been to Disneyland anywhere you...  Disneyland_HongKong   \n",
       "1  Its been a while since d last time we visit HK...  Disneyland_HongKong   \n",
       "2  Thanks God it wasn   t too hot or too humid wh...  Disneyland_HongKong   \n",
       "3  HK Disneyland is a great compact park. Unfortu...  Disneyland_HongKong   \n",
       "4  the location is not in the city, took around 1...  Disneyland_HongKong   \n",
       "\n",
       "                              Review_Text_Preprocess  \n",
       "0  [[youve, ever, disneyland, anywhere, youll, fi...  \n",
       "1  [[since, last, time, visit, hk, disneyland], [...  \n",
       "2  [[thanks, god, hot, humid, visiting, park, oth...  \n",
       "3  [[hk, disneyland, great, compact, park], [unfo...  \n",
       "4  [[location, city, took, around, 1, hour, kowlo...  "
      ]
     },
     "execution_count": 125,
     "metadata": {},
     "output_type": "execute_result"
    }
   ],
   "source": [
    "dataframe.head()"
   ]
  },
  {
   "cell_type": "code",
   "execution_count": 132,
   "metadata": {},
   "outputs": [
    {
     "name": "stdout",
     "output_type": "stream",
     "text": [
      "0 / 42656\n",
      "1000 / 42656\n",
      "2000 / 42656\n",
      "3000 / 42656\n",
      "4000 / 42656\n",
      "5000 / 42656\n",
      "6000 / 42656\n",
      "7000 / 42656\n",
      "8000 / 42656\n",
      "9000 / 42656\n",
      "10000 / 42656\n",
      "11000 / 42656\n",
      "12000 / 42656\n",
      "13000 / 42656\n",
      "14000 / 42656\n",
      "15000 / 42656\n",
      "16000 / 42656\n",
      "17000 / 42656\n",
      "18000 / 42656\n",
      "19000 / 42656\n",
      "20000 / 42656\n",
      "21000 / 42656\n",
      "22000 / 42656\n",
      "23000 / 42656\n",
      "24000 / 42656\n",
      "25000 / 42656\n",
      "26000 / 42656\n",
      "27000 / 42656\n",
      "28000 / 42656\n",
      "29000 / 42656\n",
      "30000 / 42656\n",
      "31000 / 42656\n",
      "32000 / 42656\n",
      "33000 / 42656\n",
      "34000 / 42656\n",
      "35000 / 42656\n",
      "36000 / 42656\n",
      "37000 / 42656\n",
      "38000 / 42656\n",
      "39000 / 42656\n",
      "40000 / 42656\n",
      "41000 / 42656\n",
      "42000 / 42656\n"
     ]
    }
   ],
   "source": [
    "# Join all Review_Text_Preprocess into one list into column Review_Text_Preprocess_Joined\n",
    "dataframe['Review_Text_Preprocess_Joined'] = ''\n",
    "for i, review in enumerate(dataframe['Review_Text_Preprocess']):\n",
    "    if i % 1000 == 0:\n",
    "        print(f\"{i} / {len(dataframe['Review_Text_Preprocess'])}\")\n",
    "    dataframe['Review_Text_Preprocess_Joined'].iloc[i] = [word for sentence in review for word in sentence]"
   ]
  },
  {
   "attachments": {},
   "cell_type": "markdown",
   "metadata": {},
   "source": [
    "Для построения модели используется конструктор с большим количеством параметров:\n",
    "gensim.models.word2vec.Word2Vec(\n",
    "    sentences=None, \n",
    "    corpus_file=None, \n",
    "    vector_size=100, \n",
    "    alpha=0.025, \n",
    "    window=5, \n",
    "    min_count=5, \n",
    "    max_vocab_size=None, \n",
    "    sample=0.001, \n",
    "    seed=1, \n",
    "    workers=3, \n",
    "    min_alpha=0.0001, \n",
    "    sg=0, \n",
    "    hs=0, \n",
    "    negative=5, \n",
    "    ns_exponent=0.75, \n",
    "    cbow_mean=1, \n",
    "    hashfxn=<built-infunctionhash>, \n",
    "    epochs=5, \n",
    "    null_word=0, \n",
    "    trim_rule=None, \n",
    "    sorted_vocab=1, \n",
    "    batch_words=10000, \n",
    "    compute_loss=False, \n",
    "    callbacks=(), \n",
    "    comment=None, \n",
    "    max_final_vocab=None, \n",
    "    shrink_windows=True\n",
    ")\n",
    "\n",
    "Например:\n",
    "word2vec = Word2Vec(all_words, min_count = 2, vector_size=20, sg=0)"
   ]
  },
  {
   "attachments": {},
   "cell_type": "markdown",
   "metadata": {},
   "source": [
    "Предложения передаются в параметр sentences. Размер вектора можно указать с помощью vector_size, min_count – обозначает, какие слова попадут в словарь (например, встречающиеся минимум 2 раза. Параметр sg обозначает выбор модели.\n",
    "\n",
    "Вывести список похожих слов можно с помощью команды:\n",
    "word2vec.wv.most_similar('word')"
   ]
  },
  {
   "cell_type": "code",
   "execution_count": 160,
   "metadata": {},
   "outputs": [],
   "source": [
    "from gensim.models import Word2Vec\n",
    "\n",
    "model = Word2Vec(dataframe['Review_Text_Preprocess_Joined'], min_count=5, vector_size=100, sg=0, window=5, workers=6, seed=42, epochs=25, batch_words=10000, compute_loss=True, hs=0, negative=10)"
   ]
  },
  {
   "cell_type": "code",
   "execution_count": 166,
   "metadata": {},
   "outputs": [
    {
     "name": "stdout",
     "output_type": "stream",
     "text": [
      "find\n"
     ]
    },
    {
     "data": {
      "text/plain": [
       "[('locate', 0.6161383390426636),\n",
       " ('found', 0.5993202328681946),\n",
       " ('finding', 0.5772181153297424),\n",
       " ('navigate', 0.5159398317337036),\n",
       " ('figure', 0.498564213514328),\n",
       " ('notice', 0.4847654700279236),\n",
       " ('maneuver', 0.4822237193584442),\n",
       " ('get', 0.47600218653678894),\n",
       " ('negotiate', 0.45245227217674255),\n",
       " ('pressed', 0.45240479707717896)]"
      ]
     },
     "execution_count": 166,
     "metadata": {},
     "output_type": "execute_result"
    }
   ],
   "source": [
    "print(dataframe['Review_Text_Preprocess_Joined'].iloc[0][5])\n",
    "model.wv.most_similar(dataframe['Review_Text_Preprocess_Joined'].iloc[0][5])"
   ]
  },
  {
   "cell_type": "code",
   "execution_count": 168,
   "metadata": {},
   "outputs": [],
   "source": [
    "# Save csv and model\n",
    "dataframe.to_csv('./DisneylandReviewsPreprocessed.csv')\n",
    "model.save('./DisneylandReviewsWord2Vec.model')"
   ]
  },
  {
   "attachments": {},
   "cell_type": "markdown",
   "metadata": {},
   "source": [
    "4 Использовать визуализацию для представления результатов. Необходимо для нескольких слов (выбрать самим) найти наиболее контекстно близкие и отобразить их. Для этого можно использовать метод уменьшения размерности t-SNE."
   ]
  },
  {
   "cell_type": "code",
   "execution_count": 1,
   "metadata": {},
   "outputs": [],
   "source": [
    "# Load model and csv\n",
    "from gensim.models import Word2Vec\n",
    "\n",
    "import pandas as pd\n",
    "\n",
    "model = Word2Vec.load('./DisneylandReviewsWord2Vec.model')\n",
    "data = pd.read_csv('./DisneylandReviewsPreprocessed.csv')"
   ]
  },
  {
   "cell_type": "code",
   "execution_count": 23,
   "metadata": {},
   "outputs": [],
   "source": [
    "words = [\"find\",\"fun\",\"anywhere\"]"
   ]
  },
  {
   "cell_type": "code",
   "execution_count": 29,
   "metadata": {},
   "outputs": [
    {
     "name": "stdout",
     "output_type": "stream",
     "text": [
      "Most similar words to find:\n",
      "('locate', 0.6161383390426636)\n",
      "('found', 0.5993202328681946)\n",
      "('finding', 0.5772181153297424)\n",
      "('navigate', 0.5159398317337036)\n",
      "('figure', 0.498564213514328)\n",
      "('notice', 0.4847654700279236)\n",
      "('maneuver', 0.4822237193584442)\n",
      "('get', 0.47600218653678894)\n",
      "('negotiate', 0.45245227217674255)\n",
      "('pressed', 0.45240479707717896)\n",
      "\n",
      "Most similar words to fun:\n",
      "('enjoyable', 0.6294865608215332)\n",
      "('exciting', 0.6286556720733643)\n",
      "('enjoy', 0.6129305958747864)\n",
      "('great', 0.5933736562728882)\n",
      "('love', 0.5819599628448486)\n",
      "('enjoyed', 0.5752015113830566)\n",
      "('awesome', 0.5579339265823364)\n",
      "('enjoys', 0.5484433174133301)\n",
      "('loved', 0.5320765376091003)\n",
      "('wonderful', 0.5300375819206238)\n",
      "\n",
      "Most similar words to anywhere:\n",
      "('somewhere', 0.6765646934509277)\n",
      "('anything', 0.635578989982605)\n",
      "('nowhere', 0.566463053226471)\n",
      "('anyplace', 0.491852730512619)\n",
      "('everywhere', 0.46310943365097046)\n",
      "('someplace', 0.43023309111595154)\n",
      "('someone', 0.4250892698764801)\n",
      "('something', 0.3966165781021118)\n",
      "('nothing', 0.39199915528297424)\n",
      "('wherever', 0.3825058341026306)\n",
      "\n"
     ]
    }
   ],
   "source": [
    "# Print most similar words to words\n",
    "for word in words:\n",
    "    print(f\"Most similar words to {word}:\")\n",
    "    for similar_word in model.wv.most_similar(word, topn=10):\n",
    "        print(similar_word)\n",
    "    print()"
   ]
  },
  {
   "cell_type": "code",
   "execution_count": 41,
   "metadata": {},
   "outputs": [
    {
     "data": {
      "image/png": "[encoded data removed]",
      "text/plain": [
       "<Figure size 1000x1000 with 1 Axes>"
      ]
     },
     "metadata": {},
     "output_type": "display_data"
    }
   ],
   "source": [
    "# Visualize the words with the most similar words to them (top 10)\n",
    "import matplotlib.pyplot as plt\n",
    "\n",
    "from sklearn.decomposition import PCA\n",
    "\n",
    "similar_words = []\n",
    "for word in words:\n",
    "    for similar_word in model.wv.most_similar(word, topn=10):\n",
    "        similar_words.append(similar_word[0])\n",
    "    similar_words.append(word)\n",
    "\n",
    "def visualize(words):\n",
    "    # Visualize the words with the most similar words to them (top 10)\n",
    "    X = model.wv[words]\n",
    "    pca = PCA(n_components=2)\n",
    "    result = pca.fit_transform(X)\n",
    "    plt.figure(figsize=(10,10))\n",
    "    plt.scatter(result[:, 0], result[:, 1])\n",
    "    for i, word in enumerate(words):\n",
    "        plt.annotate(word, xy=(result[i, 0], result[i, 1]))\n",
    "    plt.show()\n",
    "\n",
    "\n",
    "visualize(similar_words)"
   ]
  },
  {
   "cell_type": "code",
   "execution_count": null,
   "metadata": {},
   "outputs": [],
   "source": []
  }
 ],
 "metadata": {
  "kernelspec": {
   "display_name": "Python 3 (ipykernel)",
   "language": "python",
   "name": "python3"
  },
  "language_info": {
   "codemirror_mode": {
    "name": "ipython",
    "version": 3
   },
   "file_extension": ".py",
   "mimetype": "text/x-python",
   "name": "python",
   "nbconvert_exporter": "python",
   "pygments_lexer": "ipython3",
   "version": "3.10.8"
  }
 },
 "nbformat": 4,
 "nbformat_minor": 2
}

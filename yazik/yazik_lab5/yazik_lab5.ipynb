{
 "cells": [
  {
   "cell_type": "markdown",
   "metadata": {},
   "source": [
    "В качестве исходного набора взять любой набор текстов на выбор.\n",
    "https://www.kaggle.com/datasets/joebeachcapital/restaurant-reviews\n",
    "https://www.kaggle.com/datasets/nicapotato/womens-ecommerce-clothing-reviews\n",
    "https://www.kaggle.com/datasets/andrewmvd/trip-advisor-hotel-reviews\n",
    "https://www.kaggle.com/datasets/arushchillar/disneyland-reviews\n",
    "Все эти наборы содержат отзывы (на разные тематики), поэтому целевой текст необходимо искать в соответствующем столбце.\n",
    "Их необходимо предобработать (убрать лишнее, привести к нижнему регистру, лемматизировать и тд).\n",
    "Все тексты необходимо преобразовать в список предложений, состоящих из слов."
   ]
  },
  {
   "cell_type": "markdown",
   "metadata": {},
   "source": [
    "Выбранный датасет - https://www.kaggle.com/datasets/arushchillar/disneyland-reviews"
   ]
  },
  {
   "cell_type": "code",
   "execution_count": 88,
   "metadata": {},
   "outputs": [
    {
     "data": {
      "text/html": [
       "<div>\n",
       "<style scoped>\n",
       "    .dataframe tbody tr th:only-of-type {\n",
       "        vertical-align: middle;\n",
       "    }\n",
       "\n",
       "    .dataframe tbody tr th {\n",
       "        vertical-align: top;\n",
       "    }\n",
       "\n",
       "    .dataframe thead th {\n",
       "        text-align: right;\n",
       "    }\n",
       "</style>\n",
       "<table border=\"1\" class=\"dataframe\">\n",
       "  <thead>\n",
       "    <tr style=\"text-align: right;\">\n",
       "      <th></th>\n",
       "      <th>Review_ID</th>\n",
       "      <th>Rating</th>\n",
       "      <th>Year_Month</th>\n",
       "      <th>Reviewer_Location</th>\n",
       "      <th>Review_Text</th>\n",
       "      <th>Branch</th>\n",
       "    </tr>\n",
       "  </thead>\n",
       "  <tbody>\n",
       "    <tr>\n",
       "      <th>0</th>\n",
       "      <td>670772142</td>\n",
       "      <td>4</td>\n",
       "      <td>2019-4</td>\n",
       "      <td>Australia</td>\n",
       "      <td>If you've ever been to Disneyland anywhere you...</td>\n",
       "      <td>Disneyland_HongKong</td>\n",
       "    </tr>\n",
       "    <tr>\n",
       "      <th>1</th>\n",
       "      <td>670682799</td>\n",
       "      <td>4</td>\n",
       "      <td>2019-5</td>\n",
       "      <td>Philippines</td>\n",
       "      <td>Its been a while since d last time we visit HK...</td>\n",
       "      <td>Disneyland_HongKong</td>\n",
       "    </tr>\n",
       "    <tr>\n",
       "      <th>2</th>\n",
       "      <td>670623270</td>\n",
       "      <td>4</td>\n",
       "      <td>2019-4</td>\n",
       "      <td>United Arab Emirates</td>\n",
       "      <td>Thanks God it wasn   t too hot or too humid wh...</td>\n",
       "      <td>Disneyland_HongKong</td>\n",
       "    </tr>\n",
       "    <tr>\n",
       "      <th>3</th>\n",
       "      <td>670607911</td>\n",
       "      <td>4</td>\n",
       "      <td>2019-4</td>\n",
       "      <td>Australia</td>\n",
       "      <td>HK Disneyland is a great compact park. Unfortu...</td>\n",
       "      <td>Disneyland_HongKong</td>\n",
       "    </tr>\n",
       "    <tr>\n",
       "      <th>4</th>\n",
       "      <td>670607296</td>\n",
       "      <td>4</td>\n",
       "      <td>2019-4</td>\n",
       "      <td>United Kingdom</td>\n",
       "      <td>the location is not in the city, took around 1...</td>\n",
       "      <td>Disneyland_HongKong</td>\n",
       "    </tr>\n",
       "  </tbody>\n",
       "</table>\n",
       "</div>"
      ],
      "text/plain": [
       "   Review_ID  Rating Year_Month     Reviewer_Location  \\\n",
       "0  670772142       4     2019-4             Australia   \n",
       "1  670682799       4     2019-5           Philippines   \n",
       "2  670623270       4     2019-4  United Arab Emirates   \n",
       "3  670607911       4     2019-4             Australia   \n",
       "4  670607296       4     2019-4        United Kingdom   \n",
       "\n",
       "                                         Review_Text               Branch  \n",
       "0  If you've ever been to Disneyland anywhere you...  Disneyland_HongKong  \n",
       "1  Its been a while since d last time we visit HK...  Disneyland_HongKong  \n",
       "2  Thanks God it wasn   t too hot or too humid wh...  Disneyland_HongKong  \n",
       "3  HK Disneyland is a great compact park. Unfortu...  Disneyland_HongKong  \n",
       "4  the location is not in the city, took around 1...  Disneyland_HongKong  "
      ]
     },
     "execution_count": 88,
     "metadata": {},
     "output_type": "execute_result"
    }
   ],
   "source": [
    "import pandas as pd\n",
    "\n",
    "dataframe = pd.read_csv('./DisneylandReviews.csv', encoding='latin-1')\n",
    "dataframe.head()"
   ]
  },
  {
   "attachments": {},
   "cell_type": "markdown",
   "metadata": {},
   "source": [
    "Все эти наборы содержат отзывы (на разные тематики), поэтому целевой текст необходимо искать в соответствующем столбце.\n",
    "Их необходимо предобработать (убрать лишнее, привести к нижнему регистру, лемматизировать и тд).\n",
    "Все тексты необходимо преобразовать в список предложений, состоящих из слов."
   ]
  },
  {
   "cell_type": "code",
   "execution_count": 122,
   "metadata": {},
   "outputs": [
    {
     "name": "stderr",
     "output_type": "stream",
     "text": [
      "[nltk_data] Downloading package stopwords to\n",
      "[nltk_data]     /home/codespace/nltk_data...\n",
      "[nltk_data]   Package stopwords is already up-to-date!\n",
      "[nltk_data] Downloading package wordnet to\n",
      "[nltk_data]     /home/codespace/nltk_data...\n",
      "[nltk_data]   Package wordnet is already up-to-date!\n"
     ]
    }
   ],
   "source": [
    "import nltk\n",
    "nltk.download('stopwords')\n",
    "nltk.download('wordnet')\n",
    "\n",
    "from nltk.tokenize import word_tokenize\n",
    "from nltk.corpus import stopwords\n",
    "from nltk.stem import WordNetLemmatizer\n",
    "from nltk.tokenize import sent_tokenize\n",
    "from string import punctuation\n",
    "\n",
    "def preprocess(text):\n",
    "    sentences = sent_tokenize(text)\n",
    "    # Lower case\n",
    "    sentences = [sentence.lower() for sentence in sentences]\n",
    "    # Remove punctuation\n",
    "    sentences = [''.join(c for c in sentence if c not in punctuation) for sentence in sentences]\n",
    "    # Tokenize words\n",
    "    sentences = [word_tokenize(sentence) for sentence in sentences]\n",
    "    # Remove stopwords\n",
    "    stop_words = stopwords.words('english')\n",
    "    sentences = [[word for word in sentence if word not in stop_words] for sentence in sentences]\n",
    "    # Lemmatize\n",
    "    lemmatizer = WordNetLemmatizer()\n",
    "    sentences = [[lemmatizer.lemmatize(word) for word in sentence] for sentence in sentences]\n",
    "    return sentences\n",
    "\n",
    "    \n",
    "\n"
   ]
  },
  {
   "cell_type": "code",
   "execution_count": 124,
   "metadata": {},
   "outputs": [
    {
     "name": "stdout",
     "output_type": "stream",
     "text": [
      "42656\n",
      "0 / 42656\n",
      "1000 / 42656\n",
      "2000 / 42656\n",
      "3000 / 42656\n",
      "4000 / 42656\n",
      "5000 / 42656\n",
      "6000 / 42656\n",
      "7000 / 42656\n",
      "8000 / 42656\n",
      "9000 / 42656\n",
      "10000 / 42656\n",
      "11000 / 42656\n",
      "12000 / 42656\n",
      "13000 / 42656\n",
      "14000 / 42656\n",
      "15000 / 42656\n",
      "16000 / 42656\n",
      "17000 / 42656\n",
      "18000 / 42656\n",
      "19000 / 42656\n",
      "20000 / 42656\n",
      "21000 / 42656\n",
      "22000 / 42656\n",
      "23000 / 42656\n",
      "24000 / 42656\n",
      "25000 / 42656\n",
      "26000 / 42656\n",
      "27000 / 42656\n",
      "28000 / 42656\n",
      "29000 / 42656\n",
      "30000 / 42656\n",
      "31000 / 42656\n",
      "32000 / 42656\n",
      "33000 / 42656\n",
      "34000 / 42656\n",
      "35000 / 42656\n",
      "36000 / 42656\n",
      "37000 / 42656\n",
      "38000 / 42656\n",
      "39000 / 42656\n",
      "40000 / 42656\n",
      "41000 / 42656\n",
      "42000 / 42656\n"
     ]
    }
   ],
   "source": [
    "pd.set_option('mode.chained_assignment', None)\n",
    "dataframe['Review_Text_Preprocess'] = ''\n",
    "print(len(dataframe['Review_Text']))\n",
    "for i, review in enumerate(dataframe['Review_Text']):\n",
    "    if i % 1000 == 0:\n",
    "        print(f\"{i} / {len(dataframe['Review_Text'])}\")\n",
    "    preprocessed_review = preprocess(review)\n",
    "    dataframe['Review_Text_Preprocess'].iloc[i] = preprocessed_review"
   ]
  },
  {
   "cell_type": "code",
   "execution_count": 125,
   "metadata": {},
   "outputs": [
    {
     "data": {
      "text/html": [
       "<div>\n",
       "<style scoped>\n",
       "    .dataframe tbody tr th:only-of-type {\n",
       "        vertical-align: middle;\n",
       "    }\n",
       "\n",
       "    .dataframe tbody tr th {\n",
       "        vertical-align: top;\n",
       "    }\n",
       "\n",
       "    .dataframe thead th {\n",
       "        text-align: right;\n",
       "    }\n",
       "</style>\n",
       "<table border=\"1\" class=\"dataframe\">\n",
       "  <thead>\n",
       "    <tr style=\"text-align: right;\">\n",
       "      <th></th>\n",
       "      <th>Review_ID</th>\n",
       "      <th>Rating</th>\n",
       "      <th>Year_Month</th>\n",
       "      <th>Reviewer_Location</th>\n",
       "      <th>Review_Text</th>\n",
       "      <th>Branch</th>\n",
       "      <th>Review_Text_Preprocess</th>\n",
       "    </tr>\n",
       "  </thead>\n",
       "  <tbody>\n",
       "    <tr>\n",
       "      <th>0</th>\n",
       "      <td>670772142</td>\n",
       "      <td>4</td>\n",
       "      <td>2019-4</td>\n",
       "      <td>Australia</td>\n",
       "      <td>If you've ever been to Disneyland anywhere you...</td>\n",
       "      <td>Disneyland_HongKong</td>\n",
       "      <td>[[youve, ever, disneyland, anywhere, youll, fi...</td>\n",
       "    </tr>\n",
       "    <tr>\n",
       "      <th>1</th>\n",
       "      <td>670682799</td>\n",
       "      <td>4</td>\n",
       "      <td>2019-5</td>\n",
       "      <td>Philippines</td>\n",
       "      <td>Its been a while since d last time we visit HK...</td>\n",
       "      <td>Disneyland_HongKong</td>\n",
       "      <td>[[since, last, time, visit, hk, disneyland], [...</td>\n",
       "    </tr>\n",
       "    <tr>\n",
       "      <th>2</th>\n",
       "      <td>670623270</td>\n",
       "      <td>4</td>\n",
       "      <td>2019-4</td>\n",
       "      <td>United Arab Emirates</td>\n",
       "      <td>Thanks God it wasn   t too hot or too humid wh...</td>\n",
       "      <td>Disneyland_HongKong</td>\n",
       "      <td>[[thanks, god, hot, humid, visiting, park, oth...</td>\n",
       "    </tr>\n",
       "    <tr>\n",
       "      <th>3</th>\n",
       "      <td>670607911</td>\n",
       "      <td>4</td>\n",
       "      <td>2019-4</td>\n",
       "      <td>Australia</td>\n",
       "      <td>HK Disneyland is a great compact park. Unfortu...</td>\n",
       "      <td>Disneyland_HongKong</td>\n",
       "      <td>[[hk, disneyland, great, compact, park], [unfo...</td>\n",
       "    </tr>\n",
       "    <tr>\n",
       "      <th>4</th>\n",
       "      <td>670607296</td>\n",
       "      <td>4</td>\n",
       "      <td>2019-4</td>\n",
       "      <td>United Kingdom</td>\n",
       "      <td>the location is not in the city, took around 1...</td>\n",
       "      <td>Disneyland_HongKong</td>\n",
       "      <td>[[location, city, took, around, 1, hour, kowlo...</td>\n",
       "    </tr>\n",
       "  </tbody>\n",
       "</table>\n",
       "</div>"
      ],
      "text/plain": [
       "   Review_ID  Rating Year_Month     Reviewer_Location  \\\n",
       "0  670772142       4     2019-4             Australia   \n",
       "1  670682799       4     2019-5           Philippines   \n",
       "2  670623270       4     2019-4  United Arab Emirates   \n",
       "3  670607911       4     2019-4             Australia   \n",
       "4  670607296       4     2019-4        United Kingdom   \n",
       "\n",
       "                                         Review_Text               Branch  \\\n",
       "0  If you've ever been to Disneyland anywhere you...  Disneyland_HongKong   \n",
       "1  Its been a while since d last time we visit HK...  Disneyland_HongKong   \n",
       "2  Thanks God it wasn   t too hot or too humid wh...  Disneyland_HongKong   \n",
       "3  HK Disneyland is a great compact park. Unfortu...  Disneyland_HongKong   \n",
       "4  the location is not in the city, took around 1...  Disneyland_HongKong   \n",
       "\n",
       "                              Review_Text_Preprocess  \n",
       "0  [[youve, ever, disneyland, anywhere, youll, fi...  \n",
       "1  [[since, last, time, visit, hk, disneyland], [...  \n",
       "2  [[thanks, god, hot, humid, visiting, park, oth...  \n",
       "3  [[hk, disneyland, great, compact, park], [unfo...  \n",
       "4  [[location, city, took, around, 1, hour, kowlo...  "
      ]
     },
     "execution_count": 125,
     "metadata": {},
     "output_type": "execute_result"
    }
   ],
   "source": [
    "dataframe.head()"
   ]
  },
  {
   "cell_type": "code",
   "execution_count": 132,
   "metadata": {},
   "outputs": [
    {
     "name": "stdout",
     "output_type": "stream",
     "text": [
      "0 / 42656\n",
      "1000 / 42656\n",
      "2000 / 42656\n",
      "3000 / 42656\n",
      "4000 / 42656\n",
      "5000 / 42656\n",
      "6000 / 42656\n",
      "7000 / 42656\n",
      "8000 / 42656\n",
      "9000 / 42656\n",
      "10000 / 42656\n",
      "11000 / 42656\n",
      "12000 / 42656\n",
      "13000 / 42656\n",
      "14000 / 42656\n",
      "15000 / 42656\n",
      "16000 / 42656\n",
      "17000 / 42656\n",
      "18000 / 42656\n",
      "19000 / 42656\n",
      "20000 / 42656\n",
      "21000 / 42656\n",
      "22000 / 42656\n",
      "23000 / 42656\n",
      "24000 / 42656\n",
      "25000 / 42656\n",
      "26000 / 42656\n",
      "27000 / 42656\n",
      "28000 / 42656\n",
      "29000 / 42656\n",
      "30000 / 42656\n",
      "31000 / 42656\n",
      "32000 / 42656\n",
      "33000 / 42656\n",
      "34000 / 42656\n",
      "35000 / 42656\n",
      "36000 / 42656\n",
      "37000 / 42656\n",
      "38000 / 42656\n",
      "39000 / 42656\n",
      "40000 / 42656\n",
      "41000 / 42656\n",
      "42000 / 42656\n"
     ]
    }
   ],
   "source": [
    "# Join all Review_Text_Preprocess into one list into column Review_Text_Preprocess_Joined\n",
    "dataframe['Review_Text_Preprocess_Joined'] = ''\n",
    "for i, review in enumerate(dataframe['Review_Text_Preprocess']):\n",
    "    if i % 1000 == 0:\n",
    "        print(f\"{i} / {len(dataframe['Review_Text_Preprocess'])}\")\n",
    "    dataframe['Review_Text_Preprocess_Joined'].iloc[i] = [word for sentence in review for word in sentence]"
   ]
  },
  {
   "attachments": {},
   "cell_type": "markdown",
   "metadata": {},
   "source": [
    "Для построения модели используется конструктор с большим количеством параметров:\n",
    "gensim.models.word2vec.Word2Vec(\n",
    "    sentences=None, \n",
    "    corpus_file=None, \n",
    "    vector_size=100, \n",
    "    alpha=0.025, \n",
    "    window=5, \n",
    "    min_count=5, \n",
    "    max_vocab_size=None, \n",
    "    sample=0.001, \n",
    "    seed=1, \n",
    "    workers=3, \n",
    "    min_alpha=0.0001, \n",
    "    sg=0, \n",
    "    hs=0, \n",
    "    negative=5, \n",
    "    ns_exponent=0.75, \n",
    "    cbow_mean=1, \n",
    "    hashfxn=<built-infunctionhash>, \n",
    "    epochs=5, \n",
    "    null_word=0, \n",
    "    trim_rule=None, \n",
    "    sorted_vocab=1, \n",
    "    batch_words=10000, \n",
    "    compute_loss=False, \n",
    "    callbacks=(), \n",
    "    comment=None, \n",
    "    max_final_vocab=None, \n",
    "    shrink_windows=True\n",
    ")\n",
    "\n",
    "Например:\n",
    "word2vec = Word2Vec(all_words, min_count = 2, vector_size=20, sg=0)"
   ]
  },
  {
   "attachments": {},
   "cell_type": "markdown",
   "metadata": {},
   "source": [
    "Предложения передаются в параметр sentences. Размер вектора можно указать с помощью vector_size, min_count – обозначает, какие слова попадут в словарь (например, встречающиеся минимум 2 раза. Параметр sg обозначает выбор модели.\n",
    "\n",
    "Вывести список похожих слов можно с помощью команды:\n",
    "word2vec.wv.most_similar('word')"
   ]
  },
  {
   "cell_type": "code",
   "execution_count": 160,
   "metadata": {},
   "outputs": [],
   "source": [
    "from gensim.models import Word2Vec\n",
    "\n",
    "model = Word2Vec(dataframe['Review_Text_Preprocess_Joined'], min_count=5, vector_size=100, sg=0, window=5, workers=6, seed=42, epochs=25, batch_words=10000, compute_loss=True, hs=0, negative=10)"
   ]
  },
  {
   "cell_type": "code",
   "execution_count": 166,
   "metadata": {},
   "outputs": [
    {
     "name": "stdout",
     "output_type": "stream",
     "text": [
      "find\n"
     ]
    },
    {
     "data": {
      "text/plain": [
       "[('locate', 0.6161383390426636),\n",
       " ('found', 0.5993202328681946),\n",
       " ('finding', 0.5772181153297424),\n",
       " ('navigate', 0.5159398317337036),\n",
       " ('figure', 0.498564213514328),\n",
       " ('notice', 0.4847654700279236),\n",
       " ('maneuver', 0.4822237193584442),\n",
       " ('get', 0.47600218653678894),\n",
       " ('negotiate', 0.45245227217674255),\n",
       " ('pressed', 0.45240479707717896)]"
      ]
     },
     "execution_count": 166,
     "metadata": {},
     "output_type": "execute_result"
    }
   ],
   "source": [
    "print(dataframe['Review_Text_Preprocess_Joined'].iloc[0][5])\n",
    "model.wv.most_similar(dataframe['Review_Text_Preprocess_Joined'].iloc[0][5])"
   ]
  },
  {
   "cell_type": "code",
   "execution_count": 168,
   "metadata": {},
   "outputs": [],
   "source": [
    "# Save csv and model\n",
    "dataframe.to_csv('./DisneylandReviewsPreprocessed.csv')\n",
    "model.save('./DisneylandReviewsWord2Vec.model')"
   ]
  },
  {
   "attachments": {},
   "cell_type": "markdown",
   "metadata": {},
   "source": [
    "4 Использовать визуализацию для представления результатов. Необходимо для нескольких слов (выбрать самим) найти наиболее контекстно близкие и отобразить их. Для этого можно использовать метод уменьшения размерности t-SNE."
   ]
  },
  {
   "cell_type": "code",
   "execution_count": 2,
   "metadata": {},
   "outputs": [],
   "source": [
    "# Load model and csv\n",
    "from gensim.models import Word2Vec\n",
    "\n",
    "import pandas as pd\n",
    "\n",
    "model = Word2Vec.load('./DisneylandReviewsWord2Vec.model')\n",
    "data = pd.read_csv('./DisneylandReviewsPreprocessed.csv')"
   ]
  },
  {
   "cell_type": "code",
   "execution_count": 104,
   "metadata": {},
   "outputs": [],
   "source": [
    "words = [\"disneyland\",\"disneyworld\"]"
   ]
  },
  {
   "cell_type": "code",
   "execution_count": 116,
   "metadata": {},
   "outputs": [
    {
     "name": "stdout",
     "output_type": "stream",
     "text": [
      "Most similar words to \"disneyland\":\n",
      "('disney', 0.6831707954406738)\n",
      "('dl', 0.5861820578575134)\n",
      "('dland', 0.5246145129203796)\n",
      "('orlando', 0.5093595385551453)\n",
      "('eurodisney', 0.5038744211196899)\n",
      "('florida', 0.49019500613212585)\n",
      "('visit', 0.4870254397392273)\n",
      "('disneyworld', 0.47863802313804626)\n",
      "('visiting', 0.47363191843032837)\n",
      "('disneylandwe', 0.4546346962451935)\n",
      "\n",
      "Most similar words to \"disneyworld\":\n",
      "('wdw', 0.8057510852813721)\n",
      "('anaheim', 0.7298097610473633)\n",
      "('orlando', 0.6895924806594849)\n",
      "('paris', 0.6682209968566895)\n",
      "('dw', 0.6485902070999146)\n",
      "('florida', 0.6358815431594849)\n",
      "('tokyo', 0.6254555583000183)\n",
      "('japan', 0.6090959906578064)\n",
      "('eurodisney', 0.6060610413551331)\n",
      "('counterpart', 0.6015108227729797)\n",
      "\n"
     ]
    }
   ],
   "source": [
    "# Print most similar words to words\n",
    "def print_most_similar_words(words):\n",
    "    for word in words:\n",
    "        print(f'Most similar words to \"{word}\":')\n",
    "        for similar_word in model.wv.most_similar(word, topn=10):\n",
    "            print(similar_word)\n",
    "        print()\n",
    "\n",
    "print_most_similar_words(words)"
   ]
  },
  {
   "cell_type": "code",
   "execution_count": 174,
   "metadata": {},
   "outputs": [
    {
     "data": {
      "application/vnd.plotly.v1+json": {
       "config": {
        "plotlyServerURL": "https://plot.ly"
       },
       "data": [
        {
         "hovertemplate": "<b>%{hovertext}</b><br><br>colors=red<br>x=%{x}<br>y=%{y}<br>z=%{z}<extra></extra>",
         "hovertext": [
          "disney",
          "dl",
          "dland",
          "orlando",
          "eurodisney",
          "florida",
          "visit",
          "disneyworld",
          "visiting",
          "disneylandwe",
          "dinseyland",
          "park",
          "dlp",
          "original",
          "hkdl",
          "anaheim",
          "trip",
          "weve",
          "destination",
          "ive",
          "vacation",
          "comparing",
          "spoiled",
          "living",
          "compare"
         ],
         "legendgroup": "red",
         "marker": {
          "color": "red",
          "opacity": 0.5,
          "symbol": "circle"
         },
         "mode": "markers",
         "name": "disneyland",
         "scene": "scene",
         "showlegend": true,
         "type": "scatter3d",
         "x": [
          1.9345759590901743,
          1.5614676561149594,
          4.777226283850878,
          -8.735304443347099,
          3.240295379025081,
          -8.934869582270982,
          9.750346037099957,
          -4.417158170958929,
          8.136070931485504,
          5.613615101860149,
          5.35460364008268,
          3.814820660549326,
          4.517949618057541,
          -5.391201059179189,
          4.222649122138224,
          -1.2697802559777125,
          12.911506630695339,
          3.656076654324308,
          7.0628119318182625,
          3.288783870677644,
          11.122982556830385,
          -1.6006914449765588,
          2.7787556696834383,
          3.545764706219267,
          -3.914913298368773
         ],
         "y": [
          0.09396669284064128,
          0.43757784871848165,
          2.058030727689111,
          -6.27859589814871,
          -1.102371045913812,
          -9.057569546039232,
          -4.365815862188099,
          0.12595456792805454,
          -3.683483855489693,
          2.7580386658285603,
          3.2152094222629897,
          5.479064645694663,
          0.3698056165733523,
          0.492886219440279,
          3.1922206446988244,
          1.2223419011148327,
          -4.595824734424913,
          -6.212812530692906,
          0.4055717925362221,
          -6.356812185939159,
          -3.0029165252498897,
          0.2897069593805041,
          0.8820247730323784,
          0.9128042233339382,
          -2.2069885597799375
         ],
         "z": [
          -4.666302776361558,
          -4.81350231493696,
          -4.0647883109365885,
          -1.9197144392980077,
          -2.3247252578858895,
          -3.0408277131659744,
          5.855514038089965,
          2.6272498621650895,
          4.044253346952503,
          -3.7141801253074123,
          -3.6099521937366705,
          -1.8968593860745149,
          -3.1297764284846523,
          -0.20036464850050292,
          -3.2897919116168515,
          2.0880902520612414,
          5.575111881503879,
          -1.6397026223209217,
          -2.131509206748699,
          -0.9986319615741173,
          2.2866315426474615,
          3.3370719899028685,
          -3.23885571737624,
          -1.3707159823495276,
          9.278188741451928
         ]
        },
        {
         "hovertemplate": "<b>%{hovertext}</b><br><br>colors=green<br>x=%{x}<br>y=%{y}<br>z=%{z}<extra></extra>",
         "hovertext": [
          "wdw",
          "anaheim",
          "orlando",
          "paris",
          "dw",
          "florida",
          "tokyo",
          "japan",
          "eurodisney",
          "counterpart",
          "fl",
          "comparison",
          "comparing",
          "original",
          "version",
          "world",
          "usa",
          "hk",
          "compare",
          "la",
          "weve",
          "scaled",
          "compact",
          "pale",
          "scale"
         ],
         "legendgroup": "green",
         "marker": {
          "color": "green",
          "opacity": 0.5,
          "symbol": "circle"
         },
         "mode": "markers",
         "name": "disneyworld",
         "scene": "scene",
         "showlegend": true,
         "type": "scatter3d",
         "x": [
          -5.459341688306567,
          -1.2697802559777125,
          -8.735304443347099,
          0.9402024682394705,
          -1.695741322647642,
          -8.934869582270982,
          -6.147007610670706,
          -1.1490834750914116,
          3.2402953790250812,
          -3.952483841568751,
          -5.084546694958997,
          -3.515887297090085,
          -1.6006914449765575,
          -5.39120105917919,
          -5.486113190951191,
          -4.428918676961881,
          -2.2466558974782838,
          2.353056923351041,
          -3.9149132983687727,
          0.3750828913409776,
          3.6560766543243073,
          1.246378995801876,
          -2.312968170963847,
          0.6429045240345369,
          -4.154874039831488
         ],
         "y": [
          1.382461602005655,
          1.2223419011148322,
          -6.278595898148711,
          0.4213912889281705,
          3.727401007006221,
          -9.05756954603924,
          -0.46433119806732703,
          0.661679867718192,
          -1.1023710459138107,
          6.136499668290946,
          -1.6958517404976028,
          2.256145143652346,
          0.2897069593805042,
          0.49288621944027894,
          4.697039173568976,
          9.31139219397702,
          0.6754930644694541,
          1.7108801831512501,
          -2.206988559779938,
          2.2618571833457333,
          -6.212812530692909,
          4.432775818440241,
          5.003771197693976,
          1.386119441787302,
          5.876664647961954
         ],
         "z": [
          -1.1095133967754918,
          2.08809025206124,
          -1.91971443929801,
          4.814657849145957,
          -1.79742854351929,
          -3.0408277131659727,
          0.2008561728542464,
          -0.294563215259915,
          -2.32472525788589,
          0.11686429432608449,
          -2.935750366183633,
          4.965128551668291,
          3.3370719899028676,
          -0.20036464850050434,
          0.006545702555834759,
          6.5562222112560615,
          -2.7420819889424446,
          3.5755727631508685,
          9.278188741451926,
          1.415540969959464,
          -1.6397026223209221,
          -3.212844855715191,
          0.7607020158336615,
          -3.561559886527746,
          -1.3782752381713401
         ]
        }
       ],
       "layout": {
        "height": 1000,
        "legend": {
         "title": {
          "text": "colors"
         },
         "tracegroupgap": 0
        },
        "scene": {
         "domain": {
          "x": [
           0,
           1
          ],
          "y": [
           0,
           1
          ]
         },
         "xaxis": {
          "title": {
           "text": "x"
          }
         },
         "yaxis": {
          "title": {
           "text": "y"
          }
         },
         "zaxis": {
          "title": {
           "text": "z"
          }
         }
        },
        "template": {
         "data": {
          "bar": [
           {
            "error_x": {
             "color": "#f2f5fa"
            },
            "error_y": {
             "color": "#f2f5fa"
            },
            "marker": {
             "line": {
              "color": "rgb(17,17,17)",
              "width": 0.5
             },
             "pattern": {
              "fillmode": "overlay",
              "size": 10,
              "solidity": 0.2
             }
            },
            "type": "bar"
           }
          ],
          "barpolar": [
           {
            "marker": {
             "line": {
              "color": "rgb(17,17,17)",
              "width": 0.5
             },
             "pattern": {
              "fillmode": "overlay",
              "size": 10,
              "solidity": 0.2
             }
            },
            "type": "barpolar"
           }
          ],
          "carpet": [
           {
            "aaxis": {
             "endlinecolor": "#A2B1C6",
             "gridcolor": "#506784",
             "linecolor": "#506784",
             "minorgridcolor": "#506784",
             "startlinecolor": "#A2B1C6"
            },
            "baxis": {
             "endlinecolor": "#A2B1C6",
             "gridcolor": "#506784",
             "linecolor": "#506784",
             "minorgridcolor": "#506784",
             "startlinecolor": "#A2B1C6"
            },
            "type": "carpet"
           }
          ],
          "choropleth": [
           {
            "colorbar": {
             "outlinewidth": 0,
             "ticks": ""
            },
            "type": "choropleth"
           }
          ],
          "contour": [
           {
            "colorbar": {
             "outlinewidth": 0,
             "ticks": ""
            },
            "colorscale": [
             [
              0,
              "#0d0887"
             ],
             [
              0.1111111111111111,
              "#46039f"
             ],
             [
              0.2222222222222222,
              "#7201a8"
             ],
             [
              0.3333333333333333,
              "#9c179e"
             ],
             [
              0.4444444444444444,
              "#bd3786"
             ],
             [
              0.5555555555555556,
              "#d8576b"
             ],
             [
              0.6666666666666666,
              "#ed7953"
             ],
             [
              0.7777777777777778,
              "#fb9f3a"
             ],
             [
              0.8888888888888888,
              "#fdca26"
             ],
             [
              1,
              "#f0f921"
             ]
            ],
            "type": "contour"
           }
          ],
          "contourcarpet": [
           {
            "colorbar": {
             "outlinewidth": 0,
             "ticks": ""
            },
            "type": "contourcarpet"
           }
          ],
          "heatmap": [
           {
            "colorbar": {
             "outlinewidth": 0,
             "ticks": ""
            },
            "colorscale": [
             [
              0,
              "#0d0887"
             ],
             [
              0.1111111111111111,
              "#46039f"
             ],
             [
              0.2222222222222222,
              "#7201a8"
             ],
             [
              0.3333333333333333,
              "#9c179e"
             ],
             [
              0.4444444444444444,
              "#bd3786"
             ],
             [
              0.5555555555555556,
              "#d8576b"
             ],
             [
              0.6666666666666666,
              "#ed7953"
             ],
             [
              0.7777777777777778,
              "#fb9f3a"
             ],
             [
              0.8888888888888888,
              "#fdca26"
             ],
             [
              1,
              "#f0f921"
             ]
            ],
            "type": "heatmap"
           }
          ],
          "heatmapgl": [
           {
            "colorbar": {
             "outlinewidth": 0,
             "ticks": ""
            },
            "colorscale": [
             [
              0,
              "#0d0887"
             ],
             [
              0.1111111111111111,
              "#46039f"
             ],
             [
              0.2222222222222222,
              "#7201a8"
             ],
             [
              0.3333333333333333,
              "#9c179e"
             ],
             [
              0.4444444444444444,
              "#bd3786"
             ],
             [
              0.5555555555555556,
              "#d8576b"
             ],
             [
              0.6666666666666666,
              "#ed7953"
             ],
             [
              0.7777777777777778,
              "#fb9f3a"
             ],
             [
              0.8888888888888888,
              "#fdca26"
             ],
             [
              1,
              "#f0f921"
             ]
            ],
            "type": "heatmapgl"
           }
          ],
          "histogram": [
           {
            "marker": {
             "pattern": {
              "fillmode": "overlay",
              "size": 10,
              "solidity": 0.2
             }
            },
            "type": "histogram"
           }
          ],
          "histogram2d": [
           {
            "colorbar": {
             "outlinewidth": 0,
             "ticks": ""
            },
            "colorscale": [
             [
              0,
              "#0d0887"
             ],
             [
              0.1111111111111111,
              "#46039f"
             ],
             [
              0.2222222222222222,
              "#7201a8"
             ],
             [
              0.3333333333333333,
              "#9c179e"
             ],
             [
              0.4444444444444444,
              "#bd3786"
             ],
             [
              0.5555555555555556,
              "#d8576b"
             ],
             [
              0.6666666666666666,
              "#ed7953"
             ],
             [
              0.7777777777777778,
              "#fb9f3a"
             ],
             [
              0.8888888888888888,
              "#fdca26"
             ],
             [
              1,
              "#f0f921"
             ]
            ],
            "type": "histogram2d"
           }
          ],
          "histogram2dcontour": [
           {
            "colorbar": {
             "outlinewidth": 0,
             "ticks": ""
            },
            "colorscale": [
             [
              0,
              "#0d0887"
             ],
             [
              0.1111111111111111,
              "#46039f"
             ],
             [
              0.2222222222222222,
              "#7201a8"
             ],
             [
              0.3333333333333333,
              "#9c179e"
             ],
             [
              0.4444444444444444,
              "#bd3786"
             ],
             [
              0.5555555555555556,
              "#d8576b"
             ],
             [
              0.6666666666666666,
              "#ed7953"
             ],
             [
              0.7777777777777778,
              "#fb9f3a"
             ],
             [
              0.8888888888888888,
              "#fdca26"
             ],
             [
              1,
              "#f0f921"
             ]
            ],
            "type": "histogram2dcontour"
           }
          ],
          "mesh3d": [
           {
            "colorbar": {
             "outlinewidth": 0,
             "ticks": ""
            },
            "type": "mesh3d"
           }
          ],
          "parcoords": [
           {
            "line": {
             "colorbar": {
              "outlinewidth": 0,
              "ticks": ""
             }
            },
            "type": "parcoords"
           }
          ],
          "pie": [
           {
            "automargin": true,
            "type": "pie"
           }
          ],
          "scatter": [
           {
            "marker": {
             "line": {
              "color": "#283442"
             }
            },
            "type": "scatter"
           }
          ],
          "scatter3d": [
           {
            "line": {
             "colorbar": {
              "outlinewidth": 0,
              "ticks": ""
             }
            },
            "marker": {
             "colorbar": {
              "outlinewidth": 0,
              "ticks": ""
             }
            },
            "type": "scatter3d"
           }
          ],
          "scattercarpet": [
           {
            "marker": {
             "colorbar": {
              "outlinewidth": 0,
              "ticks": ""
             }
            },
            "type": "scattercarpet"
           }
          ],
          "scattergeo": [
           {
            "marker": {
             "colorbar": {
              "outlinewidth": 0,
              "ticks": ""
             }
            },
            "type": "scattergeo"
           }
          ],
          "scattergl": [
           {
            "marker": {
             "line": {
              "color": "#283442"
             }
            },
            "type": "scattergl"
           }
          ],
          "scattermapbox": [
           {
            "marker": {
             "colorbar": {
              "outlinewidth": 0,
              "ticks": ""
             }
            },
            "type": "scattermapbox"
           }
          ],
          "scatterpolar": [
           {
            "marker": {
             "colorbar": {
              "outlinewidth": 0,
              "ticks": ""
             }
            },
            "type": "scatterpolar"
           }
          ],
          "scatterpolargl": [
           {
            "marker": {
             "colorbar": {
              "outlinewidth": 0,
              "ticks": ""
             }
            },
            "type": "scatterpolargl"
           }
          ],
          "scatterternary": [
           {
            "marker": {
             "colorbar": {
              "outlinewidth": 0,
              "ticks": ""
             }
            },
            "type": "scatterternary"
           }
          ],
          "surface": [
           {
            "colorbar": {
             "outlinewidth": 0,
             "ticks": ""
            },
            "colorscale": [
             [
              0,
              "#0d0887"
             ],
             [
              0.1111111111111111,
              "#46039f"
             ],
             [
              0.2222222222222222,
              "#7201a8"
             ],
             [
              0.3333333333333333,
              "#9c179e"
             ],
             [
              0.4444444444444444,
              "#bd3786"
             ],
             [
              0.5555555555555556,
              "#d8576b"
             ],
             [
              0.6666666666666666,
              "#ed7953"
             ],
             [
              0.7777777777777778,
              "#fb9f3a"
             ],
             [
              0.8888888888888888,
              "#fdca26"
             ],
             [
              1,
              "#f0f921"
             ]
            ],
            "type": "surface"
           }
          ],
          "table": [
           {
            "cells": {
             "fill": {
              "color": "#506784"
             },
             "line": {
              "color": "rgb(17,17,17)"
             }
            },
            "header": {
             "fill": {
              "color": "#2a3f5f"
             },
             "line": {
              "color": "rgb(17,17,17)"
             }
            },
            "type": "table"
           }
          ]
         },
         "layout": {
          "annotationdefaults": {
           "arrowcolor": "#f2f5fa",
           "arrowhead": 0,
           "arrowwidth": 1
          },
          "autotypenumbers": "strict",
          "coloraxis": {
           "colorbar": {
            "outlinewidth": 0,
            "ticks": ""
           }
          },
          "colorscale": {
           "diverging": [
            [
             0,
             "#8e0152"
            ],
            [
             0.1,
             "#c51b7d"
            ],
            [
             0.2,
             "#de77ae"
            ],
            [
             0.3,
             "#f1b6da"
            ],
            [
             0.4,
             "#fde0ef"
            ],
            [
             0.5,
             "#f7f7f7"
            ],
            [
             0.6,
             "#e6f5d0"
            ],
            [
             0.7,
             "#b8e186"
            ],
            [
             0.8,
             "#7fbc41"
            ],
            [
             0.9,
             "#4d9221"
            ],
            [
             1,
             "#276419"
            ]
           ],
           "sequential": [
            [
             0,
             "#0d0887"
            ],
            [
             0.1111111111111111,
             "#46039f"
            ],
            [
             0.2222222222222222,
             "#7201a8"
            ],
            [
             0.3333333333333333,
             "#9c179e"
            ],
            [
             0.4444444444444444,
             "#bd3786"
            ],
            [
             0.5555555555555556,
             "#d8576b"
            ],
            [
             0.6666666666666666,
             "#ed7953"
            ],
            [
             0.7777777777777778,
             "#fb9f3a"
            ],
            [
             0.8888888888888888,
             "#fdca26"
            ],
            [
             1,
             "#f0f921"
            ]
           ],
           "sequentialminus": [
            [
             0,
             "#0d0887"
            ],
            [
             0.1111111111111111,
             "#46039f"
            ],
            [
             0.2222222222222222,
             "#7201a8"
            ],
            [
             0.3333333333333333,
             "#9c179e"
            ],
            [
             0.4444444444444444,
             "#bd3786"
            ],
            [
             0.5555555555555556,
             "#d8576b"
            ],
            [
             0.6666666666666666,
             "#ed7953"
            ],
            [
             0.7777777777777778,
             "#fb9f3a"
            ],
            [
             0.8888888888888888,
             "#fdca26"
            ],
            [
             1,
             "#f0f921"
            ]
           ]
          },
          "colorway": [
           "#636efa",
           "#EF553B",
           "#00cc96",
           "#ab63fa",
           "#FFA15A",
           "#19d3f3",
           "#FF6692",
           "#B6E880",
           "#FF97FF",
           "#FECB52"
          ],
          "font": {
           "color": "#f2f5fa"
          },
          "geo": {
           "bgcolor": "rgb(17,17,17)",
           "lakecolor": "rgb(17,17,17)",
           "landcolor": "rgb(17,17,17)",
           "showlakes": true,
           "showland": true,
           "subunitcolor": "#506784"
          },
          "hoverlabel": {
           "align": "left"
          },
          "hovermode": "closest",
          "mapbox": {
           "style": "dark"
          },
          "paper_bgcolor": "rgb(17,17,17)",
          "plot_bgcolor": "rgb(17,17,17)",
          "polar": {
           "angularaxis": {
            "gridcolor": "#506784",
            "linecolor": "#506784",
            "ticks": ""
           },
           "bgcolor": "rgb(17,17,17)",
           "radialaxis": {
            "gridcolor": "#506784",
            "linecolor": "#506784",
            "ticks": ""
           }
          },
          "scene": {
           "xaxis": {
            "backgroundcolor": "rgb(17,17,17)",
            "gridcolor": "#506784",
            "gridwidth": 2,
            "linecolor": "#506784",
            "showbackground": true,
            "ticks": "",
            "zerolinecolor": "#C8D4E3"
           },
           "yaxis": {
            "backgroundcolor": "rgb(17,17,17)",
            "gridcolor": "#506784",
            "gridwidth": 2,
            "linecolor": "#506784",
            "showbackground": true,
            "ticks": "",
            "zerolinecolor": "#C8D4E3"
           },
           "zaxis": {
            "backgroundcolor": "rgb(17,17,17)",
            "gridcolor": "#506784",
            "gridwidth": 2,
            "linecolor": "#506784",
            "showbackground": true,
            "ticks": "",
            "zerolinecolor": "#C8D4E3"
           }
          },
          "shapedefaults": {
           "line": {
            "color": "#f2f5fa"
           }
          },
          "sliderdefaults": {
           "bgcolor": "#C8D4E3",
           "bordercolor": "rgb(17,17,17)",
           "borderwidth": 1,
           "tickwidth": 0
          },
          "ternary": {
           "aaxis": {
            "gridcolor": "#506784",
            "linecolor": "#506784",
            "ticks": ""
           },
           "baxis": {
            "gridcolor": "#506784",
            "linecolor": "#506784",
            "ticks": ""
           },
           "bgcolor": "rgb(17,17,17)",
           "caxis": {
            "gridcolor": "#506784",
            "linecolor": "#506784",
            "ticks": ""
           }
          },
          "title": {
           "x": 0.05
          },
          "updatemenudefaults": {
           "bgcolor": "#506784",
           "borderwidth": 0
          },
          "xaxis": {
           "automargin": true,
           "gridcolor": "#283442",
           "linecolor": "#506784",
           "ticks": "",
           "title": {
            "standoff": 15
           },
           "zerolinecolor": "#283442",
           "zerolinewidth": 2
          },
          "yaxis": {
           "automargin": true,
           "gridcolor": "#283442",
           "linecolor": "#506784",
           "ticks": "",
           "title": {
            "standoff": 15
           },
           "zerolinecolor": "#283442",
           "zerolinewidth": 2
          }
         }
        },
        "title": {
         "text": "Most similar words to words"
        },
        "width": 1000
       }
      }
     },
     "metadata": {},
     "output_type": "display_data"
    },
    {
     "name": "stdout",
     "output_type": "stream",
     "text": [
      "['disneyland', 'disneyworld']\n"
     ]
    }
   ],
   "source": [
    "# Visualize the words with the most similar words to them (top 10)\n",
    "import plotly.express as px\n",
    "\n",
    "from sklearn.decomposition import PCA\n",
    "\n",
    "WORD_AMOUNT = 25\n",
    "\n",
    "\n",
    "\n",
    "def visualize(words):\n",
    "    similar_words = []\n",
    "    for word in words:\n",
    "        _ = []\n",
    "        for similar_word in model.wv.most_similar(word, topn=WORD_AMOUNT):\n",
    "            _.append(similar_word[0])\n",
    "        similar_words.append(_[:])\n",
    "    # Visualize the similar_words with the most similar words to them (top 10), for each word choose a color\n",
    "    colors_list = ['red', 'green', 'blue', 'yellow', 'orange', 'purple', 'pink', 'brown', 'black', 'gray']\n",
    "    colors_list = colors_list[:len(similar_words)]\n",
    "    colors = []\n",
    "    vectors = []\n",
    "    for i, word in enumerate(words):\n",
    "        for similar_word in similar_words[i]:\n",
    "            vectors.append(model.wv[similar_word])\n",
    "            colors.append(colors_list[i])\n",
    "    vectors = PCA(n_components=3).fit_transform(vectors)\n",
    "    vectors = pd.DataFrame(vectors, columns=['x', 'y', 'z'])\n",
    "    vectors['colors'] = colors\n",
    "    vectors['words'] = [word for similar_words in similar_words for word in similar_words]\n",
    "    # Add to data of dot, the basic word (the word that we searched similar words to)\n",
    "    fig = px.scatter_3d(vectors, x='x', y='y', z='z', color='colors', width=1000, height=1000, title='Most similar words to words', opacity=0.5, color_discrete_sequence=colors_list, template='plotly_dark', labels={'x': 'x', 'y': 'y', 'z': 'z'}, hover_name='words')\n",
    "    \n",
    "    for i, word in enumerate(words):\n",
    "        fig.data[i].name = word\n",
    "    fig.show()\n",
    "    \n",
    "\n",
    "visualize(words)\n",
    "print(words)"
   ]
  },
  {
   "cell_type": "markdown",
   "metadata": {},
   "source": [
    "Что можно заметить:\n",
    "\n",
    "disneyland и disneyworld применяется чаще всего в одном и том же значении, так как находятся рядом друг с другом, а также что при удалении повторяющихся значений, исчезло 11 значений"
   ]
  },
  {
   "cell_type": "code",
   "execution_count": 175,
   "metadata": {},
   "outputs": [
    {
     "name": "stdout",
     "output_type": "stream",
     "text": [
      "Most similar words to \"find\":\n",
      "('locate', 0.6161383390426636)\n",
      "('found', 0.5993202328681946)\n",
      "('finding', 0.5772181153297424)\n",
      "('navigate', 0.5159398317337036)\n",
      "('figure', 0.498564213514328)\n",
      "('notice', 0.4847654700279236)\n",
      "('maneuver', 0.4822237193584442)\n",
      "('get', 0.47600218653678894)\n",
      "('negotiate', 0.45245227217674255)\n",
      "('pressed', 0.45240479707717896)\n",
      "\n",
      "Most similar words to \"fun\":\n",
      "('enjoyable', 0.6294865608215332)\n",
      "('exciting', 0.6286556720733643)\n",
      "('enjoy', 0.6129305958747864)\n",
      "('great', 0.5933736562728882)\n",
      "('love', 0.5819599628448486)\n",
      "('enjoyed', 0.5752015113830566)\n",
      "('awesome', 0.5579339265823364)\n",
      "('enjoys', 0.5484433174133301)\n",
      "('loved', 0.5320765376091003)\n",
      "('wonderful', 0.5300375819206238)\n",
      "\n",
      "Most similar words to \"anywhere\":\n",
      "('somewhere', 0.6765646934509277)\n",
      "('anything', 0.635578989982605)\n",
      "('nowhere', 0.566463053226471)\n",
      "('anyplace', 0.491852730512619)\n",
      "('everywhere', 0.46310943365097046)\n",
      "('someplace', 0.43023309111595154)\n",
      "('someone', 0.4250892698764801)\n",
      "('something', 0.3966165781021118)\n",
      "('nothing', 0.39199915528297424)\n",
      "('wherever', 0.3825058341026306)\n",
      "\n",
      "Most similar words to \"lost\":\n",
      "('stolen', 0.4930783808231354)\n",
      "('losing', 0.4845249354839325)\n",
      "('loses', 0.4552256464958191)\n",
      "('destroyed', 0.45103493332862854)\n",
      "('retains', 0.44094836711883545)\n",
      "('absent', 0.4233859181404114)\n",
      "('slipped', 0.4219069480895996)\n",
      "('disbelief', 0.42126497626304626)\n",
      "('evaporated', 0.41956570744514465)\n",
      "('powerful', 0.40825220942497253)\n",
      "\n"
     ]
    },
    {
     "data": {
      "application/vnd.plotly.v1+json": {
       "config": {
        "plotlyServerURL": "https://plot.ly"
       },
       "data": [
        {
         "hovertemplate": "<b>%{hovertext}</b><br><br>colors=red<br>x=%{x}<br>y=%{y}<br>z=%{z}<extra></extra>",
         "hovertext": [
          "locate",
          "found",
          "finding",
          "navigate",
          "figure",
          "notice",
          "maneuver",
          "get",
          "negotiate",
          "pressed",
          "pick",
          "explain",
          "predict",
          "understand",
          "follow",
          "tell",
          "crashed",
          "resist",
          "see",
          "eat",
          "cram",
          "fit",
          "sell",
          "sort",
          "either"
         ],
         "legendgroup": "red",
         "marker": {
          "color": "red",
          "opacity": 0.5,
          "symbol": "circle"
         },
         "mode": "markers",
         "name": "find",
         "scene": "scene",
         "showlegend": true,
         "type": "scatter3d",
         "x": [
          -3.2067147584839284,
          -0.5337386682156172,
          -2.7973551812412283,
          -2.7291508421578903,
          -4.096570476560926,
          -1.8425599339310421,
          -2.9401426135573536,
          -4.393409530450314,
          -1.9337381986589097,
          -2.025615700714905,
          -3.1785812395073254,
          -4.17862089834801,
          -1.5611003836209718,
          -4.238089954152047,
          -4.352410360577125,
          -3.627486554953984,
          -1.1182931615243674,
          -1.6437471434467,
          2.4112634120678416,
          -3.2763100320276144,
          -1.1437092690948243,
          -1.5002598186280602,
          -5.961809223535931,
          -3.5504888264276686,
          -4.38731301007366
         ],
         "y": [
          -3.6961738524254732,
          -4.42358255061725,
          -3.2960845429120242,
          -7.369197135489064,
          -4.810640824750696,
          -3.8286087365611006,
          -2.657838731680355,
          -7.444460462318443,
          -2.1533887841390933,
          -0.65656088085585,
          -5.42455893790606,
          -3.654636026137909,
          -0.9247528014698354,
          -5.999390895439633,
          -6.6413351679138435,
          -4.984842426182292,
          -1.192114396661709,
          -1.6163205373063303,
          -6.316845884662601,
          -2.2113849818443176,
          -3.3083330416896826,
          -6.718976944148241,
          -5.43970721893718,
          -1.1628452295832938,
          -0.35678694553513046
         ],
         "z": [
          -0.2507774711015499,
          -0.8417191529871411,
          3.944351895038615,
          4.640832044383215,
          1.7173832407461516,
          0.3256866986080053,
          0.04907190546195182,
          6.085972513622812,
          -1.7699185096506815,
          -1.1196731020074677,
          2.843769122472696,
          -0.6255769151213154,
          -1.5007782616461827,
          2.504115357716195,
          0.8489469445292439,
          1.8688130501705655,
          -2.272378825862321,
          -0.7444463150576328,
          5.16080558903529,
          7.607220688376426,
          0.8047454543943187,
          3.0692205289500425,
          1.0233770890858502,
          0.04072261779711135,
          1.2247151203393496
         ]
        },
        {
         "hovertemplate": "<b>%{hovertext}</b><br><br>colors=green<br>x=%{x}<br>y=%{y}<br>z=%{z}<extra></extra>",
         "hovertext": [
          "enjoyable",
          "exciting",
          "enjoy",
          "great",
          "love",
          "enjoyed",
          "awesome",
          "enjoys",
          "loved",
          "wonderful",
          "thrilling",
          "enjoying",
          "oriented",
          "amazing",
          "fantastic",
          "blast",
          "interesting",
          "entertaining",
          "suitable",
          "magical",
          "there",
          "activity",
          "entertainment",
          "terrific",
          "fabulous"
         ],
         "legendgroup": "green",
         "marker": {
          "color": "green",
          "opacity": 0.5,
          "symbol": "circle"
         },
         "mode": "markers",
         "name": "fun",
         "scene": "scene",
         "showlegend": true,
         "type": "scatter3d",
         "x": [
          8.221407580418504,
          6.637709251306244,
          6.913639115296192,
          9.657797111508177,
          9.62292805461979,
          15.613610984598028,
          9.388906493013218,
          4.442845340871314,
          14.184630129474398,
          10.663347804104582,
          5.2248412729566125,
          5.510122967874993,
          3.0980774824354333,
          11.327083908028595,
          10.64809048814828,
          7.677345649500535,
          4.248168488634954,
          6.190436318954656,
          6.07952549035244,
          10.64788661857558,
          1.451119584624172,
          2.8406774500858396,
          4.544061093097215,
          5.352471198083695,
          8.060894708611999
         ],
         "y": [
          1.3501100827612862,
          1.0973582695164892,
          -2.8843238976250913,
          0.5467736336995297,
          0.2531440294314643,
          -0.9909552951382284,
          0.41822096737213077,
          0.280262804402485,
          -1.838287684358781,
          2.211018311886297,
          1.574105190108401,
          1.5025935398224368,
          0.723532822865829,
          1.9365995515125336,
          1.3397711521889324,
          0.09280930428348101,
          -0.8835279449731435,
          0.8350246576097413,
          -0.7241258162002258,
          3.7841616275916716,
          -0.6258002432872932,
          -0.3080351296864785,
          1.4185806499481695,
          -0.5188895853072012,
          0.45121142879326376
         ],
         "z": [
          0.8216479743863756,
          1.0799759861802656,
          5.496332155007671,
          2.653052576518697,
          1.4848794743445048,
          -1.9221985939408952,
          1.2056185752220547,
          -2.16667177918116,
          -1.1190599816604985,
          0.6256754375030297,
          0.25881844444545143,
          0.5802961933813764,
          -1.363899146366077,
          1.7983358240481533,
          0.8736828538699217,
          -1.925168593967729,
          0.909729539352568,
          -0.897590507697656,
          2.973338928414511,
          2.4288028796552665,
          3.4834929848272953,
          4.318587365659857,
          1.5082405817239783,
          -0.6368600357421002,
          0.22101271929339728
         ]
        },
        {
         "hovertemplate": "<b>%{hovertext}</b><br><br>colors=blue<br>x=%{x}<br>y=%{y}<br>z=%{z}<extra></extra>",
         "hovertext": [
          "somewhere",
          "anything",
          "nowhere",
          "anyplace",
          "everywhere",
          "someplace",
          "someone",
          "something",
          "nothing",
          "wherever",
          "rubbing",
          "anyone",
          "anybody",
          "impossible",
          "either",
          "anymore",
          "ban",
          "everything",
          "possibly",
          "smoker",
          "overflowing",
          "somebody",
          "difficult",
          "stand",
          "struggle"
         ],
         "legendgroup": "blue",
         "marker": {
          "color": "blue",
          "opacity": 0.5,
          "symbol": "circle"
         },
         "mode": "markers",
         "name": "anywhere",
         "scene": "scene",
         "showlegend": true,
         "type": "scatter3d",
         "x": [
          -7.751412539786573,
          -6.367827410030505,
          -5.930721008540046,
          -1.500644442895339,
          -3.8140843433434566,
          -1.6948317049848187,
          -8.788837933096323,
          -1.2060247936758157,
          -2.0396674729589845,
          -4.336477653820017,
          -1.3823696666507144,
          -3.96926493886,
          -4.178854154055236,
          -3.8873890583632535,
          -4.38731301007366,
          -3.687509127858498,
          -3.822882330537396,
          -0.7042664625723666,
          -2.081082579562692,
          -5.72360930836846,
          -3.5547559057828693,
          -3.8262180955765874,
          -3.081219856871166,
          -6.002485390028594,
          -1.744215884601378
         ],
         "y": [
          9.299606739183838,
          6.073309961979064,
          9.009936745069163,
          1.123243907541341,
          3.6614698480527914,
          1.9024998120956211,
          5.421592423082262,
          8.455515628697713,
          8.600146635668644,
          1.8549421210158588,
          0.18469863146307,
          5.20421797292683,
          2.9333235670590434,
          5.056838388923913,
          -0.3567869455351305,
          1.6186910720715468,
          0.5591528938024273,
          5.612213073744258,
          0.07302518939346202,
          0.8228285432658341,
          0.846154842169378,
          2.1265195708332256,
          4.56615231599457,
          -1.2716464230486948,
          2.0514920540885337
         ],
         "z": [
          4.98570545341839,
          4.757170330795863,
          -1.7123938533384564,
          -1.891630995391595,
          1.7064735769411858,
          -1.3742212989530485,
          1.3238958075889917,
          5.6097569951054895,
          1.8639658039210436,
          -0.20180021564318595,
          -2.1854031913141974,
          4.810317573045273,
          0.5507423231547333,
          1.3181240774198544,
          1.2247151203393498,
          1.5234838326184494,
          -2.5646314077642947,
          7.578228846603614,
          1.8760126946592042,
          -1.2404065147598968,
          -3.2360862471998892,
          -1.72708621200811,
          1.632002223833207,
          4.1718652443189805,
          -0.36592267791716215
         ]
        },
        {
         "hovertemplate": "<b>%{hovertext}</b><br><br>colors=yellow<br>x=%{x}<br>y=%{y}<br>z=%{z}<extra></extra>",
         "hovertext": [
          "stolen",
          "losing",
          "loses",
          "destroyed",
          "retains",
          "absent",
          "slipped",
          "disbelief",
          "evaporated",
          "powerful",
          "recovered",
          "swept",
          "upset",
          "annoyed",
          "diminished",
          "rectify",
          "died",
          "sprinkled",
          "blank",
          "naff",
          "aura",
          "caught",
          "againas",
          "successfully",
          "disappears"
         ],
         "legendgroup": "yellow",
         "marker": {
          "color": "yellow",
          "opacity": 0.5,
          "symbol": "circle"
         },
         "mode": "markers",
         "name": "lost",
         "scene": "scene",
         "showlegend": true,
         "type": "scatter3d",
         "x": [
          -2.6142354276870785,
          -1.9743260524275525,
          -0.7372913408565044,
          -0.7020685280035284,
          0.04608344408632334,
          -1.1142197818430721,
          -0.6183957847234474,
          -1.322821348982478,
          -0.7971264942097592,
          -1.009323815023025,
          -0.8555587072195012,
          -0.5375438886771022,
          -1.6259859488823825,
          -2.7791506060936584,
          -0.25904385838639404,
          -1.3055526585069117,
          -1.1934191855874425,
          -0.5592438764531931,
          -1.7565943503653683,
          -0.7868012129172313,
          -0.256778247468065,
          0.7851268232106775,
          -0.7321649019876924,
          -1.348795830172587,
          -0.9224755652811714
         ],
         "y": [
          -1.1543102847921891,
          -0.06283818573810347,
          0.46949718043490263,
          -0.015286232218509287,
          0.38330743560869895,
          -0.3479620277619019,
          -0.04247881381466526,
          0.18187349723247737,
          -0.3494921430160209,
          -0.43936832318438135,
          -0.5125488753561414,
          -0.25285329695219666,
          2.794954026965425,
          1.39895011313335,
          0.20769941162162,
          -0.6014854894358923,
          0.028645976981254862,
          -0.5218965126513749,
          0.42864561840726667,
          0.20129936402758652,
          -0.01961713877946965,
          -2.5726673285211294,
          0.2281360407344498,
          0.21146610678624436,
          0.17722682069985843
         ],
         "z": [
          -6.258808144722785,
          -2.0441529196459083,
          -3.5695835767324042,
          -3.850192476926009,
          -3.528937980110326,
          -3.2383798840815263,
          -3.4648512318208087,
          -2.997944246280602,
          -2.6959300428655566,
          -2.999992066899158,
          -3.046131492352543,
          -4.314859940312901,
          -4.211097007202672,
          -4.000383082425722,
          -3.3783321442087013,
          -2.7481256469457156,
          -3.9464177514733882,
          -3.3103547494322143,
          -3.7198305905296336,
          -2.434972769497756,
          -2.9741498173746126,
          -5.195113759766974,
          -2.2464859780112687,
          -2.968320587046609,
          -2.6140825653798077
         ]
        }
       ],
       "layout": {
        "height": 1000,
        "legend": {
         "title": {
          "text": "colors"
         },
         "tracegroupgap": 0
        },
        "scene": {
         "domain": {
          "x": [
           0,
           1
          ],
          "y": [
           0,
           1
          ]
         },
         "xaxis": {
          "title": {
           "text": "x"
          }
         },
         "yaxis": {
          "title": {
           "text": "y"
          }
         },
         "zaxis": {
          "title": {
           "text": "z"
          }
         }
        },
        "template": {
         "data": {
          "bar": [
           {
            "error_x": {
             "color": "#f2f5fa"
            },
            "error_y": {
             "color": "#f2f5fa"
            },
            "marker": {
             "line": {
              "color": "rgb(17,17,17)",
              "width": 0.5
             },
             "pattern": {
              "fillmode": "overlay",
              "size": 10,
              "solidity": 0.2
             }
            },
            "type": "bar"
           }
          ],
          "barpolar": [
           {
            "marker": {
             "line": {
              "color": "rgb(17,17,17)",
              "width": 0.5
             },
             "pattern": {
              "fillmode": "overlay",
              "size": 10,
              "solidity": 0.2
             }
            },
            "type": "barpolar"
           }
          ],
          "carpet": [
           {
            "aaxis": {
             "endlinecolor": "#A2B1C6",
             "gridcolor": "#506784",
             "linecolor": "#506784",
             "minorgridcolor": "#506784",
             "startlinecolor": "#A2B1C6"
            },
            "baxis": {
             "endlinecolor": "#A2B1C6",
             "gridcolor": "#506784",
             "linecolor": "#506784",
             "minorgridcolor": "#506784",
             "startlinecolor": "#A2B1C6"
            },
            "type": "carpet"
           }
          ],
          "choropleth": [
           {
            "colorbar": {
             "outlinewidth": 0,
             "ticks": ""
            },
            "type": "choropleth"
           }
          ],
          "contour": [
           {
            "colorbar": {
             "outlinewidth": 0,
             "ticks": ""
            },
            "colorscale": [
             [
              0,
              "#0d0887"
             ],
             [
              0.1111111111111111,
              "#46039f"
             ],
             [
              0.2222222222222222,
              "#7201a8"
             ],
             [
              0.3333333333333333,
              "#9c179e"
             ],
             [
              0.4444444444444444,
              "#bd3786"
             ],
             [
              0.5555555555555556,
              "#d8576b"
             ],
             [
              0.6666666666666666,
              "#ed7953"
             ],
             [
              0.7777777777777778,
              "#fb9f3a"
             ],
             [
              0.8888888888888888,
              "#fdca26"
             ],
             [
              1,
              "#f0f921"
             ]
            ],
            "type": "contour"
           }
          ],
          "contourcarpet": [
           {
            "colorbar": {
             "outlinewidth": 0,
             "ticks": ""
            },
            "type": "contourcarpet"
           }
          ],
          "heatmap": [
           {
            "colorbar": {
             "outlinewidth": 0,
             "ticks": ""
            },
            "colorscale": [
             [
              0,
              "#0d0887"
             ],
             [
              0.1111111111111111,
              "#46039f"
             ],
             [
              0.2222222222222222,
              "#7201a8"
             ],
             [
              0.3333333333333333,
              "#9c179e"
             ],
             [
              0.4444444444444444,
              "#bd3786"
             ],
             [
              0.5555555555555556,
              "#d8576b"
             ],
             [
              0.6666666666666666,
              "#ed7953"
             ],
             [
              0.7777777777777778,
              "#fb9f3a"
             ],
             [
              0.8888888888888888,
              "#fdca26"
             ],
             [
              1,
              "#f0f921"
             ]
            ],
            "type": "heatmap"
           }
          ],
          "heatmapgl": [
           {
            "colorbar": {
             "outlinewidth": 0,
             "ticks": ""
            },
            "colorscale": [
             [
              0,
              "#0d0887"
             ],
             [
              0.1111111111111111,
              "#46039f"
             ],
             [
              0.2222222222222222,
              "#7201a8"
             ],
             [
              0.3333333333333333,
              "#9c179e"
             ],
             [
              0.4444444444444444,
              "#bd3786"
             ],
             [
              0.5555555555555556,
              "#d8576b"
             ],
             [
              0.6666666666666666,
              "#ed7953"
             ],
             [
              0.7777777777777778,
              "#fb9f3a"
             ],
             [
              0.8888888888888888,
              "#fdca26"
             ],
             [
              1,
              "#f0f921"
             ]
            ],
            "type": "heatmapgl"
           }
          ],
          "histogram": [
           {
            "marker": {
             "pattern": {
              "fillmode": "overlay",
              "size": 10,
              "solidity": 0.2
             }
            },
            "type": "histogram"
           }
          ],
          "histogram2d": [
           {
            "colorbar": {
             "outlinewidth": 0,
             "ticks": ""
            },
            "colorscale": [
             [
              0,
              "#0d0887"
             ],
             [
              0.1111111111111111,
              "#46039f"
             ],
             [
              0.2222222222222222,
              "#7201a8"
             ],
             [
              0.3333333333333333,
              "#9c179e"
             ],
             [
              0.4444444444444444,
              "#bd3786"
             ],
             [
              0.5555555555555556,
              "#d8576b"
             ],
             [
              0.6666666666666666,
              "#ed7953"
             ],
             [
              0.7777777777777778,
              "#fb9f3a"
             ],
             [
              0.8888888888888888,
              "#fdca26"
             ],
             [
              1,
              "#f0f921"
             ]
            ],
            "type": "histogram2d"
           }
          ],
          "histogram2dcontour": [
           {
            "colorbar": {
             "outlinewidth": 0,
             "ticks": ""
            },
            "colorscale": [
             [
              0,
              "#0d0887"
             ],
             [
              0.1111111111111111,
              "#46039f"
             ],
             [
              0.2222222222222222,
              "#7201a8"
             ],
             [
              0.3333333333333333,
              "#9c179e"
             ],
             [
              0.4444444444444444,
              "#bd3786"
             ],
             [
              0.5555555555555556,
              "#d8576b"
             ],
             [
              0.6666666666666666,
              "#ed7953"
             ],
             [
              0.7777777777777778,
              "#fb9f3a"
             ],
             [
              0.8888888888888888,
              "#fdca26"
             ],
             [
              1,
              "#f0f921"
             ]
            ],
            "type": "histogram2dcontour"
           }
          ],
          "mesh3d": [
           {
            "colorbar": {
             "outlinewidth": 0,
             "ticks": ""
            },
            "type": "mesh3d"
           }
          ],
          "parcoords": [
           {
            "line": {
             "colorbar": {
              "outlinewidth": 0,
              "ticks": ""
             }
            },
            "type": "parcoords"
           }
          ],
          "pie": [
           {
            "automargin": true,
            "type": "pie"
           }
          ],
          "scatter": [
           {
            "marker": {
             "line": {
              "color": "#283442"
             }
            },
            "type": "scatter"
           }
          ],
          "scatter3d": [
           {
            "line": {
             "colorbar": {
              "outlinewidth": 0,
              "ticks": ""
             }
            },
            "marker": {
             "colorbar": {
              "outlinewidth": 0,
              "ticks": ""
             }
            },
            "type": "scatter3d"
           }
          ],
          "scattercarpet": [
           {
            "marker": {
             "colorbar": {
              "outlinewidth": 0,
              "ticks": ""
             }
            },
            "type": "scattercarpet"
           }
          ],
          "scattergeo": [
           {
            "marker": {
             "colorbar": {
              "outlinewidth": 0,
              "ticks": ""
             }
            },
            "type": "scattergeo"
           }
          ],
          "scattergl": [
           {
            "marker": {
             "line": {
              "color": "#283442"
             }
            },
            "type": "scattergl"
           }
          ],
          "scattermapbox": [
           {
            "marker": {
             "colorbar": {
              "outlinewidth": 0,
              "ticks": ""
             }
            },
            "type": "scattermapbox"
           }
          ],
          "scatterpolar": [
           {
            "marker": {
             "colorbar": {
              "outlinewidth": 0,
              "ticks": ""
             }
            },
            "type": "scatterpolar"
           }
          ],
          "scatterpolargl": [
           {
            "marker": {
             "colorbar": {
              "outlinewidth": 0,
              "ticks": ""
             }
            },
            "type": "scatterpolargl"
           }
          ],
          "scatterternary": [
           {
            "marker": {
             "colorbar": {
              "outlinewidth": 0,
              "ticks": ""
             }
            },
            "type": "scatterternary"
           }
          ],
          "surface": [
           {
            "colorbar": {
             "outlinewidth": 0,
             "ticks": ""
            },
            "colorscale": [
             [
              0,
              "#0d0887"
             ],
             [
              0.1111111111111111,
              "#46039f"
             ],
             [
              0.2222222222222222,
              "#7201a8"
             ],
             [
              0.3333333333333333,
              "#9c179e"
             ],
             [
              0.4444444444444444,
              "#bd3786"
             ],
             [
              0.5555555555555556,
              "#d8576b"
             ],
             [
              0.6666666666666666,
              "#ed7953"
             ],
             [
              0.7777777777777778,
              "#fb9f3a"
             ],
             [
              0.8888888888888888,
              "#fdca26"
             ],
             [
              1,
              "#f0f921"
             ]
            ],
            "type": "surface"
           }
          ],
          "table": [
           {
            "cells": {
             "fill": {
              "color": "#506784"
             },
             "line": {
              "color": "rgb(17,17,17)"
             }
            },
            "header": {
             "fill": {
              "color": "#2a3f5f"
             },
             "line": {
              "color": "rgb(17,17,17)"
             }
            },
            "type": "table"
           }
          ]
         },
         "layout": {
          "annotationdefaults": {
           "arrowcolor": "#f2f5fa",
           "arrowhead": 0,
           "arrowwidth": 1
          },
          "autotypenumbers": "strict",
          "coloraxis": {
           "colorbar": {
            "outlinewidth": 0,
            "ticks": ""
           }
          },
          "colorscale": {
           "diverging": [
            [
             0,
             "#8e0152"
            ],
            [
             0.1,
             "#c51b7d"
            ],
            [
             0.2,
             "#de77ae"
            ],
            [
             0.3,
             "#f1b6da"
            ],
            [
             0.4,
             "#fde0ef"
            ],
            [
             0.5,
             "#f7f7f7"
            ],
            [
             0.6,
             "#e6f5d0"
            ],
            [
             0.7,
             "#b8e186"
            ],
            [
             0.8,
             "#7fbc41"
            ],
            [
             0.9,
             "#4d9221"
            ],
            [
             1,
             "#276419"
            ]
           ],
           "sequential": [
            [
             0,
             "#0d0887"
            ],
            [
             0.1111111111111111,
             "#46039f"
            ],
            [
             0.2222222222222222,
             "#7201a8"
            ],
            [
             0.3333333333333333,
             "#9c179e"
            ],
            [
             0.4444444444444444,
             "#bd3786"
            ],
            [
             0.5555555555555556,
             "#d8576b"
            ],
            [
             0.6666666666666666,
             "#ed7953"
            ],
            [
             0.7777777777777778,
             "#fb9f3a"
            ],
            [
             0.8888888888888888,
             "#fdca26"
            ],
            [
             1,
             "#f0f921"
            ]
           ],
           "sequentialminus": [
            [
             0,
             "#0d0887"
            ],
            [
             0.1111111111111111,
             "#46039f"
            ],
            [
             0.2222222222222222,
             "#7201a8"
            ],
            [
             0.3333333333333333,
             "#9c179e"
            ],
            [
             0.4444444444444444,
             "#bd3786"
            ],
            [
             0.5555555555555556,
             "#d8576b"
            ],
            [
             0.6666666666666666,
             "#ed7953"
            ],
            [
             0.7777777777777778,
             "#fb9f3a"
            ],
            [
             0.8888888888888888,
             "#fdca26"
            ],
            [
             1,
             "#f0f921"
            ]
           ]
          },
          "colorway": [
           "#636efa",
           "#EF553B",
           "#00cc96",
           "#ab63fa",
           "#FFA15A",
           "#19d3f3",
           "#FF6692",
           "#B6E880",
           "#FF97FF",
           "#FECB52"
          ],
          "font": {
           "color": "#f2f5fa"
          },
          "geo": {
           "bgcolor": "rgb(17,17,17)",
           "lakecolor": "rgb(17,17,17)",
           "landcolor": "rgb(17,17,17)",
           "showlakes": true,
           "showland": true,
           "subunitcolor": "#506784"
          },
          "hoverlabel": {
           "align": "left"
          },
          "hovermode": "closest",
          "mapbox": {
           "style": "dark"
          },
          "paper_bgcolor": "rgb(17,17,17)",
          "plot_bgcolor": "rgb(17,17,17)",
          "polar": {
           "angularaxis": {
            "gridcolor": "#506784",
            "linecolor": "#506784",
            "ticks": ""
           },
           "bgcolor": "rgb(17,17,17)",
           "radialaxis": {
            "gridcolor": "#506784",
            "linecolor": "#506784",
            "ticks": ""
           }
          },
          "scene": {
           "xaxis": {
            "backgroundcolor": "rgb(17,17,17)",
            "gridcolor": "#506784",
            "gridwidth": 2,
            "linecolor": "#506784",
            "showbackground": true,
            "ticks": "",
            "zerolinecolor": "#C8D4E3"
           },
           "yaxis": {
            "backgroundcolor": "rgb(17,17,17)",
            "gridcolor": "#506784",
            "gridwidth": 2,
            "linecolor": "#506784",
            "showbackground": true,
            "ticks": "",
            "zerolinecolor": "#C8D4E3"
           },
           "zaxis": {
            "backgroundcolor": "rgb(17,17,17)",
            "gridcolor": "#506784",
            "gridwidth": 2,
            "linecolor": "#506784",
            "showbackground": true,
            "ticks": "",
            "zerolinecolor": "#C8D4E3"
           }
          },
          "shapedefaults": {
           "line": {
            "color": "#f2f5fa"
           }
          },
          "sliderdefaults": {
           "bgcolor": "#C8D4E3",
           "bordercolor": "rgb(17,17,17)",
           "borderwidth": 1,
           "tickwidth": 0
          },
          "ternary": {
           "aaxis": {
            "gridcolor": "#506784",
            "linecolor": "#506784",
            "ticks": ""
           },
           "baxis": {
            "gridcolor": "#506784",
            "linecolor": "#506784",
            "ticks": ""
           },
           "bgcolor": "rgb(17,17,17)",
           "caxis": {
            "gridcolor": "#506784",
            "linecolor": "#506784",
            "ticks": ""
           }
          },
          "title": {
           "x": 0.05
          },
          "updatemenudefaults": {
           "bgcolor": "#506784",
           "borderwidth": 0
          },
          "xaxis": {
           "automargin": true,
           "gridcolor": "#283442",
           "linecolor": "#506784",
           "ticks": "",
           "title": {
            "standoff": 15
           },
           "zerolinecolor": "#283442",
           "zerolinewidth": 2
          },
          "yaxis": {
           "automargin": true,
           "gridcolor": "#283442",
           "linecolor": "#506784",
           "ticks": "",
           "title": {
            "standoff": 15
           },
           "zerolinecolor": "#283442",
           "zerolinewidth": 2
          }
         }
        },
        "title": {
         "text": "Most similar words to words"
        },
        "width": 1000
       }
      }
     },
     "metadata": {},
     "output_type": "display_data"
    }
   ],
   "source": [
    "words_ = [\"find\",\"fun\",\"anywhere\",\"lost\"]\n",
    "\n",
    "print_most_similar_words(words_)\n",
    "visualize(words_)"
   ]
  },
  {
   "cell_type": "code",
   "execution_count": null,
   "metadata": {},
   "outputs": [],
   "source": []
  },
  {
   "cell_type": "markdown",
   "metadata": {},
   "source": [
    "find и lost находятся рядом с друг другом, так как часто используются в одном и том же контексте\n",
    "В то время как слова похожие на anywhere похожи друг на друга, но не похожи на слова похожие на find и lost"
   ]
  }
 ],
 "metadata": {
  "kernelspec": {
   "display_name": "Python 3 (ipykernel)",
   "language": "python",
   "name": "python3"
  },
  "language_info": {
   "codemirror_mode": {
    "name": "ipython",
    "version": 3
   },
   "file_extension": ".py",
   "mimetype": "text/x-python",
   "name": "python",
   "nbconvert_exporter": "python",
   "pygments_lexer": "ipython3",
   "version": "3.11.3"
  }
 },
 "nbformat": 4,
 "nbformat_minor": 2
}
